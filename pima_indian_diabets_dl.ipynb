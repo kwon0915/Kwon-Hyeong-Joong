{
  "nbformat": 4,
  "nbformat_minor": 0,
  "metadata": {
    "colab": {
      "name": "pima_indian_diabets_dl.ipynb",
      "provenance": [],
      "collapsed_sections": [],
      "authorship_tag": "ABX9TyOi+JnqRB1bsmnU6oq1nf2k",
      "include_colab_link": true
    },
    "kernelspec": {
      "name": "python3",
      "display_name": "Python 3"
    }
  },
  "cells": [
    {
      "cell_type": "markdown",
      "metadata": {
        "id": "view-in-github",
        "colab_type": "text"
      },
      "source": [
        "<a href=\"https://colab.research.google.com/github/kwon0915/Kwon-Hyeong-Joong/blob/master/pima_indian_diabets_dl.ipynb\" target=\"_parent\"><img src=\"https://colab.research.google.com/assets/colab-badge.svg\" alt=\"Open In Colab\"/></a>"
      ]
    },
    {
      "cell_type": "code",
      "metadata": {
        "id": "qpq8cU9WIgHn"
      },
      "source": [
        "import pandas as pd\r\n",
        "import numpy as np\r\n",
        "import matplotlib.pyplot as plt\r\n",
        "import seaborn as sns\r\n",
        "\r\n",
        "from sklearn.ensemble import RandomForestClassifier\r\n",
        "from sklearn.metrics import confusion_matrix, accuracy_score, f1_score, roc_auc_score, precision_score, recall_score, roc_curve, classification_report, precision_recall_curve\r\n",
        "from sklearn.preprocessing import StandardScaler, MinMaxScaler, RobustScaler, Binarizer, OneHotEncoder, LabelEncoder\r\n",
        "from sklearn.model_selection import train_test_split, cross_val_score, GridSearchCV, KFold\r\n",
        "\r\n",
        "import tensorflow as tf\r\n",
        "from keras.models import Sequential #Sequential안에 모델을 하나하나 쌓아야함\r\n",
        "from keras.layers import Dense #층별로 쌓음\r\n",
        "\r\n",
        "import warnings\r\n",
        "warnings.filterwarnings(action=\"ignore\") #경고메세지 무시해라"
      ],
      "execution_count": null,
      "outputs": []
    },
    {
      "cell_type": "code",
      "metadata": {
        "colab": {
          "base_uri": "https://localhost:8080/"
        },
        "id": "4QAUPItmI5kh",
        "outputId": "1af8bae4-28e1-4a02-e55a-974f846ff418"
      },
      "source": [
        "from google.colab import drive\r\n",
        "drive.mount('/content/drive')"
      ],
      "execution_count": null,
      "outputs": [
        {
          "output_type": "stream",
          "text": [
            "Mounted at /content/drive\n"
          ],
          "name": "stdout"
        }
      ]
    },
    {
      "cell_type": "code",
      "metadata": {
        "colab": {
          "base_uri": "https://localhost:8080/"
        },
        "id": "glBulDBDIzKW",
        "outputId": "00595526-2b8a-40be-d9d3-a644407728c0"
      },
      "source": [
        "df = pd.read_csv('/content/drive/MyDrive/self/indian.csv')  #데이터 가져오기\r\n",
        "print(df.info())\r\n",
        "print(df.head()) #Outcome:Target 함수"
      ],
      "execution_count": null,
      "outputs": [
        {
          "output_type": "stream",
          "text": [
            "<class 'pandas.core.frame.DataFrame'>\n",
            "RangeIndex: 768 entries, 0 to 767\n",
            "Data columns (total 9 columns):\n",
            " #   Column                    Non-Null Count  Dtype  \n",
            "---  ------                    --------------  -----  \n",
            " 0   Pregnancies               768 non-null    int64  \n",
            " 1   Glucose                   768 non-null    int64  \n",
            " 2   BloodPressure             768 non-null    int64  \n",
            " 3   SkinThickness             768 non-null    int64  \n",
            " 4   Insulin                   768 non-null    int64  \n",
            " 5   BMI                       768 non-null    float64\n",
            " 6   DiabetesPedigreeFunction  768 non-null    float64\n",
            " 7   Age                       768 non-null    int64  \n",
            " 8   Outcome                   768 non-null    int64  \n",
            "dtypes: float64(2), int64(7)\n",
            "memory usage: 54.1 KB\n",
            "None\n",
            "   Pregnancies  Glucose  BloodPressure  ...  DiabetesPedigreeFunction  Age  Outcome\n",
            "0            6      148             72  ...                     0.627   50        1\n",
            "1            1       85             66  ...                     0.351   31        0\n",
            "2            8      183             64  ...                     0.672   32        1\n",
            "3            1       89             66  ...                     0.167   21        0\n",
            "4            0      137             40  ...                     2.288   33        1\n",
            "\n",
            "[5 rows x 9 columns]\n"
          ],
          "name": "stdout"
        }
      ]
    },
    {
      "cell_type": "code",
      "metadata": {
        "colab": {
          "base_uri": "https://localhost:8080/"
        },
        "id": "18pAuP0nJhEL",
        "outputId": "3ba109b8-eadc-476f-c942-21c9715ce45b"
      },
      "source": [
        "X = df.drop(\"Outcome\", axis=1)\r\n",
        "y = df[\"Outcome\"] #target\r\n",
        "print(X.shape, y.shape) #(768, 8) (768,)"
      ],
      "execution_count": null,
      "outputs": [
        {
          "output_type": "stream",
          "text": [
            "(768, 8) (768,)\n"
          ],
          "name": "stdout"
        }
      ]
    },
    {
      "cell_type": "code",
      "metadata": {
        "colab": {
          "base_uri": "https://localhost:8080/",
          "height": 499
        },
        "id": "M6kuFHRfJkLG",
        "outputId": "c2bd9ab0-eeee-4806-bd7a-bace3ddcc156"
      },
      "source": [
        "#--- 분석 : 결측 X     : isnull()  dropna()  fillna()\r\n",
        "#--- 분석 : Object X  : oh.Encoding():010  pd.getDummy():결측처리+인코딩(글자->수치)\r\n",
        "#--- 상관분석\r\n",
        "plt.figure(figsize=(10,6))\r\n",
        "sns.heatmap(df.corr(), annot=True,  fmt=\".2g\", cmap=\"Blues\")\r\n",
        "plt.show()"
      ],
      "execution_count": null,
      "outputs": [
        {
          "output_type": "display_data",
          "data": {
            "image/png": "[encoded data removed]",
            "text/plain": [
              "<Figure size 720x432 with 2 Axes>"
            ]
          },
          "metadata": {
            "tags": [],
            "needs_background": "light"
          }
        }
      ]
    },
    {
      "cell_type": "code",
      "metadata": {
        "id": "OQ4UXybTJn8c"
      },
      "source": [
        "def CHART_PLOT_HISTORY(history): #함수화\r\n",
        "    hist = pd.DataFrame(history.history)\r\n",
        "    hist['epoch'] = history.epoch #epoch은 history.epoch으로 가져옴(데이터 자체에서 가져옴)\r\n",
        "\r\n",
        "    plt.figure(figsize=(8,12))\r\n",
        "\r\n",
        "    plt.subplot(2,1,1)\r\n",
        "    plt.xlabel('epoch')\r\n",
        "    plt.ylabel('accuracy')\r\n",
        "    plt.plot(hist['epoch'], hist['accuracy'],    label='acc')\r\n",
        "    plt.plot(hist['epoch'], hist['val_accuracy'],label = 'val_acc')\r\n",
        "    plt.legend()\r\n",
        "\r\n",
        "    plt.subplot(2,1,2)\r\n",
        "    plt.xlabel('epoch')\r\n",
        "    plt.ylabel('loss')\r\n",
        "    plt.plot(hist['epoch'], hist['loss'],    label='loss')\r\n",
        "    plt.plot(hist['epoch'], hist['val_loss'],label = 'val_loss')\r\n",
        "    plt.legend()\r\n",
        "    plt.show()"
      ],
      "execution_count": null,
      "outputs": []
    },
    {
      "cell_type": "code",
      "metadata": {
        "id": "ha6-zOWUJs_1"
      },
      "source": [
        "def GET_MY_SCORE(y_test, pred, str=None): #파라미터 값으로 넘기기\r\n",
        "    print(\"---------{}----------\".format(str))\r\n",
        "    acc = accuracy_score(y_test, pred) #정확도\r\n",
        "    f1 = f1_score(y_test, pred)        #조화평균\r\n",
        "    recall = recall_score(y_test, pred) # 재현률\r\n",
        "    precision = precision_score(y_test, pred) #정밀도\r\n",
        "    rocauc = roc_auc_score(y_test, pred)\r\n",
        "    print(\"정확도:{:.4f} F1:{:.4f}=(정밀도:{:.4f} 재현율:{:.4f}) rocauc:{:.4f}\".format(acc, f1, precision, recall, rocauc))\r\n",
        "    cf_matrix = confusion_matrix(y_test, pred) #혼동행렬\r\n",
        "    print(cf_matrix)"
      ],
      "execution_count": null,
      "outputs": []
    },
    {
      "cell_type": "code",
      "metadata": {
        "id": "OarPHHKLJw1r"
      },
      "source": [
        "np.random.seed(121)\r\n",
        "tf.random.set_seed(121)"
      ],
      "execution_count": null,
      "outputs": []
    },
    {
      "cell_type": "code",
      "metadata": {
        "colab": {
          "base_uri": "https://localhost:8080/"
        },
        "id": "LxZNVhD6JyoQ",
        "outputId": "2b7a97d1-b7f2-43cc-a5db-a6aea3b9826c"
      },
      "source": [
        "X_train, X_test, y_train, y_test = train_test_split(X, y, test_size=0.2, random_state=121)\r\n",
        "model = Sequential() #랜덤포레스트처럼 모델 사용\r\n",
        "model.add(Dense(units=16, input_dim=8, activation=\"relu\")) #input dim: 타겟데이터 제외 8개\r\n",
        "model.add(Dense(units=8, activation=\"relu\"))\r\n",
        "model.add(Dense(units=1, activation=\"sigmoid\")) # softmax 2 , 또는 sigmoid 1\r\n",
        "print(model.summary()) #메모리 연산량 볼 수 있음\r\n",
        "model.compile(optimizer=\"adam\", loss=\"binary_crossentropy\", metrics=[\"accuracy\"]) #sigmoid니까 binary로 \r\n",
        "#_crossentropy : 들어온 값의 확률값을 계산"
      ],
      "execution_count": null,
      "outputs": [
        {
          "output_type": "stream",
          "text": [
            "Model: \"sequential\"\n",
            "_________________________________________________________________\n",
            "Layer (type)                 Output Shape              Param #   \n",
            "=================================================================\n",
            "dense (Dense)                (None, 16)                144       \n",
            "_________________________________________________________________\n",
            "dense_1 (Dense)              (None, 8)                 136       \n",
            "_________________________________________________________________\n",
            "dense_2 (Dense)              (None, 1)                 9         \n",
            "=================================================================\n",
            "Total params: 289\n",
            "Trainable params: 289\n",
            "Non-trainable params: 0\n",
            "_________________________________________________________________\n",
            "None\n"
          ],
          "name": "stdout"
        }
      ]
    },
    {
      "cell_type": "code",
      "metadata": {
        "id": "vBUvWuRCJ1ZD"
      },
      "source": [
        "from keras.callbacks import EarlyStopping\r\n",
        "early_stop = EarlyStopping(monitor='val_loss', patience=10) #val_loss : 평가 손실률에서 10번 이상(patience) 진전이 없을때 멈춤"
      ],
      "execution_count": null,
      "outputs": []
    },
    {
      "cell_type": "code",
      "metadata": {
        "colab": {
          "base_uri": "https://localhost:8080/"
        },
        "id": "WgLxMwCsJ6LL",
        "outputId": "aa1b3968-0d31-4cb1-8f19-01642b658f16"
      },
      "source": [
        "#model.fit(X, y, epochs=100, validation_split=0.2) #validation_data : 평가데이터\r\n",
        "history = model.fit(X_train, y_train, validation_data=(X_test,y_test), epochs=100, callbacks=[early_stop]) #위에서 7:3 나눴으면 이렇게 코드 쓰기\r\n",
        "#이미지, 사운드, 텍스쳐, 시계열 같은 것 이외의 회귀, 분류는 feature 전처리 해줘야 점수가 올라감(머신러닝처럼 해줌)"
      ],
      "execution_count": null,
      "outputs": [
        {
          "output_type": "stream",
          "text": [
            "Epoch 1/100\n",
            "20/20 [==============================] - 1s 29ms/step - loss: 10.4724 - accuracy: 0.4166 - val_loss: 2.8805 - val_accuracy: 0.5649\n",
            "Epoch 2/100\n",
            "20/20 [==============================] - 0s 4ms/step - loss: 2.9618 - accuracy: 0.6322 - val_loss: 1.7615 - val_accuracy: 0.6299\n",
            "Epoch 3/100\n",
            "20/20 [==============================] - 0s 4ms/step - loss: 1.3714 - accuracy: 0.6416 - val_loss: 1.0836 - val_accuracy: 0.6104\n",
            "Epoch 4/100\n",
            "20/20 [==============================] - 0s 4ms/step - loss: 0.9284 - accuracy: 0.6171 - val_loss: 0.8641 - val_accuracy: 0.6104\n",
            "Epoch 5/100\n",
            "20/20 [==============================] - 0s 4ms/step - loss: 0.7196 - accuracy: 0.6302 - val_loss: 0.7958 - val_accuracy: 0.6364\n",
            "Epoch 6/100\n",
            "20/20 [==============================] - 0s 4ms/step - loss: 0.7414 - accuracy: 0.6218 - val_loss: 0.7627 - val_accuracy: 0.6429\n",
            "Epoch 7/100\n",
            "20/20 [==============================] - 0s 4ms/step - loss: 0.6898 - accuracy: 0.6882 - val_loss: 0.7590 - val_accuracy: 0.6429\n",
            "Epoch 8/100\n",
            "20/20 [==============================] - 0s 4ms/step - loss: 0.6810 - accuracy: 0.6283 - val_loss: 0.7560 - val_accuracy: 0.6429\n",
            "Epoch 9/100\n",
            "20/20 [==============================] - 0s 4ms/step - loss: 0.7070 - accuracy: 0.6413 - val_loss: 0.7522 - val_accuracy: 0.6429\n",
            "Epoch 10/100\n",
            "20/20 [==============================] - 0s 4ms/step - loss: 0.6834 - accuracy: 0.6494 - val_loss: 0.7469 - val_accuracy: 0.6429\n",
            "Epoch 11/100\n",
            "20/20 [==============================] - 0s 4ms/step - loss: 0.6839 - accuracy: 0.6797 - val_loss: 0.7429 - val_accuracy: 0.6429\n",
            "Epoch 12/100\n",
            "20/20 [==============================] - 0s 4ms/step - loss: 0.6629 - accuracy: 0.6453 - val_loss: 0.7427 - val_accuracy: 0.6429\n",
            "Epoch 13/100\n",
            "20/20 [==============================] - 0s 4ms/step - loss: 0.6759 - accuracy: 0.6452 - val_loss: 0.7356 - val_accuracy: 0.6429\n",
            "Epoch 14/100\n",
            "20/20 [==============================] - 0s 4ms/step - loss: 0.6757 - accuracy: 0.6467 - val_loss: 0.7251 - val_accuracy: 0.6429\n",
            "Epoch 15/100\n",
            "20/20 [==============================] - 0s 4ms/step - loss: 0.6928 - accuracy: 0.6424 - val_loss: 0.7197 - val_accuracy: 0.6429\n",
            "Epoch 16/100\n",
            "20/20 [==============================] - 0s 4ms/step - loss: 0.6906 - accuracy: 0.6351 - val_loss: 0.7196 - val_accuracy: 0.6429\n",
            "Epoch 17/100\n",
            "20/20 [==============================] - 0s 4ms/step - loss: 0.6502 - accuracy: 0.6542 - val_loss: 0.7229 - val_accuracy: 0.6429\n",
            "Epoch 18/100\n",
            "20/20 [==============================] - 0s 4ms/step - loss: 0.6658 - accuracy: 0.6537 - val_loss: 0.7182 - val_accuracy: 0.6429\n",
            "Epoch 19/100\n",
            "20/20 [==============================] - 0s 4ms/step - loss: 0.6965 - accuracy: 0.6601 - val_loss: 0.7119 - val_accuracy: 0.6429\n",
            "Epoch 20/100\n",
            "20/20 [==============================] - 0s 4ms/step - loss: 0.6593 - accuracy: 0.6269 - val_loss: 0.7154 - val_accuracy: 0.6429\n",
            "Epoch 21/100\n",
            "20/20 [==============================] - 0s 4ms/step - loss: 0.6512 - accuracy: 0.6613 - val_loss: 0.7127 - val_accuracy: 0.6429\n",
            "Epoch 22/100\n",
            "20/20 [==============================] - 0s 4ms/step - loss: 0.6688 - accuracy: 0.6634 - val_loss: 0.7072 - val_accuracy: 0.6429\n",
            "Epoch 23/100\n",
            "20/20 [==============================] - 0s 4ms/step - loss: 0.6723 - accuracy: 0.6394 - val_loss: 0.7074 - val_accuracy: 0.6494\n",
            "Epoch 24/100\n",
            "20/20 [==============================] - 0s 4ms/step - loss: 0.6728 - accuracy: 0.6614 - val_loss: 0.7055 - val_accuracy: 0.6494\n",
            "Epoch 25/100\n",
            "20/20 [==============================] - 0s 4ms/step - loss: 0.6653 - accuracy: 0.6265 - val_loss: 0.7069 - val_accuracy: 0.6494\n",
            "Epoch 26/100\n",
            "20/20 [==============================] - 0s 4ms/step - loss: 0.6596 - accuracy: 0.6661 - val_loss: 0.7044 - val_accuracy: 0.6429\n",
            "Epoch 27/100\n",
            "20/20 [==============================] - 0s 4ms/step - loss: 0.6268 - accuracy: 0.6619 - val_loss: 0.7083 - val_accuracy: 0.6429\n",
            "Epoch 28/100\n",
            "20/20 [==============================] - 0s 4ms/step - loss: 0.6411 - accuracy: 0.6560 - val_loss: 0.7001 - val_accuracy: 0.6429\n",
            "Epoch 29/100\n",
            "20/20 [==============================] - 0s 4ms/step - loss: 0.6809 - accuracy: 0.6557 - val_loss: 0.7024 - val_accuracy: 0.6429\n",
            "Epoch 30/100\n",
            "20/20 [==============================] - 0s 4ms/step - loss: 0.6247 - accuracy: 0.6657 - val_loss: 0.7119 - val_accuracy: 0.6429\n",
            "Epoch 31/100\n",
            "20/20 [==============================] - 0s 4ms/step - loss: 0.6278 - accuracy: 0.6641 - val_loss: 0.7045 - val_accuracy: 0.6429\n",
            "Epoch 32/100\n",
            "20/20 [==============================] - 0s 4ms/step - loss: 0.6233 - accuracy: 0.6635 - val_loss: 0.6982 - val_accuracy: 0.6429\n",
            "Epoch 33/100\n",
            "20/20 [==============================] - 0s 4ms/step - loss: 0.6311 - accuracy: 0.6539 - val_loss: 0.6997 - val_accuracy: 0.6429\n",
            "Epoch 34/100\n",
            "20/20 [==============================] - 0s 4ms/step - loss: 0.6367 - accuracy: 0.6470 - val_loss: 0.6767 - val_accuracy: 0.6494\n",
            "Epoch 35/100\n",
            "20/20 [==============================] - 0s 4ms/step - loss: 0.6456 - accuracy: 0.6729 - val_loss: 0.6831 - val_accuracy: 0.6494\n",
            "Epoch 36/100\n",
            "20/20 [==============================] - 0s 4ms/step - loss: 0.6452 - accuracy: 0.6385 - val_loss: 0.6892 - val_accuracy: 0.6494\n",
            "Epoch 37/100\n",
            "20/20 [==============================] - 0s 4ms/step - loss: 0.6099 - accuracy: 0.6744 - val_loss: 0.6943 - val_accuracy: 0.6494\n",
            "Epoch 38/100\n",
            "20/20 [==============================] - 0s 3ms/step - loss: 0.6500 - accuracy: 0.6462 - val_loss: 0.6831 - val_accuracy: 0.6494\n",
            "Epoch 39/100\n",
            "20/20 [==============================] - 0s 4ms/step - loss: 0.6505 - accuracy: 0.6591 - val_loss: 0.6858 - val_accuracy: 0.6494\n",
            "Epoch 40/100\n",
            "20/20 [==============================] - 0s 4ms/step - loss: 0.6226 - accuracy: 0.6565 - val_loss: 0.6817 - val_accuracy: 0.6494\n",
            "Epoch 41/100\n",
            "20/20 [==============================] - 0s 4ms/step - loss: 0.6379 - accuracy: 0.6540 - val_loss: 0.6691 - val_accuracy: 0.6494\n",
            "Epoch 42/100\n",
            "20/20 [==============================] - 0s 4ms/step - loss: 0.6527 - accuracy: 0.6302 - val_loss: 0.6737 - val_accuracy: 0.6494\n",
            "Epoch 43/100\n",
            "20/20 [==============================] - 0s 4ms/step - loss: 0.6470 - accuracy: 0.6322 - val_loss: 0.6820 - val_accuracy: 0.6494\n",
            "Epoch 44/100\n",
            "20/20 [==============================] - 0s 4ms/step - loss: 0.6381 - accuracy: 0.6546 - val_loss: 0.6787 - val_accuracy: 0.6494\n",
            "Epoch 45/100\n",
            "20/20 [==============================] - 0s 4ms/step - loss: 0.6349 - accuracy: 0.6513 - val_loss: 0.6791 - val_accuracy: 0.6494\n",
            "Epoch 46/100\n",
            "20/20 [==============================] - 0s 4ms/step - loss: 0.6215 - accuracy: 0.6468 - val_loss: 0.6701 - val_accuracy: 0.6494\n",
            "Epoch 47/100\n",
            "20/20 [==============================] - 0s 4ms/step - loss: 0.6484 - accuracy: 0.6786 - val_loss: 0.6693 - val_accuracy: 0.6494\n",
            "Epoch 48/100\n",
            "20/20 [==============================] - 0s 4ms/step - loss: 0.6726 - accuracy: 0.6420 - val_loss: 0.6702 - val_accuracy: 0.6494\n",
            "Epoch 49/100\n",
            "20/20 [==============================] - 0s 4ms/step - loss: 0.6196 - accuracy: 0.6775 - val_loss: 0.6739 - val_accuracy: 0.6494\n",
            "Epoch 50/100\n",
            "20/20 [==============================] - 0s 4ms/step - loss: 0.6162 - accuracy: 0.6631 - val_loss: 0.6773 - val_accuracy: 0.6494\n",
            "Epoch 51/100\n",
            "20/20 [==============================] - 0s 4ms/step - loss: 0.6486 - accuracy: 0.6381 - val_loss: 0.6767 - val_accuracy: 0.6494\n"
          ],
          "name": "stdout"
        }
      ]
    },
    {
      "cell_type": "code",
      "metadata": {
        "colab": {
          "base_uri": "https://localhost:8080/",
          "height": 714
        },
        "id": "0T60K4AMJ94W",
        "outputId": "2ddfe838-f111-444e-e9c2-b67f4145c45e"
      },
      "source": [
        "CHART_PLOT_HISTORY(history)"
      ],
      "execution_count": null,
      "outputs": [
        {
          "output_type": "display_data",
          "data": {
            "image/png": "[encoded data removed]",
            "text/plain": [
              "<Figure size 576x864 with 2 Axes>"
            ]
          },
          "metadata": {
            "tags": [],
            "needs_background": "light"
          }
        }
      ]
    },
    {
      "cell_type": "code",
      "metadata": {
        "colab": {
          "base_uri": "https://localhost:8080/"
        },
        "id": "PTNbbM7wKEHz",
        "outputId": "e639cea5-b6dd-4f99-f508-29690cd57381"
      },
      "source": [
        "test_loss, test_acc = model.evaluate(X_test, y_test, verbose=0) #evaluate : 평가\r\n",
        "print('테스트 정확도:', test_acc)"
      ],
      "execution_count": null,
      "outputs": [
        {
          "output_type": "stream",
          "text": [
            "테스트 정확도: 0.649350643157959\n"
          ],
          "name": "stdout"
        }
      ]
    },
    {
      "cell_type": "code",
      "metadata": {
        "id": "-UJT115kKGko"
      },
      "source": [
        "pred = model.predict(X_test) #실제 X_test를 넣고 잘 맞추는지 예측"
      ],
      "execution_count": null,
      "outputs": []
    },
    {
      "cell_type": "code",
      "metadata": {
        "colab": {
          "base_uri": "https://localhost:8080/"
        },
        "id": "xFOkGODQKI6q",
        "outputId": "e42c0229-6ebf-4b6d-8353-63dd60c09ced"
      },
      "source": [
        "print(y_test.shape, pred.shape) #(154,) (154,1) - 이렇게 나옴 -> (154,) (154,) #y_test답지와 예측 답지\r\n",
        "print(y_test[:5], pred[:5]) #crossentropy이므로 확률값으로 계산 -> 이산형이므로 binarizer로 임계치 이상이면 1, 아니면 0\r\n",
        "# 601    0\r\n",
        "# 224    0\r\n",
        "# 766    1\r\n",
        "# 17     1\r\n",
        "# 369    1"
      ],
      "execution_count": null,
      "outputs": [
        {
          "output_type": "stream",
          "text": [
            "(154,) (154, 1)\n",
            "601    0\n",
            "224    0\n",
            "766    1\n",
            "17     1\n",
            "369    1\n",
            "Name: Outcome, dtype: int64 [[0.40622634]\n",
            " [0.40622634]\n",
            " [0.40622634]\n",
            " [0.40622634]\n",
            " [0.40622634]]\n"
          ],
          "name": "stdout"
        }
      ]
    },
    {
      "cell_type": "code",
      "metadata": {
        "colab": {
          "base_uri": "https://localhost:8080/"
        },
        "id": "3MlYj3swKK8p",
        "outputId": "db111798-c40f-4fe8-c942-c096a02663f4"
      },
      "source": [
        "#0과 1은 0.0 ~ 0.99 와 비교를 못하므로\r\n",
        "bn = Binarizer(threshold=0.5) #Binarizer 을 통해서 임계치의 일정값을 넘으면 1 미만일때는 0으로 계산하기위해서 사용 ,\r\n",
        "bn_pred = bn.fit_transform(pred.reshape(-1,1)) #확률값이 아닌 0,1 로 찍힘/ #reshape했더니 행렬이 되서 비교불가 -> 다시 array로 바꿔야함\r\n",
        "print(bn_pred[:5])\r\n",
        "bn_pred = np.array(bn_pred)"
      ],
      "execution_count": null,
      "outputs": [
        {
          "output_type": "stream",
          "text": [
            "[[0.]\n",
            " [0.]\n",
            " [0.]\n",
            " [0.]\n",
            " [0.]]\n"
          ],
          "name": "stdout"
        }
      ]
    },
    {
      "cell_type": "code",
      "metadata": {
        "colab": {
          "base_uri": "https://localhost:8080/"
        },
        "id": "SZghkHFpKXVc",
        "outputId": "c1489528-66f4-4631-be72-a0b63d623a82"
      },
      "source": [
        "bn_pred = bn_pred.flatten() #flatten 1열로 펴주는 것\r\n",
        "print(bn_pred[:5], bn_pred.shape) #np.array대신 flatten 함수 사용 가능\r\n",
        "GET_MY_SCORE(y_test, bn_pred, \"최초점수\") #positive를 잘 못맞추는 문제(암으로 비유하자면 암인데 정상이라고 집으로 돌려보내는 상황) -> 양성비율 학습 시키던가 전처리 해야함."
      ],
      "execution_count": null,
      "outputs": [
        {
          "output_type": "stream",
          "text": [
            "[0. 0. 0. 0. 0.] (154,)\n",
            "---------최초점수----------\n",
            "정확도:0.6494 F1:0.0000=(정밀도:0.0000 재현율:0.0000) rocauc:0.5000\n",
            "[[100   0]\n",
            " [ 54   0]]\n"
          ],
          "name": "stdout"
        }
      ]
    },
    {
      "cell_type": "code",
      "metadata": {
        "colab": {
          "base_uri": "https://localhost:8080/"
        },
        "id": "QEFi6Dl7Kcxx",
        "outputId": "07764943-cdef-49c4-fc6d-b6ba308fa5fe"
      },
      "source": [
        "#0값 처리(0인값들을 결측치를 채워서 점수를 올리기 위해서 ( 머신러닝 코드)) , 결측치를 채워서 점수를 올라가는지 안올라가는지 확인\r\n",
        "for col in X.columns:\r\n",
        "    gcnt = X[col][X[col]==0].count()\r\n",
        "    print(col, gcnt, np.round(gcnt/X.shape[0]*100, 2)) #해당 건수와 percentage로 함\r\n",
        "# Glucose 5 0.65\r\n",
        "# BloodPressure 35 4.56\r\n",
        "# SkinThickness 227 29.56\r\n",
        "# Insulin 374 48.7\r\n",
        "# BMI 11 1.43"
      ],
      "execution_count": null,
      "outputs": [
        {
          "output_type": "stream",
          "text": [
            "Pregnancies 111 14.45\n",
            "Glucose 5 0.65\n",
            "BloodPressure 35 4.56\n",
            "SkinThickness 227 29.56\n",
            "Insulin 374 48.7\n",
            "BMI 11 1.43\n",
            "DiabetesPedigreeFunction 0 0.0\n",
            "Age 0 0.0\n"
          ],
          "name": "stdout"
        }
      ]
    },
    {
      "cell_type": "code",
      "metadata": {
        "colab": {
          "base_uri": "https://localhost:8080/"
        },
        "id": "wQSSA8PKKh-H",
        "outputId": "5e0dc1ba-dee6-4f25-e83e-31907cb7c402"
      },
      "source": [
        "print(X[[\"Glucose\", \"BloodPressure\", \"SkinThickness\", \"Insulin\", \"BMI\"]].describe())   #Insulin 조치 취해야함(편차(평균으로부터 떨어진 차이)도 너무 큼.max 846? 등의 outlier). 따라서 평균보다는 중위값이 적당 #describe를 통해 평균쓸지 중위값 쓸지 결정\r\n",
        "zero_column = [\"Glucose\", \"BloodPressure\", \"SkinThickness\", \"Insulin\", \"BMI\"]\r\n",
        "zero_column_median = X[zero_column].median().round(1)\r\n",
        "X[zero_column] = X[zero_column].replace(0, zero_column_median)"
      ],
      "execution_count": null,
      "outputs": [
        {
          "output_type": "stream",
          "text": [
            "          Glucose  BloodPressure  SkinThickness     Insulin         BMI\n",
            "count  768.000000     768.000000     768.000000  768.000000  768.000000\n",
            "mean   120.894531      69.105469      20.536458   79.799479   31.992578\n",
            "std     31.972618      19.355807      15.952218  115.244002    7.884160\n",
            "min      0.000000       0.000000       0.000000    0.000000    0.000000\n",
            "25%     99.000000      62.000000       0.000000    0.000000   27.300000\n",
            "50%    117.000000      72.000000      23.000000   30.500000   32.000000\n",
            "75%    140.250000      80.000000      32.000000  127.250000   36.600000\n",
            "max    199.000000     122.000000      99.000000  846.000000   67.100000\n"
          ],
          "name": "stdout"
        }
      ]
    },
    {
      "cell_type": "code",
      "metadata": {
        "colab": {
          "base_uri": "https://localhost:8080/"
        },
        "id": "LVnu1aTAKng_",
        "outputId": "657db491-727a-4279-e1d1-bca55558bf90"
      },
      "source": [
        "bn_pred = bn.fit_transform(pred.reshape(-1,1)).flatten()\r\n",
        "GET_MY_SCORE(y_test, bn_pred, \"outlier제거 이후 점수\")"
      ],
      "execution_count": null,
      "outputs": [
        {
          "output_type": "stream",
          "text": [
            "---------outlier제거 이후 점수----------\n",
            "정확도:0.6494 F1:0.0000=(정밀도:0.0000 재현율:0.0000) rocauc:0.5000\n",
            "[[100   0]\n",
            " [ 54   0]]\n"
          ],
          "name": "stdout"
        }
      ]
    },
    {
      "cell_type": "code",
      "metadata": {
        "id": "YpmDMxHoKqrw"
      },
      "source": [
        ""
      ],
      "execution_count": null,
      "outputs": []
    }
  ]
}