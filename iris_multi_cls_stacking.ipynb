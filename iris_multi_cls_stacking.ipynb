{
  "nbformat": 4,
  "nbformat_minor": 0,
  "metadata": {
    "colab": {
      "name": "iris_multi_cls_stacking.ipynb",
      "provenance": [],
      "collapsed_sections": [],
      "authorship_tag": "ABX9TyM4pG/6NQlQc/V90g3TY7/B",
      "include_colab_link": true
    },
    "kernelspec": {
      "name": "python3",
      "display_name": "Python 3"
    }
  },
  "cells": [
    {
      "cell_type": "markdown",
      "metadata": {
        "id": "view-in-github",
        "colab_type": "text"
      },
      "source": [
        "<a href=\"https://colab.research.google.com/github/kwon0915/Kwon-Hyeong-Joong/blob/master/iris_multi_cls_stacking.ipynb\" target=\"_parent\"><img src=\"https://colab.research.google.com/assets/colab-badge.svg\" alt=\"Open In Colab\"/></a>"
      ]
    },
    {
      "cell_type": "code",
      "metadata": {
        "id": "gvN-M9qrDaNr"
      },
      "source": [
        "from sklearn.datasets import load_iris\r\n",
        "from sklearn.datasets import load_breast_cancer"
      ],
      "execution_count": null,
      "outputs": []
    },
    {
      "cell_type": "code",
      "metadata": {
        "id": "w75i5PK_DdpW"
      },
      "source": [
        "import numpy as np\r\n",
        "import pandas as pd\r\n",
        "import seaborn as sns\r\n",
        "import matplotlib.pyplot as plt\r\n",
        "import warnings\r\n",
        "warnings.filterwarnings(action='ignore')\r\n",
        "\r\n",
        "from sklearn.ensemble import RandomForestClassifier\r\n",
        "from sklearn.model_selection import train_test_split\r\n",
        "from sklearn.metrics import classification_report\r\n",
        "from sklearn.preprocessing import StandardScaler\r\n",
        "from sklearn.metrics import accuracy_score, recall_score, precision_score, f1_score, confusion_matrix, roc_auc_score, roc_curve, precision_recall_curve, fbeta_score\r\n",
        "from sklearn.model_selection import GridSearchCV, cross_val_score, KFold, StratifiedKFold"
      ],
      "execution_count": null,
      "outputs": []
    },
    {
      "cell_type": "code",
      "metadata": {
        "id": "kSHWyZPDD0pL"
      },
      "source": [
        "def SCORES(y_val, pred, proba, str=None, cls_type=None) :\r\n",
        "    if cls_type == \"m\" :\r\n",
        "        # print(\"===========Multi Classifier======\")\r\n",
        "        acc = accuracy_score(y_val, pred)\r\n",
        "        f1 = f1_score(y_val, pred, average='macro')\r\n",
        "        auc = roc_auc_score(y_val, proba, average='macro', multi_class='ovo')\r\n",
        "        print('{} acc {:.4f}  f1 {:.4f}  auc {:.4f}'.format(str, acc, f1, auc))\r\n",
        "    else :\r\n",
        "        # print(\"===========Binary Classifier======\")\r\n",
        "        acc = accuracy_score(y_val, pred)\r\n",
        "        f1 = f1_score(y_val, pred)\r\n",
        "        auc = roc_auc_score(y_val, proba[:,1])\r\n",
        "        print('acc {:.4f}  f1 {:.4f}  auc {:.4f}  {}'.format(acc, f1, auc, str))"
      ],
      "execution_count": null,
      "outputs": []
    },
    {
      "cell_type": "code",
      "metadata": {
        "id": "_L4YtmPFInV_"
      },
      "source": [
        "dataset = load_breast_cancer()\r\n",
        "df = pd.DataFrame(data=dataset.data,\r\n",
        "    columns=dataset.feature_names\r\n",
        ")\r\n",
        "clstype = \"s\"\r\n",
        "\r\n",
        "df[\"target\"] = dataset.target\r\n",
        "X_train = df.iloc[: , :-1]\r\n",
        "y_train = df.iloc[: , -1]\r\n",
        "\r\n",
        "X_train7 , X_val3, y_train7, y_val3 = train_test_split(X_train, y_train, test_size=0.2, random_state=121)"
      ],
      "execution_count": null,
      "outputs": []
    },
    {
      "cell_type": "code",
      "metadata": {
        "id": "IMlD5My8Isc7"
      },
      "source": [
        "from sklearn.ensemble import RandomForestClassifier\r\n",
        "from sklearn.svm import SVC\r\n",
        "from sklearn.linear_model import LogisticRegression\r\n",
        "from xgboost import XGBClassifier\r\n",
        "from lightgbm import LGBMClassifier"
      ],
      "execution_count": null,
      "outputs": []
    },
    {
      "cell_type": "code",
      "metadata": {
        "id": "qH5zfCnIIwWT"
      },
      "source": [
        "rf_model = RandomForestClassifier()\r\n",
        "svc_model = SVC(probability=True)\r\n",
        "lr_model = LogisticRegression()"
      ],
      "execution_count": null,
      "outputs": []
    },
    {
      "cell_type": "code",
      "metadata": {
        "colab": {
          "base_uri": "https://localhost:8080/"
        },
        "id": "QhUiIlS0IyFW",
        "outputId": "5b7f1fcb-4f23-4566-cf0d-faebfb661154"
      },
      "source": [
        "rf_model.fit(X_train7, y_train7)\r\n",
        "svc_model.fit(X_train7, y_train7)\r\n",
        "lr_model.fit(X_train7, y_train7)"
      ],
      "execution_count": null,
      "outputs": [
        {
          "output_type": "execute_result",
          "data": {
            "text/plain": [
              "LogisticRegression(C=1.0, class_weight=None, dual=False, fit_intercept=True,\n",
              "                   intercept_scaling=1, l1_ratio=None, max_iter=100,\n",
              "                   multi_class='auto', n_jobs=None, penalty='l2',\n",
              "                   random_state=None, solver='lbfgs', tol=0.0001, verbose=0,\n",
              "                   warm_start=False)"
            ]
          },
          "metadata": {
            "tags": []
          },
          "execution_count": 7
        }
      ]
    },
    {
      "cell_type": "code",
      "metadata": {
        "colab": {
          "base_uri": "https://localhost:8080/"
        },
        "id": "5E2us1toIzq_",
        "outputId": "f58e1471-a56c-4778-a1aa-7b7f070c92d1"
      },
      "source": [
        "rf_pred3 = rf_model.predict(X_val3)\r\n",
        "svc_pred3 = svc_model.predict(X_val3)\r\n",
        "lr_pred3 = lr_model.predict(X_val3)\r\n",
        "print(rf_pred3.shape,  svc_pred3.shape, lr_pred3.shape)"
      ],
      "execution_count": null,
      "outputs": [
        {
          "output_type": "stream",
          "text": [
            "(114,) (114,) (114,)\n"
          ],
          "name": "stdout"
        }
      ]
    },
    {
      "cell_type": "code",
      "metadata": {
        "id": "DWLXy6MhI2TM"
      },
      "source": [
        "rf_proba3 = rf_model.predict_proba(X_val3)\r\n",
        "svc_proba3 = svc_model.predict_proba(X_val3)\r\n",
        "lr_proba3 = lr_model.predict_proba(X_val3)"
      ],
      "execution_count": null,
      "outputs": []
    },
    {
      "cell_type": "code",
      "metadata": {
        "colab": {
          "base_uri": "https://localhost:8080/"
        },
        "id": "5k_mqQdHI-Ko",
        "outputId": "7721bcde-3b91-4ff7-88cf-ab83d3aa28b9"
      },
      "source": [
        "SCORES(y_val3, rf_pred3, rf_proba3, \"[RandomForestClassifier] \", cls_type=clstype)\r\n",
        "SCORES(y_val3, svc_pred3, svc_proba3, \"[SVC] \", cls_type=clstype)\r\n",
        "SCORES(y_val3, lr_pred3, lr_proba3, \"[LogisticRegression] \", cls_type=clstype)"
      ],
      "execution_count": null,
      "outputs": [
        {
          "output_type": "stream",
          "text": [
            "acc 0.9825  f1 0.9855  auc 1.0000  [RandomForestClassifier] \n",
            "acc 0.9386  f1 0.9517  auc 0.9916  [SVC] \n",
            "acc 0.9649  f1 0.9722  auc 0.9958  [LogisticRegression] \n"
          ],
          "name": "stdout"
        }
      ]
    },
    {
      "cell_type": "code",
      "metadata": {
        "colab": {
          "base_uri": "https://localhost:8080/"
        },
        "id": "RTqRC-S0JAfW",
        "outputId": "4dafd638-3211-491b-a8e8-9dc31e033894"
      },
      "source": [
        "new_train_data333 = np.array([rf_pred3, svc_pred3, lr_pred3])\r\n",
        "print(new_train_data333.shape)"
      ],
      "execution_count": null,
      "outputs": [
        {
          "output_type": "stream",
          "text": [
            "(3, 114)\n"
          ],
          "name": "stdout"
        }
      ]
    },
    {
      "cell_type": "code",
      "metadata": {
        "colab": {
          "base_uri": "https://localhost:8080/"
        },
        "id": "fVLBUN_ZJGb6",
        "outputId": "084d05c6-0fcc-4ba0-89ab-1df1b6fed912"
      },
      "source": [
        "new_train_data333 = new_train_data333.T\r\n",
        "print(new_train_data333.shape)\r\n",
        "print(new_train_data333[:5])"
      ],
      "execution_count": null,
      "outputs": [
        {
          "output_type": "stream",
          "text": [
            "(114, 3)\n",
            "[[0 0 0]\n",
            " [1 1 1]\n",
            " [1 1 1]\n",
            " [1 1 1]\n",
            " [1 1 1]]\n"
          ],
          "name": "stdout"
        }
      ]
    },
    {
      "cell_type": "code",
      "metadata": {
        "colab": {
          "base_uri": "https://localhost:8080/"
        },
        "id": "MpzhvOmbJIf0",
        "outputId": "cb732bc9-1f67-40a2-9f70-d7a2187f2365"
      },
      "source": [
        "#===============================================================================================================\r\n",
        "xgb = XGBClassifier()\r\n",
        "xgb.fit(new_train_data333, y_val3)\r\n",
        "xgb_pred = xgb.predict(new_train_data333)\r\n",
        "xgb_proba = xgb.predict_proba(new_train_data333)\r\n",
        "\r\n",
        "SCORES(y_val3, xgb_pred, xgb_proba, \"[XGBClassifier] \", cls_type=clstype)"
      ],
      "execution_count": null,
      "outputs": [
        {
          "output_type": "stream",
          "text": [
            "acc 0.9825  f1 0.9855  auc 0.9984  [XGBClassifier] \n"
          ],
          "name": "stdout"
        }
      ]
    },
    {
      "cell_type": "code",
      "metadata": {
        "colab": {
          "base_uri": "https://localhost:8080/"
        },
        "id": "a1xODb2PJLjN",
        "outputId": "8024a374-a7e6-482d-df5b-ea11f1455af4"
      },
      "source": [
        "#===============================================================================================================\r\n",
        "lgbm = LGBMClassifier()\r\n",
        "lgbm.fit(new_train_data333, y_val3)\r\n",
        "lgbm_pred = lgbm.predict(new_train_data333)\r\n",
        "lgbm_proba = lgbm.predict_proba(new_train_data333)\r\n",
        "\r\n",
        "SCORES(y_val3, lgbm_pred, lgbm_proba, \"[LGBMClassifier] \", cls_type=clstype)\r\n"
      ],
      "execution_count": null,
      "outputs": [
        {
          "output_type": "stream",
          "text": [
            "acc 0.9825  f1 0.9855  auc 0.9990  [LGBMClassifier] \n"
          ],
          "name": "stdout"
        }
      ]
    },
    {
      "cell_type": "code",
      "metadata": {
        "colab": {
          "base_uri": "https://localhost:8080/"
        },
        "id": "J7yi5BpAJPIz",
        "outputId": "db74daea-3ea7-4a6e-add4-b59500252d14"
      },
      "source": [
        "from sklearn.ensemble import VotingClassifier\r\n",
        "vot_model  = VotingClassifier(estimators=[('xgb', xgb), ('lgbm', lgbm)],\r\n",
        "                              voting='soft',)\r\n",
        "vot_model.fit(new_train_data333, y_val3)\r\n",
        "pred = vot_model.predict(new_train_data333)\r\n",
        "proba = vot_model.predict_proba(new_train_data333)\r\n",
        "SCORES(y_val3, pred, proba, \"[Stacking Ensemble votting] \",  cls_type=clstype)"
      ],
      "execution_count": null,
      "outputs": [
        {
          "output_type": "stream",
          "text": [
            "acc 0.9825  f1 0.9855  auc 0.9984  [Stacking Ensemble votting] \n"
          ],
          "name": "stdout"
        }
      ]
    },
    {
      "cell_type": "code",
      "metadata": {
        "id": "goesc8BbJUs7"
      },
      "source": [
        ""
      ],
      "execution_count": null,
      "outputs": []
    }
  ]
}