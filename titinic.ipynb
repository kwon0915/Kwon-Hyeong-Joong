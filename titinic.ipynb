{
  "nbformat": 4,
  "nbformat_minor": 0,
  "metadata": {
    "colab": {
      "name": "titinic",
      "provenance": [],
      "collapsed_sections": [],
      "authorship_tag": "ABX9TyN3QfBA7wcFEcYzLNLJAWD0",
      "include_colab_link": true
    },
    "kernelspec": {
      "name": "python3",
      "display_name": "Python 3"
    }
  },
  "cells": [
    {
      "cell_type": "markdown",
      "metadata": {
        "id": "view-in-github",
        "colab_type": "text"
      },
      "source": [
        "<a href=\"https://colab.research.google.com/github/kwon0915/Kwon-Hyeong-Joong/blob/master/titinic.ipynb\" target=\"_parent\"><img src=\"https://colab.research.google.com/assets/colab-badge.svg\" alt=\"Open In Colab\"/></a>"
      ]
    },
    {
      "cell_type": "code",
      "metadata": {
        "id": "NJfQFER-1U5e"
      },
      "source": [
        "import pandas as pd\r\n",
        "import numpy as np\r\n",
        "import matplotlib.pyplot as plt\r\n",
        "import seaborn as sns\r\n",
        "from sklearn.datasets import load_iris\r\n",
        "from sklearn.model_selection import train_test_split\r\n"
      ],
      "execution_count": null,
      "outputs": []
    },
    {
      "cell_type": "code",
      "metadata": {
        "id": "SnC2YcqR1381"
      },
      "source": [
        "df=pd.read_csv(\"kaggle_titanic_train.csv\")"
      ],
      "execution_count": null,
      "outputs": []
    },
    {
      "cell_type": "code",
      "metadata": {
        "colab": {
          "base_uri": "https://localhost:8080/"
        },
        "id": "3rqu7PQj2nMk",
        "outputId": "34acc1ee-ff37-4305-f476-65da248b9f74"
      },
      "source": [
        "print(df.info()) #구조확인"
      ],
      "execution_count": null,
      "outputs": [
        {
          "output_type": "stream",
          "text": [
            "<class 'pandas.core.frame.DataFrame'>\n",
            "RangeIndex: 891 entries, 0 to 890\n",
            "Data columns (total 12 columns):\n",
            " #   Column       Non-Null Count  Dtype  \n",
            "---  ------       --------------  -----  \n",
            " 0   PassengerId  891 non-null    int64  \n",
            " 1   Survived     891 non-null    int64  \n",
            " 2   Pclass       891 non-null    int64  \n",
            " 3   Name         891 non-null    object \n",
            " 4   Sex          891 non-null    object \n",
            " 5   Age          714 non-null    float64\n",
            " 6   SibSp        891 non-null    int64  \n",
            " 7   Parch        891 non-null    int64  \n",
            " 8   Ticket       891 non-null    object \n",
            " 9   Fare         891 non-null    float64\n",
            " 10  Cabin        204 non-null    object \n",
            " 11  Embarked     889 non-null    object \n",
            "dtypes: float64(2), int64(5), object(5)\n",
            "memory usage: 83.7+ KB\n",
            "None\n"
          ],
          "name": "stdout"
        }
      ]
    },
    {
      "cell_type": "code",
      "metadata": {
        "colab": {
          "base_uri": "https://localhost:8080/"
        },
        "id": "K4IE8BbK2qu0",
        "outputId": "23650776-de2f-4cae-9114-603918a7ae95"
      },
      "source": [
        "print(df.shape)#모양 확인 (행렬) , 7개 컬럼으로 13개 데이터 가지고 있음"
      ],
      "execution_count": null,
      "outputs": [
        {
          "output_type": "stream",
          "text": [
            "(891, 12)\n"
          ],
          "name": "stdout"
        }
      ]
    },
    {
      "cell_type": "code",
      "metadata": {
        "colab": {
          "base_uri": "https://localhost:8080/"
        },
        "id": "VrnHI_G_2sia",
        "outputId": "863f68fb-343e-4684-8cb3-d8fb0beef2f9"
      },
      "source": [
        "print(df.tail())"
      ],
      "execution_count": null,
      "outputs": [
        {
          "output_type": "stream",
          "text": [
            "     PassengerId  Survived  Pclass  ...   Fare Cabin  Embarked\n",
            "886          887         0       2  ...  13.00   NaN         S\n",
            "887          888         1       1  ...  30.00   B42         S\n",
            "888          889         0       3  ...  23.45   NaN         S\n",
            "889          890         1       1  ...  30.00  C148         C\n",
            "890          891         0       3  ...   7.75   NaN         Q\n",
            "\n",
            "[5 rows x 12 columns]\n"
          ],
          "name": "stdout"
        }
      ]
    },
    {
      "cell_type": "code",
      "metadata": {
        "colab": {
          "base_uri": "https://localhost:8080/",
          "height": 596
        },
        "id": "CU0vPgoS2zYa",
        "outputId": "d88e7787-1246-4a51-d4d5-5034cfeeca59"
      },
      "source": [
        "#제대로 확인하려면 가공(전처리)한 후 다시 그려야 함, 전처리 후 아래 다시 확인\r\n",
        "plt.figure(figsize=(10,10))#plot size 지정          #corr: 상관분석\r\n",
        "sns.heatmap(data= df.corr(),annot=True, fmt=\".2g\") #데이터 프레임의 상관분석), annot=True : % 보여달라는 뜻,\r\n",
        "# Y에 중요한 영향을 끼치는 것들 보고 싶기에 data= df.corr()에 X를 기입하지 않음\r\n",
        "plt.show() #풀고 실행. 상관분석은 object를 제외하기에 수치형만 표시 됨\r\n",
        "#대각은 본인이 본인이므로 1으로 표기되기에 관련이 있는것이 아님, 오른쪽 막대그래프를 확인\r\n",
        "#음의 상관관계 : 범죄율이 올라갈수록 집값이 떨어짐, 양의 상관관계: 방의 크기가 올라갈 수록 집 값이 올라감\r\n",
        "#survived는 가로로 보았을때 -0.34로 pclass와 관련이 높음(검은색), Fare와도 0.26으로 관련이 높음\r\n",
        "#Fare와 pclass 도 검은색으로 (-0.55) 관련이 높음, 위와 아래중 하나만 확인(같음)\r\n",
        "#위 기준으로 Survived-Pclass, Pclass-Age, Pclass-Fare은 관련성이 높음(검은색)"
      ],
      "execution_count": null,
      "outputs": [
        {
          "output_type": "display_data",
          "data": {
            "image/png": "[encoded data removed]",
            "text/plain": [
              "<Figure size 720x720 with 2 Axes>"
            ]
          },
          "metadata": {
            "tags": [],
            "needs_background": "light"
          }
        }
      ]
    },
    {
      "cell_type": "code",
      "metadata": {
        "id": "aSKfX3tG2_Pi"
      },
      "source": [
        "#----------------------------------------\r\n",
        "#Target 피쳐 선정\r\n",
        "#1   Survived     891 non-null    int64\r\n",
        "#-----------------------------------------"
      ],
      "execution_count": null,
      "outputs": []
    },
    {
      "cell_type": "code",
      "metadata": {
        "colab": {
          "base_uri": "https://localhost:8080/"
        },
        "id": "YyFSv-Lt3VXH",
        "outputId": "89c3a05d-56b6-4a53-e842-032231fd6461"
      },
      "source": [
        "X = df.drop(\"Survived\", axis=1) #x : 입력값(데이터) , Survived를 뺴기에 (문제)\r\n",
        "y = df[\"Survived\"]              #y : 출력값(결과)                     (답안)\r\n",
        "print(X[:2]) #X가 대문자인 이유는 머신러닝에서 matrix성의 데이터는 대문자로 필기하기 때문\r\n",
        "print(y[:2])"
      ],
      "execution_count": null,
      "outputs": [
        {
          "output_type": "stream",
          "text": [
            "   PassengerId  Pclass  ... Cabin Embarked\n",
            "0            1       3  ...   NaN        S\n",
            "1            2       1  ...   C85        C\n",
            "\n",
            "[2 rows x 11 columns]\n",
            "0    0\n",
            "1    1\n",
            "Name: Survived, dtype: int64\n"
          ],
          "name": "stdout"
        }
      ]
    },
    {
      "cell_type": "code",
      "metadata": {
        "id": "KHVN6wlU3YSc"
      },
      "source": [
        "#-------------------------------\r\n",
        "# Object 처리(string을 인식하지 못함, 기계학습이 불가능)\r\n",
        "#-------------------------------"
      ],
      "execution_count": null,
      "outputs": []
    },
    {
      "cell_type": "code",
      "metadata": {
        "id": "BoSKnePS3cIn"
      },
      "source": [
        "#  3   Name         891 non-null    object --> name은 필요없기에 성별로 대체\r\n",
        "#  4   Sex          891 non-null    object --> lanbda식 이용해서 남성은 1, 여성은 0로 바꿈\r\n",
        "#  8   Ticket       891 non-null    object --> 정규화되거나 의미있는 데이터로 보기가 어렵다고 판단\r\n",
        "#  10  Cabin(선실)   204 non-null    object --> 전체데이터의 과반수 이상(687)건이 결측지(NaN)이므로 의미가 없다고 판단, 버림"
      ],
      "execution_count": null,
      "outputs": []
    },
    {
      "cell_type": "code",
      "metadata": {
        "colab": {
          "base_uri": "https://localhost:8080/"
        },
        "id": "HKjISk5x5Xwq",
        "outputId": "05733a91-43d6-4498-fbb7-0e66c7c10e50"
      },
      "source": [
        "#df일괄로 수정 (성별)\r\n",
        "X[\"Sex\"] = X[\"Sex\"].apply(lambda x : 0 if x == \"female\" else 1) #X 기준으로 감\r\n",
        "print(X[\"Sex\"].head()) #잘 바뀐것을 확인"
      ],
      "execution_count": null,
      "outputs": [
        {
          "output_type": "stream",
          "text": [
            "0    1\n",
            "1    0\n",
            "2    0\n",
            "3    0\n",
            "4    1\n",
            "Name: Sex, dtype: int64\n"
          ],
          "name": "stdout"
        }
      ]
    },
    {
      "cell_type": "code",
      "metadata": {
        "colab": {
          "base_uri": "https://localhost:8080/"
        },
        "id": "rieuDvfU5dHS",
        "outputId": "2272c530-8b8b-480e-f6ea-f07c5076c519"
      },
      "source": [
        "#문법공부, Cabin  C106 A51 , 이런식으로 되어있는 값에서 앞 글자 하나만 추출, Nan이 아닌 값만 뽑아오기, Cabin : 선실\r\n",
        "cp = X[X[\"Cabin\"].isnull() == False].copy() #X(원본)의 Cabin에서 null 이 아닌값만 뽑아오기, dd는 204건, .copy(): 필요한 부분만 따로 복사 해놓으라는 뜻\r\n",
        "print(X.isnull().sum()) #Cabin에 null이 몇개 인지 확인하는 방법 (687개이므로 전체에서 절반이상이 결측이라 의미가 없음)"
      ],
      "execution_count": null,
      "outputs": [
        {
          "output_type": "stream",
          "text": [
            "PassengerId      0\n",
            "Pclass           0\n",
            "Name             0\n",
            "Sex              0\n",
            "Age            177\n",
            "SibSp            0\n",
            "Parch            0\n",
            "Ticket           0\n",
            "Fare             0\n",
            "Cabin          687\n",
            "Embarked         2\n",
            "dtype: int64\n"
          ],
          "name": "stdout"
        }
      ]
    },
    {
      "cell_type": "code",
      "metadata": {
        "colab": {
          "base_uri": "https://localhost:8080/"
        },
        "id": "0_Pc46eo6ALU",
        "outputId": "c0157d36-da2e-4842-fa32-2873f0cbb38a"
      },
      "source": [
        "print(cp.isnull().sum()) #Cabin데이터에 null 이 남아있는지 확인"
      ],
      "execution_count": null,
      "outputs": [
        {
          "output_type": "stream",
          "text": [
            "PassengerId     0\n",
            "Pclass          0\n",
            "Name            0\n",
            "Sex             0\n",
            "Age            19\n",
            "SibSp           0\n",
            "Parch           0\n",
            "Ticket          0\n",
            "Fare            0\n",
            "Cabin           0\n",
            "Embarked        2\n",
            "dtype: int64\n"
          ],
          "name": "stdout"
        }
      ]
    },
    {
      "cell_type": "code",
      "metadata": {
        "colab": {
          "base_uri": "https://localhost:8080/"
        },
        "id": "kCy8qA1K5gyo",
        "outputId": "7867acdd-e562-4506-f454-50e456884035"
      },
      "source": [
        "X[\"Cabin2\"] =  X[\"Cabin\"].str[0:1] #cabin을 cabin2에 담음 , dd정보를 컬럼에 담아 신규칼럼을 만들어 str[0]번째 확인, 실제 적용값은 X에 담음\r\n",
        "print(X[\"Cabin2\"])"
      ],
      "execution_count": null,
      "outputs": [
        {
          "output_type": "stream",
          "text": [
            "0      NaN\n",
            "1        C\n",
            "2      NaN\n",
            "3        C\n",
            "4      NaN\n",
            "      ... \n",
            "886    NaN\n",
            "887      B\n",
            "888    NaN\n",
            "889      C\n",
            "890    NaN\n",
            "Name: Cabin2, Length: 891, dtype: object\n"
          ],
          "name": "stdout"
        }
      ]
    },
    {
      "cell_type": "code",
      "metadata": {
        "colab": {
          "base_uri": "https://localhost:8080/"
        },
        "id": "VkOXzIZ46LVQ",
        "outputId": "55f8104e-16db-450c-d0de-d111fe39cd6c"
      },
      "source": [
        "print(pd.crosstab(X[\"Cabin2\"], y).T) #선실 칸에 따라 생존이 관련이 있나 확인,"
      ],
      "execution_count": null,
      "outputs": [
        {
          "output_type": "stream",
          "text": [
            "Cabin2    A   B   C   D   E  F  G  T\n",
            "Survived                            \n",
            "0         8  12  24   8   8  5  2  1\n",
            "1         7  35  35  25  24  8  2  0\n"
          ],
          "name": "stdout"
        }
      ]
    },
    {
      "cell_type": "code",
      "metadata": {
        "colab": {
          "base_uri": "https://localhost:8080/"
        },
        "id": "Mu0oMElj6Qd-",
        "outputId": "055c3449-7787-4c11-e0d1-5ef30c46a633"
      },
      "source": [
        "#Cabin이 등급칸과 관련이 있나 확인\r\n",
        "print(pd.crosstab(X[\"Cabin2\"], X[\"Pclass\"]).T) #결과값은 1,2,3 등급의 A B C D E F G T 순서, A B C 룸 번호는 1등급 칸에만 있음(그러나 Cabin데이터의 양에 비해서 적음)"
      ],
      "execution_count": null,
      "outputs": [
        {
          "output_type": "stream",
          "text": [
            "Cabin2   A   B   C   D   E  F  G  T\n",
            "Pclass                             \n",
            "1       15  47  59  29  25  0  0  1\n",
            "2        0   0   0   4   4  8  0  0\n",
            "3        0   0   0   0   3  5  4  0\n"
          ],
          "name": "stdout"
        }
      ]
    },
    {
      "cell_type": "code",
      "metadata": {
        "colab": {
          "base_uri": "https://localhost:8080/"
        },
        "id": "joU1e_qU6Vyi",
        "outputId": "01ea7a17-ef9e-4abf-ee5d-3f374185c289"
      },
      "source": [
        "#Pclass 당 생존률을 확인\r\n",
        "print(pd.crosstab(X[\"Pclass\"], y).T) #1등급 칸이 생존률이 가장 높음(80명 사망이나 두배 가까이 생존), 2등급은 50:50 , 3등급 25%생존 75%사망"
      ],
      "execution_count": null,
      "outputs": [
        {
          "output_type": "stream",
          "text": [
            "Pclass      1   2    3\n",
            "Survived              \n",
            "0          80  97  372\n",
            "1         136  87  119\n"
          ],
          "name": "stdout"
        }
      ]
    },
    {
      "cell_type": "code",
      "metadata": {
        "colab": {
          "base_uri": "https://localhost:8080/"
        },
        "id": "0z_XfCLw6dLN",
        "outputId": "ee4919e8-1c57-491e-b2a5-2c30a4184772"
      },
      "source": [
        "#Pclass 당 성별을 확인\r\n",
        "print(pd.crosstab([X[\"Pclass\"],X[\"Sex\"]], y).T) #0이 여성 1이 남성, 1등급 칸의 여성은 91명이 생존\r\n",
        "#1등급 칸 91명, 2등급 칸 70명, 3등급칸 72명 생존(여성 기준), 1등급 220여 명에서 140여명 생존, 2등급 180여명에서 90여명 생존, 3등급 500여명에서 120여명 생존"
      ],
      "execution_count": null,
      "outputs": [
        {
          "output_type": "stream",
          "text": [
            "Pclass     1       2       3     \n",
            "Sex        0   1   0   1   0    1\n",
            "Survived                         \n",
            "0          3  77   6  91  72  300\n",
            "1         91  45  70  17  72   47\n"
          ],
          "name": "stdout"
        }
      ]
    },
    {
      "cell_type": "code",
      "metadata": {
        "colab": {
          "base_uri": "https://localhost:8080/"
        },
        "id": "SSWtEWzf6fB-",
        "outputId": "ac0cc8e5-ab0a-4e0b-b199-03ab1c5c86f1"
      },
      "source": [
        "#나이를 예측하기 위해 이름의 호칭 추출 Sibsp Parch\r\n",
        "X[\"Name2\"] = X[\"Name\"].str.extract(\"([A-Za-z]+)\\.\") #Name에서 끊어낸다(extract, 컴파일도 상관없음), [A-Za-z] : 대문자 A-Z나 소문자a-z로 시작함, \\. : 특수기호의 점을 찾아와라\r\n",
        "# fill_mean_func = lambda g: g[\"Age\"].fillna(g.mean())\r\n",
        "# X = X.groupby(by=[\"Name2\"]).apply(fill_mean_func)\r\n",
        "dict = X.groupby(by=[\"Name2\"])[[\"Name2\",\"Age\"]].mean().astype(np.int32).to_dict() #딕셔너리화\r\n",
        "print(dict['Age'])\r\n",
        "fill_mean_func = lambda gname: gname.fillna(dict['Age'][gname.name]) #그룹의 이름이 내가 dic로 뽑아낸 값과 같으면 그 값으로 null값을 채워라\r\n",
        "X = X.groupby('Name2').apply(fill_mean_func)\r\n",
        "print(X[[\"Name2\",\"Name\",\"Age\"]].head(10))\r\n",
        "# X[\"Age\"] = X[\"Age\"].fillna(30)"
      ],
      "execution_count": null,
      "outputs": [
        {
          "output_type": "stream",
          "text": [
            "{'Capt': 70, 'Col': 58, 'Countess': 33, 'Don': 40, 'Dr': 42, 'Jonkheer': 38, 'Lady': 48, 'Major': 48, 'Master': 4, 'Miss': 21, 'Mlle': 24, 'Mme': 24, 'Mr': 32, 'Mrs': 35, 'Ms': 28, 'Rev': 43, 'Sir': 49}\n",
            "    Name2                                               Name   Age\n",
            "0      Mr                            Braund, Mr. Owen Harris  22.0\n",
            "1     Mrs  Cumings, Mrs. John Bradley (Florence Briggs Th...  38.0\n",
            "2    Miss                             Heikkinen, Miss. Laina  26.0\n",
            "3     Mrs       Futrelle, Mrs. Jacques Heath (Lily May Peel)  35.0\n",
            "4      Mr                           Allen, Mr. William Henry  35.0\n",
            "5      Mr                                   Moran, Mr. James  32.0\n",
            "6      Mr                            McCarthy, Mr. Timothy J  54.0\n",
            "7  Master                     Palsson, Master. Gosta Leonard   2.0\n",
            "8     Mrs  Johnson, Mrs. Oscar W (Elisabeth Vilhelmina Berg)  27.0\n",
            "9     Mrs                Nasser, Mrs. Nicholas (Adele Achem)  14.0\n"
          ],
          "name": "stdout"
        }
      ]
    },
    {
      "cell_type": "code",
      "metadata": {
        "colab": {
          "base_uri": "https://localhost:8080/"
        },
        "id": "RFkqV2736noU",
        "outputId": "adc51a1d-d6a0-4752-9687-249671fb4638"
      },
      "source": [
        "#나이 구간화하기(나눈 몫으로 함)   11 12 13 --> 10 대 , 22 23 24 --> 20대, 80 --> 80대\r\n",
        "# // : 몫 만 가져오기\r\n",
        "#print(X[\"Age\"].max())#최고령자 나이 확인, 실행안되면 x넣고 해보기, 실행 안될것\r\n",
        "X[\"Age_cate\"] = X[\"Age\"].apply(lambda x : int(x//10))#해당하는 나이는 나이 구간으로 집어넣음, 몫으로 가지고 옴\r\n",
        "print(X[[\"Age_cate\", \"Age\"]]) #Age에 위 함수를 적용한 값을 Age_cate에 보여줌"
      ],
      "execution_count": null,
      "outputs": [
        {
          "output_type": "stream",
          "text": [
            "     Age_cate   Age\n",
            "0           2  22.0\n",
            "1           3  38.0\n",
            "2           2  26.0\n",
            "3           3  35.0\n",
            "4           3  35.0\n",
            "..        ...   ...\n",
            "886         2  27.0\n",
            "887         1  19.0\n",
            "888         2  21.0\n",
            "889         2  26.0\n",
            "890         3  32.0\n",
            "\n",
            "[891 rows x 2 columns]\n"
          ],
          "name": "stdout"
        }
      ]
    },
    {
      "cell_type": "code",
      "metadata": {
        "colab": {
          "base_uri": "https://localhost:8080/"
        },
        "id": "2pG9sdjq8PWI",
        "outputId": "da7a542c-964d-4fcd-fb9e-ea1ee92073df"
      },
      "source": [
        "print(pd.crosstab([X[\"Pclass\"],X[\"Sex\"], X[\"Age_cate\"]], y).T) # Pclass에 Sex와 Age_cate당 생존률\r\n",
        "#1등급 칸(0~6 은 나이를 의미) 여성은 3명 제외하고 전부 생존, 3등급칸은 뒤로 갈 수록 생존자가 줄어듬(1,8,4,16,17,2,0,0,0)\r\n",
        "#잠재적 결론 1. 1등급 Pclass의 여성은 나이불문 대부분 생존, 남성은 1 > 2 > 3 등급순으로 생존"
      ],
      "execution_count": null,
      "outputs": [
        {
          "output_type": "stream",
          "text": [
            "Pclass    1                                  ...  3                                 \n",
            "Sex       0                         1        ...  0      1                          \n",
            "Age_cate  0   1   2   3   4   5  6  0  1  2  ...  4  6   0   1   2    3   4  5  6  7\n",
            "Survived                                     ...                                    \n",
            "0         1   0   1   0   0   1  0  0  3  9  ...  9  0  15  38  86  128  23  6  2  2\n",
            "1         0  13  16  35  13  11  3  2  2  9  ...  0  1  10   4  16   15   2  0  0  0\n",
            "\n",
            "[2 rows x 44 columns]\n"
          ],
          "name": "stdout"
        }
      ]
    },
    {
      "cell_type": "code",
      "metadata": {
        "colab": {
          "base_uri": "https://localhost:8080/"
        },
        "id": "mr4r58-c8SJd",
        "outputId": "a2b32f94-728d-4194-f40d-a0ee479244c8"
      },
      "source": [
        "#  11  Embarked(배에 어느 부분에 탑승했는가(선착장). 누군가는 s, 누군가는 c , q에서 탑승)     889 non-null    object --> 생존과 무관해보임\r\n",
        "print(pd.crosstab(X[\"Embarked\"],y).T) #S에 탑승했으면 많이 죽었음(427, 217)\r\n",
        "print(pd.crosstab([X[\"Embarked\"],X[\"Pclass\"]],y).T) # Embarked의 Pclass 확인, \r\n",
        "# c에 탑승시 사망 (26+8+41) 생존(59+9+25), S가 3등급 승객이 이용하는 게이트가 되었을 것이고 생존률은 비슷비슷 함(50:50)\r\n",
        "#1등급은 C(26, 59), Q(1, 1), S(53, 74) 를 확인했을때 생존률이 높음, 3등급은 C(41, 25), Q(45, 27), S(286, 67) 을 확인했을때 많이 사망\r\n",
        "#즉, C Q S 는 생존률과는 많은 상관이 없고 등급이 더 관련이 크므로, 생존을 확인할 때 Embarked는 빼도 됨"
      ],
      "execution_count": null,
      "outputs": [
        {
          "output_type": "stream",
          "text": [
            "Embarked  21  35   C   Q    S\n",
            "Survived                     \n",
            "0          0   0  75  47  427\n",
            "1          1   1  93  30  217\n",
            "Embarked 21 35   C         Q          S         \n",
            "Pclass    1  1   1  2   3  1  2   3   1   2    3\n",
            "Survived                                        \n",
            "0         0  0  26  8  41  1  1  45  53  88  286\n",
            "1         1  1  59  9  25  1  2  27  74  76   67\n"
          ],
          "name": "stdout"
        }
      ]
    },
    {
      "cell_type": "code",
      "metadata": {
        "colab": {
          "base_uri": "https://localhost:8080/"
        },
        "id": "IIgEM6lP8Vux",
        "outputId": "3764eeb0-af3e-4b56-8c76-f305ecf29fbd"
      },
      "source": [
        "X[\"Embarked\"] = X[\"Embarked\"].apply(lambda x : 1 if x == \"C\" else (2 if x == \"Q\" else 3))\r\n",
        "print(X[\"Embarked\"])"
      ],
      "execution_count": null,
      "outputs": [
        {
          "output_type": "stream",
          "text": [
            "0      3\n",
            "1      1\n",
            "2      3\n",
            "3      3\n",
            "4      3\n",
            "      ..\n",
            "886    3\n",
            "887    3\n",
            "888    3\n",
            "889    1\n",
            "890    2\n",
            "Name: Embarked, Length: 891, dtype: int64\n"
          ],
          "name": "stdout"
        }
      ]
    },
    {
      "cell_type": "code",
      "metadata": {
        "colab": {
          "base_uri": "https://localhost:8080/"
        },
        "id": "vJNXmUfH8hPU",
        "outputId": "8d2119bf-5648-41e1-c271-de34ddb5a21c"
      },
      "source": [
        "# 병합 피쳐 : 중복된특징,\r\n",
        "#  6   SibSp(형제나 자매)      891 non-null    int64\r\n",
        "#  7   Parch(부모자식)        891 non-null    int64\r\n",
        "X[\"SP\"] = X[\"SibSp\"] + X[\"Parch\"] # Sibsp 와 Parch를 합산한 것을 SP로 칭함\r\n",
        "print(X[[\"SP\", \"SibSp\", \"Parch\"]]) # 2 와 1이 더해져서 3이 되는 등 잘 합쳐짐"
      ],
      "execution_count": null,
      "outputs": [
        {
          "output_type": "stream",
          "text": [
            "     SP  SibSp  Parch\n",
            "0     1      1      0\n",
            "1     1      1      0\n",
            "2     0      0      0\n",
            "3     1      1      0\n",
            "4     0      0      0\n",
            "..   ..    ...    ...\n",
            "886   0      0      0\n",
            "887   0      0      0\n",
            "888   3      1      2\n",
            "889   0      0      0\n",
            "890   0      0      0\n",
            "\n",
            "[891 rows x 3 columns]\n"
          ],
          "name": "stdout"
        }
      ]
    },
    {
      "cell_type": "code",
      "metadata": {
        "colab": {
          "base_uri": "https://localhost:8080/"
        },
        "id": "KDrcwx2G8kyI",
        "outputId": "88f7b5a7-2295-403e-b114-77beceb526ee"
      },
      "source": [
        "# 삭제 피쳐 : 일련번호\r\n",
        "#  0   PassengerId  891 non-null    int64\r\n",
        "print(X.shape) #지우기전 shape 확인\r\n",
        "X.drop(\"PassengerId\", axis=1, inplace=True)#일련번호 삭제\r\n",
        "print(X.shape) #지운 후 shape 확인 (891, 14)에서 (891, 13)으로 줄어듬"
      ],
      "execution_count": null,
      "outputs": [
        {
          "output_type": "stream",
          "text": [
            "(891, 15)\n",
            "(891, 14)\n"
          ],
          "name": "stdout"
        }
      ]
    },
    {
      "cell_type": "code",
      "metadata": {
        "colab": {
          "base_uri": "https://localhost:8080/"
        },
        "id": "8QMZT-LC8sPR",
        "outputId": "9262ed33-9c57-4573-f064-0e2f2747d0cb"
      },
      "source": [
        "#삭제 칼럼\r\n",
        "print(X.shape)\r\n",
        "print(X.info())"
      ],
      "execution_count": null,
      "outputs": [
        {
          "output_type": "stream",
          "text": [
            "(891, 14)\n",
            "<class 'pandas.core.frame.DataFrame'>\n",
            "RangeIndex: 891 entries, 0 to 890\n",
            "Data columns (total 14 columns):\n",
            " #   Column    Non-Null Count  Dtype  \n",
            "---  ------    --------------  -----  \n",
            " 0   Pclass    891 non-null    int64  \n",
            " 1   Name      891 non-null    object \n",
            " 2   Sex       891 non-null    int64  \n",
            " 3   Age       891 non-null    float64\n",
            " 4   SibSp     891 non-null    int64  \n",
            " 5   Parch     891 non-null    int64  \n",
            " 6   Ticket    891 non-null    object \n",
            " 7   Fare      891 non-null    float64\n",
            " 8   Cabin     891 non-null    object \n",
            " 9   Embarked  891 non-null    int64  \n",
            " 10  Cabin2    891 non-null    object \n",
            " 11  Name2     891 non-null    object \n",
            " 12  Age_cate  891 non-null    int64  \n",
            " 13  SP        891 non-null    int64  \n",
            "dtypes: float64(2), int64(7), object(5)\n",
            "memory usage: 97.6+ KB\n",
            "None\n"
          ],
          "name": "stdout"
        }
      ]
    },
    {
      "cell_type": "code",
      "metadata": {
        "colab": {
          "base_uri": "https://localhost:8080/"
        },
        "id": "mtRviFU-8zBx",
        "outputId": "e693c449-8a1e-4ee8-81fa-f4c78b5c7003"
      },
      "source": [
        "replace_col = [\"SibSp\", \"Parch\", \"Name\", \"Name2\", \"Age\"] #대체한 컬럼, SP = SibSp + Parch ,  Age_cate <-- Name, Name2, Age\r\n",
        "del_col = [\"Ticket\", \"Fare\", \"Cabin\", \"Embarked\",\"Cabin2\"] #필요 없는 컬럼, \"Cabin2\"는 object여서 삭제, name2로 나이평균을 구했다면 필요없음\r\n",
        "#Ticket : 일련번호여서 삭제, Cabin : 방 번호 삭제(전체데이터의 75%가 결측치), / Fare : 요금, Embarked : 선착 구역 - 결측치나 일련번호 등은 아니라 살려놓아도 상괸없음\r\n",
        "replace_col = replace_col + del_col\r\n",
        "X.drop(replace_col, axis=1, inplace=True)\r\n",
        "print(X.info()) #남아있는 컬럼, name2는 평균 나이를 채우기 위해 남겨둠, 나이가 채워지면 필요 없어짐"
      ],
      "execution_count": null,
      "outputs": [
        {
          "output_type": "stream",
          "text": [
            "<class 'pandas.core.frame.DataFrame'>\n",
            "RangeIndex: 891 entries, 0 to 890\n",
            "Data columns (total 4 columns):\n",
            " #   Column    Non-Null Count  Dtype\n",
            "---  ------    --------------  -----\n",
            " 0   Pclass    891 non-null    int64\n",
            " 1   Sex       891 non-null    int64\n",
            " 2   Age_cate  891 non-null    int64\n",
            " 3   SP        891 non-null    int64\n",
            "dtypes: int64(4)\n",
            "memory usage: 28.0 KB\n",
            "None\n"
          ],
          "name": "stdout"
        }
      ]
    },
    {
      "cell_type": "code",
      "metadata": {
        "id": "nfmew3no848m"
      },
      "source": [
        "heat_df = X.copy()#heatmap 그릴 용도로 heat_df 사용"
      ],
      "execution_count": null,
      "outputs": []
    },
    {
      "cell_type": "code",
      "metadata": {
        "id": "EKfCXHNm9CVo"
      },
      "source": [
        "heat_df[\"Servvvv\"] = y #y데이터를 X에 넣은 후 X (가공 마친 데이터 상관분석)"
      ],
      "execution_count": null,
      "outputs": []
    },
    {
      "cell_type": "code",
      "metadata": {
        "colab": {
          "base_uri": "https://localhost:8080/",
          "height": 614
        },
        "id": "AJ6L1IoL9Epe",
        "outputId": "ad4c17a1-e36c-498a-f280-0c76b4dd8f2b"
      },
      "source": [
        "plt.figure(figsize=(10,10))#plot size 지정  #fmt는 소숫점 이하 자릿수를 표시\r\n",
        "sns.heatmap(data= heat_df.corr(),annot=True, fmt=\".2f\") #데이터 프레임의 상관분석), annot=True : % 보여달라는 뜻, Y에 중요한 영향을 끼치는 것들 보고 싶기에 data= df.corr()에 X를 기입하지 않음\r\n",
        "#plt.show() #풀고 실행. 상관분석은 object를 제외하기에 수치형만 표시 됨\r\n",
        "#Servvvv와 Sex가 관련성이 매우높음(검은색, -0.54), Servvv와 Age_cate의 관련성이 적은것(-0.078)으로 보아 항해의 법칙이 제대로 지켜지지 않음을 확인\r\n",
        "#Pclass와 연관된것은 Afe_cate, Sex와 연관된것은 Servvvv와 관련됨"
      ],
      "execution_count": null,
      "outputs": [
        {
          "output_type": "execute_result",
          "data": {
            "text/plain": [
              "<matplotlib.axes._subplots.AxesSubplot at 0x7f3a3222e390>"
            ]
          },
          "metadata": {
            "tags": []
          },
          "execution_count": 45
        },
        {
          "output_type": "display_data",
          "data": {
            "image/png": "[encoded data removed]",
            "text/plain": [
              "<Figure size 720x720 with 2 Axes>"
            ]
          },
          "metadata": {
            "tags": [],
            "needs_background": "light"
          }
        }
      ]
    },
    {
      "cell_type": "code",
      "metadata": {
        "id": "xHSdjDYr9HJK"
      },
      "source": [
        "#-----------------------------\r\n",
        "#분석(모델선정/ 평가척도/ 검증)\r\n",
        "\r\n",
        "X_train, X_test, y_train, y_test = train_test_split(X, y, test_size=0.2, random_state=121, shuffle=True) # 데이터 양이 작기에 test_size를 0.2로 잡음(20%) , return이 여러개일 수 있음\r\n",
        "#문제와 답안 전체를 집어넣음\r\n"
      ],
      "execution_count": null,
      "outputs": []
    },
    {
      "cell_type": "code",
      "metadata": {
        "id": "b5ddAM0W9L04"
      },
      "source": [
        "#무슨 모델을(알고리즘) 사용할까\r\n",
        "from sklearn.tree import DecisionTreeClassifier\r\n",
        "from sklearn.neighbors import KNeighborsClassifier\r\n",
        "from sklearn.metrics import accuracy_score, f1_score, recall_score, precision_score, roc_auc_score #평가\r\n",
        "from sklearn.ensemble import RandomForestClassifier\r\n",
        "\r\n",
        "dt_model = DecisionTreeClassifier() #트리모델\r\n",
        "knn_model = KNeighborsClassifier()\r\n",
        "rf_model = RandomForestClassifier()#랜덤 포레스트"
      ],
      "execution_count": null,
      "outputs": []
    },
    {
      "cell_type": "code",
      "metadata": {
        "colab": {
          "base_uri": "https://localhost:8080/"
        },
        "id": "btxkNJDV9Piq",
        "outputId": "01bbb615-aa88-4c6f-f070-49f44c7e62b4"
      },
      "source": [
        "models = [dt_model, knn_model, rf_model]  #루프돌며 각각의 점수를 확인\r\n",
        "for model in models : ###############?????????????????????????????????????????r강사님 파일 확인\r\n",
        "    # fit : 학습하다\r\n",
        "    model.fit(X_train, y_train) #X_train(문제80)과 y_train(답안 80)을 fit(학습)\r\n",
        "    # predict : 시험\r\n",
        "    y_pred = model.predict(X_test) #predict(예측), 문제_테스트만 있고 답안을 뻄\r\n",
        "    # score : 예측 정확도 확인\r\n",
        "    score = accuracy_score(y_test, y_pred)\r\n",
        "    #--f1, auc, accuracy, 교차검증\r\n",
        "    #-- mse mae rmse\r\n",
        "    #-- shiluet\r\n",
        "    print(model.__class__)   \r\n",
        "    print(model.__str__(), \":\" , score) #0.9666666666666667"
      ],
      "execution_count": null,
      "outputs": [
        {
          "output_type": "stream",
          "text": [
            "<class 'sklearn.tree._classes.DecisionTreeClassifier'>\n",
            "DecisionTreeClassifier(ccp_alpha=0.0, class_weight=None, criterion='gini',\n",
            "                       max_depth=None, max_features=None, max_leaf_nodes=None,\n",
            "                       min_impurity_decrease=0.0, min_impurity_split=None,\n",
            "                       min_samples_leaf=1, min_samples_split=2,\n",
            "                       min_weight_fraction_leaf=0.0, presort='deprecated',\n",
            "                       random_state=None, splitter='best') : 0.7932960893854749\n",
            "<class 'sklearn.neighbors._classification.KNeighborsClassifier'>\n",
            "KNeighborsClassifier(algorithm='auto', leaf_size=30, metric='minkowski',\n",
            "                     metric_params=None, n_jobs=None, n_neighbors=5, p=2,\n",
            "                     weights='uniform') : 0.7541899441340782\n",
            "<class 'sklearn.ensemble._forest.RandomForestClassifier'>\n",
            "RandomForestClassifier(bootstrap=True, ccp_alpha=0.0, class_weight=None,\n",
            "                       criterion='gini', max_depth=None, max_features='auto',\n",
            "                       max_leaf_nodes=None, max_samples=None,\n",
            "                       min_impurity_decrease=0.0, min_impurity_split=None,\n",
            "                       min_samples_leaf=1, min_samples_split=2,\n",
            "                       min_weight_fraction_leaf=0.0, n_estimators=100,\n",
            "                       n_jobs=None, oob_score=False, random_state=None,\n",
            "                       verbose=0, warm_start=False) : 0.8044692737430168\n"
          ],
          "name": "stdout"
        }
      ]
    },
    {
      "cell_type": "code",
      "metadata": {
        "id": "299PJRF39Th3"
      },
      "source": [
        "##분석(예측)력을 저해하는 원인\r\n",
        "#문제                         ->     해결법\r\n",
        "# 1. 피쳐가 많은 경우        --> 모델의 복잡도가 증가하는 경우(오버피팅<-->언더피팅(현재 타이타닉 데이터)) print(X.head()) 으로 확인.\r\n",
        "# 2. 수치가 큰 경우          --> log, scalling\r\n",
        "# 3. 결측데이터(Null)       --> isnull(), fillna()\r\n",
        "      #print(X.isnull().sum())로 결측데이터 없는 것 확인\r\n",
        "# 4. 이상치(Outlier)       --> 협의 후 삭제/ 대체\r\n",
        "      #데이터 이상치 유무를 boxplot으로 확인(사분위수, 박스플랏, 히스토, 산점도가 있음)\r\n",
        "# 5. 데이터가 편중          --> 정규분포화 시키면 해결\r\n",
        "# 6. 피쳐가공(Object --> 변환, 유니크한 일련번호(주민번호, 티켓번호)삭제, 구간화(범주화 시키기), 원핫(OH)인코딩)하게 되면 분석력을 높임\r\n",
        "# 7. 데이터가 적은 경우      --> 데이터 증강시키면 해결\r\n",
        "# 8. 모델이 적절하지 않는 경우--> 다른 모델 사용, 튜닝(Hyper Parameter)"
      ],
      "execution_count": null,
      "outputs": []
    },
    {
      "cell_type": "code",
      "metadata": {
        "id": "xcagdHRt9jla"
      },
      "source": [
        "#---------------------------------------------------------------------\r\n",
        "# 4. 이상치(Outlier) 확인, 문법만 숙지 데이터가 의미가 크게없고 실행이 오래걸림\r\n",
        "# 4-1. boxplot, scatter plot 그리는 것, 문법만 숙지\r\n",
        "#x=None, y=None, hue=None, data=None,\r\n",
        "# fig, axes = plt.subplots(nrows=3, ncols=5)#차트 영역 만들기, 나눈것을 fig, axes로 가져감\r\n",
        "# columns = df.columns\r\n",
        "# for i, col in enumerate(columns) : # i : 루프돌며 컬럼이름과 번쨰를 꺼냄, columns 갯수만큼 i는 13번 회전, 열거형으로 바꾸려고 enumerate 사용\r\n",
        "#     r = int(i / 5) # 13 / 5에 나머지가 있으므로 int로 캐스팅\r\n",
        "#     c = i % 5\r\n",
        "#     sns.boxplot(x=col, y='Survived', data=df, ax=axes[r][c]) #col 로 모든컬럼으로 루프를 돌려 Servived 확인\r\n",
        "# plt.show()"
      ],
      "execution_count": null,
      "outputs": []
    },
    {
      "cell_type": "code",
      "metadata": {
        "id": "OIeG_Hz99mRM"
      },
      "source": [
        "#----------------------------------------------------------------------\r\n",
        "# 4-2. IQR : 25%~75% 범위 값 , 확인\r\n",
        "def get_outlier(df=None, column=None):\r\n",
        "    # target 값과 상관관계가 높은 열을 우선적으로 진행\r\n",
        "    Q1 = np.percentile(df[column].values, 25)\r\n",
        "    Q3 = np.percentile(df[column].values, 75)\r\n",
        "\r\n",
        "    IQR = Q3 - Q1\r\n",
        "    IQR_weight = IQR * 1.5 #이해할수 있는 마지노선 , 위에서 만든 값의 1.5배까지\r\n",
        "\r\n",
        "    minimum = Q1 - IQR_weight\r\n",
        "    maximum = Q3 + IQR_weight\r\n",
        "\r\n",
        "    outlier_idx = df[column][(df[column] < minimum) | (df[column] > maximum)].index #해당하는 컬럼이 minimum보다 작습니까, 해당하는 컬럼이 maximum보다 큽니까? 조건을 만족하는 컬럼을 가지고 옴\r\n",
        "    return outlier_idx"
      ],
      "execution_count": null,
      "outputs": []
    },
    {
      "cell_type": "code",
      "metadata": {
        "colab": {
          "base_uri": "https://localhost:8080/"
        },
        "id": "WppFssxg9q3h",
        "outputId": "f7abdd09-31fe-4f90-c573-98eb3508d2de"
      },
      "source": [
        "# 함수 사용해서 이상치 값 삭제\r\n",
        "numeric_columns = df.dtypes[df.dtypes != 'object'].index #수치형 feature만 따로 잡아감, ! = : !=\r\n",
        "#print(numeric_columns) #Index(['PassengerId', 'Survived', 'Pclass', 'Age', 'SibSp', 'Parch', 'Fare'], dtype='object')\r\n",
        "#columns = df.columns 실행안해도 될것 같음\r\n",
        "for i, col in enumerate(numeric_columns) : #enumerate : i 와 columns 를 같이 회전시키기 위해\r\n",
        "    oulier_idx = get_outlier(df=df, column=col)\r\n",
        "    print(col , oulier_idx) #outlier 확인을 했을때, 총 900개 중에 200개를 버릴 수가 없어서 남겨둠(분석률이 더 떨어짐)\r\n",
        "    ##df.drop(outlier_idx, axis=0, inplace=True) #drop은 하지 말기(데이터가 너무 적어서 안됨)\r\n"
      ],
      "execution_count": null,
      "outputs": [
        {
          "output_type": "stream",
          "text": [
            "PassengerId Int64Index([], dtype='int64')\n",
            "Survived Int64Index([], dtype='int64')\n",
            "Pclass Int64Index([], dtype='int64')\n",
            "Age Int64Index([], dtype='int64')\n",
            "SibSp Int64Index([  7,  16,  24,  27,  50,  59,  63,  68,  71,  85,  88, 119, 159,\n",
            "            164, 171, 176, 180, 182, 201, 229, 233, 261, 266, 278, 324, 341,\n",
            "            374, 386, 409, 480, 485, 541, 542, 634, 642, 683, 686, 726, 787,\n",
            "            792, 813, 819, 824, 846, 850, 863],\n",
            "           dtype='int64')\n",
            "Parch Int64Index([  7,   8,  10,  13,  16,  24,  25,  27,  43,  50,\n",
            "            ...\n",
            "            855, 856, 858, 863, 869, 871, 879, 880, 885, 888],\n",
            "           dtype='int64', length=213)\n",
            "Fare Int64Index([  1,  27,  31,  34,  52,  61,  62,  72,  88, 102,\n",
            "            ...\n",
            "            792, 802, 820, 829, 835, 846, 849, 856, 863, 879],\n",
            "           dtype='int64', length=116)\n"
          ],
          "name": "stdout"
        }
      ]
    },
    {
      "cell_type": "code",
      "metadata": {
        "colab": {
          "base_uri": "https://localhost:8080/",
          "height": 324
        },
        "id": "ssd9x_Nz-_YC",
        "outputId": "a6dd7fd1-121e-4285-f513-309f847e253f"
      },
      "source": [
        "# 5. 데이터가 편중          --> 정규분포화 시키면 해결\r\n",
        "df.hist(figsize=(20,5)) #histogram 그리기 , 크게 봐야해서 (20,5)\r\n",
        "##아래 꼭 주석 풀고 실행\r\n",
        "plt.show()#fare은 요금, path(식구), sibsp는 바꿀 수 없음"
      ],
      "execution_count": null,
      "outputs": [
        {
          "output_type": "display_data",
          "data": {
            "image/png": "[encoded data removed]",
            "text/plain": [
              "<Figure size 1440x360 with 9 Axes>"
            ]
          },
          "metadata": {
            "tags": [],
            "needs_background": "light"
          }
        }
      ]
    },
    {
      "cell_type": "code",
      "metadata": {
        "id": "mW-NE4zy_ER5"
      },
      "source": [
        "from sklearn.preprocessing import StandardScaler #평균 0 , 분산 1 로 데이터를 밀어넣음 , #m0 v1\r\n",
        "#outlier 제거해야 minmaxscaler 잘 나옴\r\n",
        "from sklearn.preprocessing import MinMaxScaler #최대 최소값을 0과 1 사이로 밀어넣음      # 0~1, 0~1 사이에 모든 데이터를 스케일링\r\n",
        "from sklearn.preprocessing import RobustScaler # 중위수 기준으로 min max를 끌어넣음     #min~median~max , oullier의 영향을 가장 적게받음\r\n",
        "#1,2,3,4,5,6,7,8,9 일떄 편차(중위값)은 5, 분산에서 루트 씌우면 편차\r\n",
        "#scale은 수치가 달라지는 거지 분포도가 바뀌지 않음, 수치가 달라지므로(y값도 달라짐) 결과값은 달라짐"
      ],
      "execution_count": null,
      "outputs": []
    },
    {
      "cell_type": "code",
      "metadata": {
        "colab": {
          "base_uri": "https://localhost:8080/"
        },
        "id": "wnLaU-1a_Nnw",
        "outputId": "0aa232f0-05eb-4835-95c6-eb3f964a728b"
      },
      "source": [
        "scaler = StandardScaler()\r\n",
        "# scaler.fit()\r\n",
        "# scaler.transform() #scaler을 이용해서 transform\r\n",
        "X_scaler = scaler.fit_transform(X) #위 두개를 한번에 하는 것, 스켈일링 된 데이터\r\n",
        "X_train, X_test, y_train, y_test = train_test_split(X_scaler, y, test_size=0.2, random_state=121, shuffle=True)\r\n",
        "models = [dt_model, knn_model, rf_model]  #루프돌며 각각의 점수를 확인\r\n",
        "for model in models : ###############?????????????????????????????????????????r강사님 파일 확인\r\n",
        "    # fit : 학습하다\r\n",
        "    model.fit(X_train, y_train) #X_train(문제80)과 y_train(답안 80)을 fit(학습)\r\n",
        "    # predict : 시험\r\n",
        "    y_pred = model.predict(X_test) #predict(예측), 문제_테스트만 있고 답안을 뻄\r\n",
        "    # score : 예측 정확도 확인\r\n",
        "    score = accuracy_score(y_test, y_pred)\r\n",
        "    #--f1, auc, accuracy, 교차검증\r\n",
        "    #-- mse mae rmse\r\n",
        "    #-- shiluet\r\n",
        "    print(model.__class__)\r\n",
        "    print(model.__str__(), \":\" , score)"
      ],
      "execution_count": null,
      "outputs": [
        {
          "output_type": "stream",
          "text": [
            "<class 'sklearn.tree._classes.DecisionTreeClassifier'>\n",
            "DecisionTreeClassifier(ccp_alpha=0.0, class_weight=None, criterion='gini',\n",
            "                       max_depth=None, max_features=None, max_leaf_nodes=None,\n",
            "                       min_impurity_decrease=0.0, min_impurity_split=None,\n",
            "                       min_samples_leaf=1, min_samples_split=2,\n",
            "                       min_weight_fraction_leaf=0.0, presort='deprecated',\n",
            "                       random_state=None, splitter='best') : 0.7821229050279329\n",
            "<class 'sklearn.neighbors._classification.KNeighborsClassifier'>\n",
            "KNeighborsClassifier(algorithm='auto', leaf_size=30, metric='minkowski',\n",
            "                     metric_params=None, n_jobs=None, n_neighbors=5, p=2,\n",
            "                     weights='uniform') : 0.7653631284916201\n",
            "<class 'sklearn.ensemble._forest.RandomForestClassifier'>\n",
            "RandomForestClassifier(bootstrap=True, ccp_alpha=0.0, class_weight=None,\n",
            "                       criterion='gini', max_depth=None, max_features='auto',\n",
            "                       max_leaf_nodes=None, max_samples=None,\n",
            "                       min_impurity_decrease=0.0, min_impurity_split=None,\n",
            "                       min_samples_leaf=1, min_samples_split=2,\n",
            "                       min_weight_fraction_leaf=0.0, n_estimators=100,\n",
            "                       n_jobs=None, oob_score=False, random_state=None,\n",
            "                       verbose=0, warm_start=False) : 0.7988826815642458\n"
          ],
          "name": "stdout"
        }
      ]
    },
    {
      "cell_type": "code",
      "metadata": {
        "colab": {
          "base_uri": "https://localhost:8080/"
        },
        "id": "LZ05I3aA_WjV",
        "outputId": "e5fdc143-8c8e-4c9f-855c-02503484c1e3"
      },
      "source": [
        "# 6. 피쳐가공(Object --> 변환, 유니크한 일련번호(주민번호, 티켓번호)삭제, 구간화(범주화 시키기), 원핫(OH)인코딩)하게 되면 분석력을 높임\r\n",
        "#일련번호 삭제와 구간화(나이)는 실행함 , 원핫 인코딩만 하면 됨(object변환 후 수치형데이터로 바꾸고 원핫인코딩 실행)\r\n",
        "#10대 -> 10 , 20대 -> 20, 80대--> 80 이 되는것이 큰 수는 더 좋다고 인식하므로 원핫 인코딩하기 좋음 , 희소데이터 : 0이 많은 데이터\r\n",
        "#print(X.info()) #X 데이터 모양 확인\r\n",
        "print(X[\"Age_cate\"].head()) #원핫인코딩은 get범위를 이용"
      ],
      "execution_count": null,
      "outputs": [
        {
          "output_type": "stream",
          "text": [
            "0    2\n",
            "1    3\n",
            "2    2\n",
            "3    3\n",
            "4    3\n",
            "Name: Age_cate, dtype: int64\n"
          ],
          "name": "stdout"
        }
      ]
    },
    {
      "cell_type": "code",
      "metadata": {
        "colab": {
          "base_uri": "https://localhost:8080/"
        },
        "id": "2e4cP5T8_bim",
        "outputId": "1a0a3aa0-00a2-4024-808e-b175593509d4"
      },
      "source": [
        "print(X.info()) #먼저 지금의 모양 확인\r\n",
        "##인코딩 , X에 있는 Age_cate 정리\r\n",
        "#원핫인코딩\r\n",
        "X_encoding = pd.get_dummies(data=X, columns=[\"Age_cate\"], prefix = \"OH_Age_cate\") #prifix = \" \"의 이름을 설정해줌\r\n",
        "print(X_encoding.info()) #OH_Age_cate_0 ~ 8 생긴것 확인\r\n",
        "print(X_encoding.head().T) #짤리니까 T 시킴 , 본인것만 1 시키고 나머지는 0 시킴\r\n",
        "#    Age_cate  OH_0  OH_1 원핫 인코딩시, (891, 12) + 9 개추가 --> (891, 21)\r\n",
        "# 0  1         0     0\r\n",
        "# 1  1         0     1"
      ],
      "execution_count": null,
      "outputs": [
        {
          "output_type": "stream",
          "text": [
            "<class 'pandas.core.frame.DataFrame'>\n",
            "RangeIndex: 891 entries, 0 to 890\n",
            "Data columns (total 4 columns):\n",
            " #   Column    Non-Null Count  Dtype\n",
            "---  ------    --------------  -----\n",
            " 0   Pclass    891 non-null    int64\n",
            " 1   Sex       891 non-null    int64\n",
            " 2   Age_cate  891 non-null    int64\n",
            " 3   SP        891 non-null    int64\n",
            "dtypes: int64(4)\n",
            "memory usage: 28.0 KB\n",
            "None\n",
            "<class 'pandas.core.frame.DataFrame'>\n",
            "RangeIndex: 891 entries, 0 to 890\n",
            "Data columns (total 12 columns):\n",
            " #   Column         Non-Null Count  Dtype\n",
            "---  ------         --------------  -----\n",
            " 0   Pclass         891 non-null    int64\n",
            " 1   Sex            891 non-null    int64\n",
            " 2   SP             891 non-null    int64\n",
            " 3   OH_Age_cate_0  891 non-null    uint8\n",
            " 4   OH_Age_cate_1  891 non-null    uint8\n",
            " 5   OH_Age_cate_2  891 non-null    uint8\n",
            " 6   OH_Age_cate_3  891 non-null    uint8\n",
            " 7   OH_Age_cate_4  891 non-null    uint8\n",
            " 8   OH_Age_cate_5  891 non-null    uint8\n",
            " 9   OH_Age_cate_6  891 non-null    uint8\n",
            " 10  OH_Age_cate_7  891 non-null    uint8\n",
            " 11  OH_Age_cate_8  891 non-null    uint8\n",
            "dtypes: int64(3), uint8(9)\n",
            "memory usage: 28.8 KB\n",
            "None\n",
            "               0  1  2  3  4\n",
            "Pclass         3  1  3  1  3\n",
            "Sex            1  0  0  0  1\n",
            "SP             1  1  0  1  0\n",
            "OH_Age_cate_0  0  0  0  0  0\n",
            "OH_Age_cate_1  0  0  0  0  0\n",
            "OH_Age_cate_2  1  0  1  0  0\n",
            "OH_Age_cate_3  0  1  0  1  1\n",
            "OH_Age_cate_4  0  0  0  0  0\n",
            "OH_Age_cate_5  0  0  0  0  0\n",
            "OH_Age_cate_6  0  0  0  0  0\n",
            "OH_Age_cate_7  0  0  0  0  0\n",
            "OH_Age_cate_8  0  0  0  0  0\n"
          ],
          "name": "stdout"
        }
      ]
    },
    {
      "cell_type": "code",
      "metadata": {
        "colab": {
          "base_uri": "https://localhost:8080/"
        },
        "id": "kVAI40_Z_hzp",
        "outputId": "3b4658fa-1515-4f3f-913c-e8a5d7663387"
      },
      "source": [
        "X_train, X_test, y_train, y_test = train_test_split(X_encoding, y, test_size=0.2, random_state=121, shuffle=True)\r\n",
        "models = [dt_model, knn_model, rf_model]  #루프돌며 각각의 점수를 확인\r\n",
        "for model in models : ###############?????????????????????????????????????????r강사님 파일 확인\r\n",
        "    # fit : 학습하다\r\n",
        "    model.fit(X_train, y_train) #X_train(문제80)과 y_train(답안 80)을 fit(학습)\r\n",
        "    # predict : 시험\r\n",
        "    y_pred = model.predict(X_test) #predict(예측), 문제_테스트만 있고 답안을 뻄\r\n",
        "    # score : 예측 정확도 확인\r\n",
        "    score = accuracy_score(y_test, y_pred)\r\n",
        "    #--f1, auc, accuracy, 교차검증\r\n",
        "    #-- mse mae rmse\r\n",
        "    #-- shiluet\r\n",
        "    print(model.__class__)\r\n",
        "    print(model.__str__(), \":\" , score)"
      ],
      "execution_count": null,
      "outputs": [
        {
          "output_type": "stream",
          "text": [
            "<class 'sklearn.tree._classes.DecisionTreeClassifier'>\n",
            "DecisionTreeClassifier(ccp_alpha=0.0, class_weight=None, criterion='gini',\n",
            "                       max_depth=None, max_features=None, max_leaf_nodes=None,\n",
            "                       min_impurity_decrease=0.0, min_impurity_split=None,\n",
            "                       min_samples_leaf=1, min_samples_split=2,\n",
            "                       min_weight_fraction_leaf=0.0, presort='deprecated',\n",
            "                       random_state=None, splitter='best') : 0.7877094972067039\n",
            "<class 'sklearn.neighbors._classification.KNeighborsClassifier'>\n",
            "KNeighborsClassifier(algorithm='auto', leaf_size=30, metric='minkowski',\n",
            "                     metric_params=None, n_jobs=None, n_neighbors=5, p=2,\n",
            "                     weights='uniform') : 0.7597765363128491\n",
            "<class 'sklearn.ensemble._forest.RandomForestClassifier'>\n",
            "RandomForestClassifier(bootstrap=True, ccp_alpha=0.0, class_weight=None,\n",
            "                       criterion='gini', max_depth=None, max_features='auto',\n",
            "                       max_leaf_nodes=None, max_samples=None,\n",
            "                       min_impurity_decrease=0.0, min_impurity_split=None,\n",
            "                       min_samples_leaf=1, min_samples_split=2,\n",
            "                       min_weight_fraction_leaf=0.0, n_estimators=100,\n",
            "                       n_jobs=None, oob_score=False, random_state=None,\n",
            "                       verbose=0, warm_start=False) : 0.7932960893854749\n"
          ],
          "name": "stdout"
        }
      ]
    },
    {
      "cell_type": "code",
      "metadata": {
        "id": "k4fWzQyJ_u_x"
      },
      "source": [
        "# ** 평가 메트릭스          --> conf._matrix, f1_score(), roc_auc(), accuracy_score()\r\n",
        "\r\n",
        "\r\n",
        "\r\n",
        "# 7. 데이터가 적은 경우      --> 데이터 증강시키면 해결 ==> K-Fold, St.K-Fold, GridSearchCV(증강+튜닝)\r\n",
        "# ==> 검증(신뢰), 대량의 학습으로 예측이 좋아진다\r\n",
        "\r\n",
        "from sklearn.model_selection import KFold\r\n",
        "from sklearn.model_selection import StratifiedKFold\r\n",
        "#값이 강사님과 다를 수 있음, 각각 생성되는 난수표가 다름"
      ],
      "execution_count": null,
      "outputs": []
    },
    {
      "cell_type": "code",
      "metadata": {
        "colab": {
          "base_uri": "https://localhost:8080/"
        },
        "id": "0yTQkRxL_4Lx",
        "outputId": "87f7c16f-252e-44c1-da47-6650a1deb008"
      },
      "source": [
        "#skf = KFold(n_splits=5,  shuffle=True, random_state=121) 수업떄 실행하지 않음\r\n",
        "kf = KFold(n_splits=2,  shuffle=True, random_state=121)#n_splits : 문제 횟수(5~10회가 적절), Kford 객체 만들기, shuffle=True(붙으면서 값이 계속 달라짐) : 섞어라, random_state : 코드표\r\n",
        "accuracy_score_list= []#점수 담을 리스트\r\n",
        "f1_score_list= []\r\n",
        "print(X.info())"
      ],
      "execution_count": null,
      "outputs": [
        {
          "output_type": "stream",
          "text": [
            "<class 'pandas.core.frame.DataFrame'>\n",
            "RangeIndex: 891 entries, 0 to 890\n",
            "Data columns (total 4 columns):\n",
            " #   Column    Non-Null Count  Dtype\n",
            "---  ------    --------------  -----\n",
            " 0   Pclass    891 non-null    int64\n",
            " 1   Sex       891 non-null    int64\n",
            " 2   Age_cate  891 non-null    int64\n",
            " 3   SP        891 non-null    int64\n",
            "dtypes: int64(4)\n",
            "memory usage: 28.0 KB\n",
            "None\n"
          ],
          "name": "stdout"
        }
      ]
    },
    {
      "cell_type": "code",
      "metadata": {
        "colab": {
          "base_uri": "https://localhost:8080/"
        },
        "id": "apS3Bfyk_8Ug",
        "outputId": "b741c833-ce62-49d1-9bbd-3d69e03c3bca"
      },
      "source": [
        "#for (idx_train, idx_test) in kf.split(X): #kfold를 이용해서 X데이터를 5등분 하라는 뜻, split이 return해주는 건 X데이터에서 (0~24(시험용) 25~100(테스트), 0~24(테스트) 25~50(시험용) 51~100(테스트))\r\n",
        "#i = 0\r\n",
        "for i, (idx_train, idx_test) in enumerate(kf.split(X)): #enumerate : 코드 몇번 회전한것을 알려줌, #skf.split(X, y) : Skf 실행\r\n",
        "    X_train, X_test = X.iloc[idx_train], X.iloc[idx_test] #train용 문제지, test용 문제지, df은 X와 y 다 가지고 있음\r\n",
        "    y_train, y_test = y.iloc[idx_train], y.iloc[idx_test] #이제는 레이블이 찢을수 있기에 변경되어서 y 탑입\r\n",
        "    #------------이하 학습 동일\r\n",
        "        # fit : 학습하다\r\n",
        "    rf_model.fit(X_train, y_train)\r\n",
        "        # predict : 시험\r\n",
        "    y_pred = rf_model.predict(X_test)  # predict(예측), 문제_테스트만 있고 답안을 뻄\r\n",
        "        # score : 예측 정확도 확인\r\n",
        "    accuracy = accuracy_score(y_test, y_pred)\r\n",
        "    accuracy_score_list.append(accuracy)\r\n",
        "    f1 = f1_score(y_test, y_pred)\r\n",
        "    f1_score_list.append(f1)\r\n",
        "    print(i, \":\", accuracy, f1)\r\n",
        "\r\n",
        "    print(\"Kfold 평균 정확도:\", np.mean(accuracy_score_list))\r\n",
        "    print(\"Kfold 평균 F1:\", np.mean(f1_score_list))\r\n",
        "from sklearn.model_selection import cross_validate"
      ],
      "execution_count": null,
      "outputs": [
        {
          "output_type": "stream",
          "text": [
            "0 : 0.8071748878923767 0.7345679012345678\n",
            "Kfold 평균 정확도: 0.8071748878923767\n",
            "Kfold 평균 F1: 0.7345679012345678\n",
            "1 : 0.7865168539325843 0.6885245901639345\n",
            "Kfold 평균 정확도: 0.7968458709124805\n",
            "Kfold 평균 F1: 0.7115462456992512\n"
          ],
          "name": "stdout"
        }
      ]
    },
    {
      "cell_type": "code",
      "metadata": {
        "colab": {
          "base_uri": "https://localhost:8080/"
        },
        "id": "e2uKuBzaABXZ",
        "outputId": "af3d1493-eb43-49c2-95b8-35296a542252"
      },
      "source": [
        "#cross_val_score 연습 (내부적으로 루프를 회전)\r\n",
        "#estimator : 모델, cv : 스플릿, 몇개 증폭시킬지, n_jobs : 병렬처리, verbose : 로그 출력기능(종류)\r\n",
        "\r\n",
        "from sklearn.model_selection import cross_val_score\r\n",
        "from sklearn.model_selection import cross_validate\r\n",
        "my_score={\"acc\":\"accuracy\", \"f1\":\"f1\"} #scoring 여러개 주는 방법\r\n",
        "score_list = cross_validate(rf_model, X, y, scoring=my_score, cv=5, verbose=0) #랜덤포레스트 모델로 연습, verbose=0 : 로그 종류, 위 기능을 한 줄로 바꿀 수 있음\r\n",
        "print(\"score_list----->\", score_list)\r\n",
        "score_df = pd.DataFrame(score_list)\r\n",
        "print(score_df.head())\r\n",
        "print(\"cross_validation 평균 정확도\", score_df[\"test_acc\"].mean())\r\n",
        "print(\"cross_validation 평균 f1\", score_df[\"test_f1\"].mean())\r\n",
        "\r\n",
        "#validation 을 줘서 멀티로 점수로 알 수 있음\r\n",
        "# my_score={\"acc\":\"accuracy\", \"f1\":\"f1\"}\r\n",
        "# score_list = cross_validation(rf_model, X, y, scoring=\"my_score\", cv=5, verbose=0)"
      ],
      "execution_count": null,
      "outputs": [
        {
          "output_type": "stream",
          "text": [
            "score_list-----> {'fit_time': array([0.15621877, 0.14904428, 0.15132785, 0.14945364, 0.14761281]), 'score_time': array([0.01161528, 0.01151395, 0.01258922, 0.01189017, 0.01154208]), 'test_acc': array([0.76536313, 0.82022472, 0.82022472, 0.79213483, 0.85393258]), 'test_f1': array([0.68181818, 0.75384615, 0.76811594, 0.68376068, 0.8030303 ])}\n",
            "   fit_time  score_time  test_acc   test_f1\n",
            "0  0.156219    0.011615  0.765363  0.681818\n",
            "1  0.149044    0.011514  0.820225  0.753846\n",
            "2  0.151328    0.012589  0.820225  0.768116\n",
            "3  0.149454    0.011890  0.792135  0.683761\n",
            "4  0.147613    0.011542  0.853933  0.803030\n",
            "cross_validation 평균 정확도 0.8103759964848409\n",
            "cross_validation 평균 f1 0.7381142528968616\n"
          ],
          "name": "stdout"
        }
      ]
    },
    {
      "cell_type": "code",
      "metadata": {
        "colab": {
          "base_uri": "https://localhost:8080/"
        },
        "id": "a0Kew-83ALln",
        "outputId": "95ecca67-04e7-4739-8690-3e78eefc7bfd"
      },
      "source": [
        "#GridSearchCV(param) --> 튜닝전용\r\n",
        "#랜덤포레스트 튜닝\r\n",
        "#총 loop 횟수 : 1[100] * 4[3,5,7,9] * 3[1,3,5] = 12번\r\n",
        "my_hyper_param = { \"n_estimators\"    :[100],#,300],\r\n",
        "                   \"max_depth\"       :[3,5,7,9],\r\n",
        "                   \"min_samples_leaf\":[1,3,5],\r\n",
        "                   \"random_state\" : [121,]}\r\n",
        "\r\n",
        "from sklearn.ensemble import RandomForestClassifier\r\n",
        "from sklearn.model_selection import GridSearchCV\r\n",
        "gcv_model = GridSearchCV(rf_model, param_grid=my_hyper_param, scoring=\"accuracy\", refit=True, cv=5, verbose=0) #cv: 코드회전 횟수, rf_model:랜덤포레스트 모델\r\n",
        "# ------------이하 학습 동일\r\n",
        "# fit : 학습하다\r\n",
        "gcv_model.fit(X_train, y_train)\r\n",
        "# predict : 시험\r\n",
        "\r\n",
        "print(\"best_estimator_\", gcv_model.best_estimator_)#제일 좋은 모델\r\n",
        "print(\"best_params_\",    gcv_model.best_params_) #제일 좋은 파라미터\r\n",
        "print(\"best_score_\" ,    gcv_model.best_score_) #제일잘나온 점수, Kfold 평균 F1: 0.7121520159423498 이 부분보다 점수가 높아야 함\r\n",
        "\r\n",
        "my_score={\"acc\":\"accuracy\", \"f1\":\"f1\"}\r\n",
        "gcv_model = GridSearchCV(rf_model, param_grid=my_hyper_param, scoring=my_score, refit=\"f1\", cv=5, verbose=0)"
      ],
      "execution_count": null,
      "outputs": [
        {
          "output_type": "stream",
          "text": [
            "best_estimator_ RandomForestClassifier(bootstrap=True, ccp_alpha=0.0, class_weight=None,\n",
            "                       criterion='gini', max_depth=9, max_features='auto',\n",
            "                       max_leaf_nodes=None, max_samples=None,\n",
            "                       min_impurity_decrease=0.0, min_impurity_split=None,\n",
            "                       min_samples_leaf=1, min_samples_split=2,\n",
            "                       min_weight_fraction_leaf=0.0, n_estimators=100,\n",
            "                       n_jobs=None, oob_score=False, random_state=121,\n",
            "                       verbose=0, warm_start=False)\n",
            "best_params_ {'max_depth': 9, 'min_samples_leaf': 1, 'n_estimators': 100, 'random_state': 121}\n",
            "best_score_ 0.80729088639201\n"
          ],
          "name": "stdout"
        }
      ]
    },
    {
      "cell_type": "code",
      "metadata": {
        "colab": {
          "base_uri": "https://localhost:8080/",
          "height": 239
        },
        "id": "EHRdwNNBAR78",
        "outputId": "e93715ce-d3b5-49f5-b9cd-9dc23a699e1a"
      },
      "source": [
        "#이하가 꺼내는 방법 차이\r\n",
        "print(\"GridSearchCV 평균 정확도 : \" , gcv_model.cv_results_[\"mean_test_acc\"].mean())  #mean_test_(본인의score키값), print(gcv_df.info())확인\r\n",
        "print(\"GridSearchCV 평균 F1 : \"    , gcv_model.cv_results_[\"mean_test_f1\"].mean())  #.cv_results_ :그리드 서치의 결과, 내장함수\r\n",
        "\r\n",
        "gcv_df = pd.DataFrame(gcv_model.cv_results_)\r\n",
        "print(gcv_df.info())\r\n",
        "print(\"GridSearchCV 평균 정확도 : \" , gcv_df[\"mean_test_acc\"].mean())\r\n",
        "print(\"GridSearchCV 평균 F1 : \"    , gcv_df[\"mean_test_f1\"].mean())\r\n",
        "\r\n",
        "\r\n",
        "#confusion-matrix(오차행렬), auc-roc\r\n",
        "from sklearn.metrics import confusion_matrix\r\n"
      ],
      "execution_count": null,
      "outputs": [
        {
          "output_type": "error",
          "ename": "AttributeError",
          "evalue": "ignored",
          "traceback": [
            "\u001b[0;31m---------------------------------------------------------------------------\u001b[0m",
            "\u001b[0;31mAttributeError\u001b[0m                            Traceback (most recent call last)",
            "\u001b[0;32m<ipython-input-69-b7a6056a7332>\u001b[0m in \u001b[0;36m<module>\u001b[0;34m()\u001b[0m\n\u001b[1;32m      1\u001b[0m \u001b[0;31m#이하가 꺼내는 방법 차이\u001b[0m\u001b[0;34m\u001b[0m\u001b[0;34m\u001b[0m\u001b[0;34m\u001b[0m\u001b[0m\n\u001b[0;32m----> 2\u001b[0;31m \u001b[0mprint\u001b[0m\u001b[0;34m(\u001b[0m\u001b[0;34m\"GridSearchCV 평균 정확도 : \"\u001b[0m \u001b[0;34m,\u001b[0m \u001b[0mgcv_model\u001b[0m\u001b[0;34m.\u001b[0m\u001b[0mcv_results_\u001b[0m\u001b[0;34m[\u001b[0m\u001b[0;34m\"mean_test_acc\"\u001b[0m\u001b[0;34m]\u001b[0m\u001b[0;34m.\u001b[0m\u001b[0mmean\u001b[0m\u001b[0;34m(\u001b[0m\u001b[0;34m)\u001b[0m\u001b[0;34m)\u001b[0m  \u001b[0;31m#mean_test_(본인의score키값), print(gcv_df.info())확인\u001b[0m\u001b[0;34m\u001b[0m\u001b[0;34m\u001b[0m\u001b[0m\n\u001b[0m\u001b[1;32m      3\u001b[0m \u001b[0mprint\u001b[0m\u001b[0;34m(\u001b[0m\u001b[0;34m\"GridSearchCV 평균 F1 : \"\u001b[0m    \u001b[0;34m,\u001b[0m \u001b[0mgcv_model\u001b[0m\u001b[0;34m.\u001b[0m\u001b[0mcv_results_\u001b[0m\u001b[0;34m[\u001b[0m\u001b[0;34m\"mean_test_f1\"\u001b[0m\u001b[0;34m]\u001b[0m\u001b[0;34m.\u001b[0m\u001b[0mmean\u001b[0m\u001b[0;34m(\u001b[0m\u001b[0;34m)\u001b[0m\u001b[0;34m)\u001b[0m  \u001b[0;31m#.cv_results_ :그리드 서치의 결과, 내장함수\u001b[0m\u001b[0;34m\u001b[0m\u001b[0;34m\u001b[0m\u001b[0m\n\u001b[1;32m      4\u001b[0m \u001b[0;34m\u001b[0m\u001b[0m\n\u001b[1;32m      5\u001b[0m \u001b[0mgcv_df\u001b[0m \u001b[0;34m=\u001b[0m \u001b[0mpd\u001b[0m\u001b[0;34m.\u001b[0m\u001b[0mDataFrame\u001b[0m\u001b[0;34m(\u001b[0m\u001b[0mgcv_model\u001b[0m\u001b[0;34m.\u001b[0m\u001b[0mcv_results_\u001b[0m\u001b[0;34m)\u001b[0m\u001b[0;34m\u001b[0m\u001b[0;34m\u001b[0m\u001b[0m\n",
            "\u001b[0;31mAttributeError\u001b[0m: 'GridSearchCV' object has no attribute 'cv_results_'"
          ]
        }
      ]
    },
    {
      "cell_type": "code",
      "metadata": {
        "id": "I8X_GP4ZAedd"
      },
      "source": [
        ""
      ],
      "execution_count": null,
      "outputs": []
    }
  ]
}