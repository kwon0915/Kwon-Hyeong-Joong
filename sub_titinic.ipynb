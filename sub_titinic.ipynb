{
  "nbformat": 4,
  "nbformat_minor": 0,
  "metadata": {
    "colab": {
      "name": "sub_titinic.ipynb",
      "provenance": [],
      "authorship_tag": "ABX9TyNohf2xXWoit+7BpiiDxSf6",
      "include_colab_link": true
    },
    "kernelspec": {
      "name": "python3",
      "display_name": "Python 3"
    }
  },
  "cells": [
    {
      "cell_type": "markdown",
      "metadata": {
        "id": "view-in-github",
        "colab_type": "text"
      },
      "source": [
        "<a href=\"https://colab.research.google.com/github/kwon0915/Kwon-Hyeong-Joong/blob/master/sub_titinic.ipynb\" target=\"_parent\"><img src=\"https://colab.research.google.com/assets/colab-badge.svg\" alt=\"Open In Colab\"/></a>"
      ]
    },
    {
      "cell_type": "code",
      "metadata": {
        "id": "3793Hbqk5jPZ"
      },
      "source": [
        "import pandas as pd\r\n",
        "import numpy as np\r\n",
        "import matplotlib.pyplot as plt\r\n",
        "import seaborn as sns\r\n",
        "from sklearn.datasets import load_iris\r\n",
        "from sklearn.model_selection import train_test_split"
      ],
      "execution_count": null,
      "outputs": []
    },
    {
      "cell_type": "code",
      "metadata": {
        "colab": {
          "base_uri": "https://localhost:8080/"
        },
        "id": "mj1uyXyY5prZ",
        "outputId": "838404c8-a166-4d63-f10e-ca76c16fe0e3"
      },
      "source": [
        "from google.colab import drive\r\n",
        "drive.mount('/content/drive')"
      ],
      "execution_count": null,
      "outputs": [
        {
          "output_type": "stream",
          "text": [
            "Mounted at /content/drive\n"
          ],
          "name": "stdout"
        }
      ]
    },
    {
      "cell_type": "code",
      "metadata": {
        "id": "IXOlYeyZ5vRO"
      },
      "source": [
        "train_df = pd.read_csv('/content/drive/MyDrive/self/train.csv')\r\n",
        "test_df = pd.read_csv('/content/drive/MyDrive/self/test.csv')"
      ],
      "execution_count": null,
      "outputs": []
    },
    {
      "cell_type": "code",
      "metadata": {
        "id": "NnkU6p3-51cL"
      },
      "source": [
        "df = train_df.append(test_df)"
      ],
      "execution_count": null,
      "outputs": []
    },
    {
      "cell_type": "code",
      "metadata": {
        "colab": {
          "base_uri": "https://localhost:8080/"
        },
        "id": "ZduIcWaB6B7q",
        "outputId": "a1b195da-d0e1-4418-f60e-2d0327a899e6"
      },
      "source": [
        "print(df.shape)"
      ],
      "execution_count": null,
      "outputs": [
        {
          "output_type": "stream",
          "text": [
            "(1309, 12)\n"
          ],
          "name": "stdout"
        }
      ]
    },
    {
      "cell_type": "code",
      "metadata": {
        "colab": {
          "base_uri": "https://localhost:8080/"
        },
        "id": "Qq82FeAQ6DJa",
        "outputId": "823ac6b1-5bc2-4944-9359-6afba25fbcb0"
      },
      "source": [
        "print(df.info())"
      ],
      "execution_count": null,
      "outputs": [
        {
          "output_type": "stream",
          "text": [
            "<class 'pandas.core.frame.DataFrame'>\n",
            "Int64Index: 1309 entries, 0 to 417\n",
            "Data columns (total 12 columns):\n",
            " #   Column       Non-Null Count  Dtype  \n",
            "---  ------       --------------  -----  \n",
            " 0   PassengerId  1309 non-null   int64  \n",
            " 1   Survived     891 non-null    float64\n",
            " 2   Pclass       1309 non-null   int64  \n",
            " 3   Name         1309 non-null   object \n",
            " 4   Sex          1309 non-null   object \n",
            " 5   Age          1046 non-null   float64\n",
            " 6   SibSp        1309 non-null   int64  \n",
            " 7   Parch        1309 non-null   int64  \n",
            " 8   Ticket       1309 non-null   object \n",
            " 9   Fare         1308 non-null   float64\n",
            " 10  Cabin        295 non-null    object \n",
            " 11  Embarked     1307 non-null   object \n",
            "dtypes: float64(3), int64(4), object(5)\n",
            "memory usage: 132.9+ KB\n",
            "None\n"
          ],
          "name": "stdout"
        }
      ]
    },
    {
      "cell_type": "code",
      "metadata": {
        "colab": {
          "base_uri": "https://localhost:8080/"
        },
        "id": "oCDU_izS6EdU",
        "outputId": "7ba05c37-fadb-4a72-9510-f9b50bc586d2"
      },
      "source": [
        "print(df.tail())"
      ],
      "execution_count": null,
      "outputs": [
        {
          "output_type": "stream",
          "text": [
            "     PassengerId  Survived  Pclass  ...      Fare Cabin  Embarked\n",
            "413         1305       NaN       3  ...    8.0500   NaN         S\n",
            "414         1306       NaN       1  ...  108.9000  C105         C\n",
            "415         1307       NaN       3  ...    7.2500   NaN         S\n",
            "416         1308       NaN       3  ...    8.0500   NaN         S\n",
            "417         1309       NaN       3  ...   22.3583   NaN         C\n",
            "\n",
            "[5 rows x 12 columns]\n"
          ],
          "name": "stdout"
        }
      ]
    },
    {
      "cell_type": "code",
      "metadata": {
        "id": "0hqNaUzA6F_k"
      },
      "source": [
        "#아직 가공이 되어지지 않음, 원본 채\r\n",
        "train_df = df.iloc[:891,:] #행은 892까지, 열은 다 꺼내와\r\n",
        "test_df = df.iloc[891:,:]"
      ],
      "execution_count": null,
      "outputs": []
    },
    {
      "cell_type": "code",
      "metadata": {
        "colab": {
          "base_uri": "https://localhost:8080/",
          "height": 596
        },
        "id": "du5s_bh78Iw0",
        "outputId": "14ffb54c-7824-4d29-9ac4-12884e406614"
      },
      "source": [
        "#아직 가공되지 않은 데이터 상관분석\r\n",
        "plt.figure(figsize=(10,10))\r\n",
        "sns.heatmap(data=train_df.corr(), annot=True, fmt=\".2g\") #cmap=Blue, corr() :상관분석\r\n",
        "plt.show()"
      ],
      "execution_count": null,
      "outputs": [
        {
          "output_type": "display_data",
          "data": {
            "image/png": "[encoded data removed]",
            "text/plain": [
              "<Figure size 720x720 with 2 Axes>"
            ]
          },
          "metadata": {
            "tags": [],
            "needs_background": "light"
          }
        }
      ]
    },
    {
      "cell_type": "code",
      "metadata": {
        "id": "Tvsxvyva8NNg"
      },
      "source": [
        "#--------------------------------------\r\n",
        "# Target 피쳐 선정\r\n",
        "# 1   Survived     891 non-null    int64\r\n",
        "#--------------------------------------\r\n",
        "X_train = train_df.drop(\"Survived\", axis=1)  #학습용문제 : train 891\r\n",
        "y_train = train_df[\"Survived\"]               #학습용답안   : train용 답안지 891개, train 데이터에서 \"Survived\" 만 읽어라"
      ],
      "execution_count": null,
      "outputs": []
    },
    {
      "cell_type": "code",
      "metadata": {
        "id": "v1eTsUc38SjR"
      },
      "source": [
        "X_test = test_df                            #테스트용 문제지 : 892~1300?"
      ],
      "execution_count": null,
      "outputs": []
    },
    {
      "cell_type": "code",
      "metadata": {
        "colab": {
          "base_uri": "https://localhost:8080/"
        },
        "id": "KDH8tvoT8Xso",
        "outputId": "6e3221ff-0fc8-4ffc-db11-0ff9265ea70f"
      },
      "source": [
        "print(X_train[:2]) #1300여 건(문제), X를 가공할 것\r\n",
        "print(y_train[:2]) #800여 건(답안)\r\n",
        "print(X_test[:2])\r\n"
      ],
      "execution_count": null,
      "outputs": [
        {
          "output_type": "stream",
          "text": [
            "   PassengerId  Pclass  ... Cabin Embarked\n",
            "0            1       3  ...   NaN        S\n",
            "1            2       1  ...   C85        C\n",
            "\n",
            "[2 rows x 11 columns]\n",
            "0    0.0\n",
            "1    1.0\n",
            "Name: Survived, dtype: float64\n",
            "   PassengerId  Survived  Pclass  ...    Fare Cabin  Embarked\n",
            "0          892       NaN       3  ...  7.8292   NaN         Q\n",
            "1          893       NaN       3  ...  7.0000   NaN         S\n",
            "\n",
            "[2 rows x 12 columns]\n"
          ],
          "name": "stdout"
        }
      ]
    },
    {
      "cell_type": "code",
      "metadata": {
        "id": "h_JlFuyF8ci4"
      },
      "source": [
        "#--------------------------------------\r\n",
        "# Object 처리\r\n",
        "#--------------------------------------\r\n",
        "#  3   Name         891 non-null    object  --> Sex로 성별 구분 정도로 활용\r\n",
        "#  4   Sex          891 non-null    object  --> lambda 이용해 female:0 , male:1 으로 변경\r\n",
        "#  8   Ticket       891 non-null    object  --> 의미있는 데이터로 보기 어렵다고 판단\r\n",
        "#  10  Cabin        204 non-null    object  --> 결측이 너무 많아 드롭(687건)\r\n",
        "#  11  Embarked     889 non-null    object  -->"
      ],
      "execution_count": null,
      "outputs": []
    },
    {
      "cell_type": "code",
      "metadata": {
        "id": "zRkOuVgX8f8Q"
      },
      "source": [
        "df[\"Sex\"] = df[\"Sex\"].apply(lambda x: 0 if x == \"female\" else 1)"
      ],
      "execution_count": null,
      "outputs": []
    },
    {
      "cell_type": "code",
      "metadata": {
        "id": "pwAKSNYY8iyY"
      },
      "source": [
        "df[\"Cabin2\"] =  df[\"Cabin\"].str[0:1]   #.str[0]"
      ],
      "execution_count": null,
      "outputs": []
    },
    {
      "cell_type": "code",
      "metadata": {
        "colab": {
          "base_uri": "https://localhost:8080/"
        },
        "id": "H_prHMox8nxy",
        "outputId": "64f4c939-d72e-42e9-e3c2-c9448d7c6071"
      },
      "source": [
        "df['Cabin'].head()"
      ],
      "execution_count": null,
      "outputs": [
        {
          "output_type": "execute_result",
          "data": {
            "text/plain": [
              "0     NaN\n",
              "1     C85\n",
              "2     NaN\n",
              "3    C123\n",
              "4     NaN\n",
              "Name: Cabin, dtype: object"
            ]
          },
          "metadata": {
            "tags": []
          },
          "execution_count": 17
        }
      ]
    },
    {
      "cell_type": "code",
      "metadata": {
        "colab": {
          "base_uri": "https://localhost:8080/"
        },
        "id": "W4VQaRJL8rZE",
        "outputId": "fe156eb7-aa7f-48ac-b94e-17fef28bd827"
      },
      "source": [
        "df['Cabin2'].head()"
      ],
      "execution_count": null,
      "outputs": [
        {
          "output_type": "execute_result",
          "data": {
            "text/plain": [
              "0    NaN\n",
              "1      C\n",
              "2    NaN\n",
              "3      C\n",
              "4    NaN\n",
              "Name: Cabin2, dtype: object"
            ]
          },
          "metadata": {
            "tags": []
          },
          "execution_count": 18
        }
      ]
    },
    {
      "cell_type": "code",
      "metadata": {
        "id": "2avNbBOF8vD5"
      },
      "source": [
        "df[\"Name2\"] = df[\"Name\"].str.extract(\"([A-Za-z]+)\\.\")"
      ],
      "execution_count": null,
      "outputs": []
    },
    {
      "cell_type": "code",
      "metadata": {
        "colab": {
          "base_uri": "https://localhost:8080/"
        },
        "id": "lMlALcMM80B1",
        "outputId": "4d7f3048-e316-4c46-8eb2-2483a0a138b2"
      },
      "source": [
        "df['Name2'].head()"
      ],
      "execution_count": null,
      "outputs": [
        {
          "output_type": "execute_result",
          "data": {
            "text/plain": [
              "0      Mr\n",
              "1     Mrs\n",
              "2    Miss\n",
              "3     Mrs\n",
              "4      Mr\n",
              "Name: Name2, dtype: object"
            ]
          },
          "metadata": {
            "tags": []
          },
          "execution_count": 20
        }
      ]
    },
    {
      "cell_type": "code",
      "metadata": {
        "id": "GSbr4Mn282oB"
      },
      "source": [
        "dict = df.groupby(by=[\"Name2\"])[[\"Name2\",\"Age\"]].mean().astype(np.int32).to_dict()\r\n",
        "fill_mean_func = lambda gname: gname.fillna(dict['Age'][gname.name])\r\n",
        "df = df.groupby('Name2').apply(fill_mean_func)"
      ],
      "execution_count": null,
      "outputs": []
    },
    {
      "cell_type": "code",
      "metadata": {
        "id": "FtIDYYpx87Rg"
      },
      "source": [
        "# 나이 구간화   /  % //\r\n",
        "df[\"Age_cate\"] = df[\"Age\"].apply(lambda x : int(x//10)) #데이터프레임 전체로 나이 구간화\r\n",
        "df[\"Embarked\"] = df[\"Embarked\"].apply(lambda x: 1 if x == \"C\" else (2 if x == \"Q\" else 3))\r\n",
        "df[\"SP\"] = df[\"SibSp\"] + df[\"Parch\"]"
      ],
      "execution_count": null,
      "outputs": []
    },
    {
      "cell_type": "code",
      "metadata": {
        "colab": {
          "base_uri": "https://localhost:8080/"
        },
        "id": "HPLvnipe8-rh",
        "outputId": "8df23d7b-67c9-49f4-faeb-430d16587eb5"
      },
      "source": [
        "replace_col = [\"SibSp\", \"Parch\",\"Name\",\"Name2\",\"Age\"]    #SP=SibSp+Parch     Age_cate<--Name,Name2,Age\r\n",
        "del_col = [\"Ticket\",\"Cabin\",\"Cabin2\",\"Fare\",\"Embarked\"]  #Fare<--Pclass,SP   Embarked\r\n",
        "replace_col = replace_col + del_col\r\n",
        "df.drop(replace_col, axis=1, inplace=True)\r\n",
        "print(df.info())"
      ],
      "execution_count": null,
      "outputs": [
        {
          "output_type": "stream",
          "text": [
            "<class 'pandas.core.frame.DataFrame'>\n",
            "Int64Index: 1309 entries, 0 to 890\n",
            "Data columns (total 6 columns):\n",
            " #   Column       Non-Null Count  Dtype  \n",
            "---  ------       --------------  -----  \n",
            " 0   PassengerId  1309 non-null   int64  \n",
            " 1   Survived     1309 non-null   float64\n",
            " 2   Pclass       1309 non-null   int64  \n",
            " 3   Sex          1309 non-null   int64  \n",
            " 4   Age_cate     1309 non-null   int64  \n",
            " 5   SP           1309 non-null   int64  \n",
            "dtypes: float64(1), int64(5)\n",
            "memory usage: 71.6 KB\n",
            "None\n"
          ],
          "name": "stdout"
        }
      ]
    },
    {
      "cell_type": "code",
      "metadata": {
        "colab": {
          "base_uri": "https://localhost:8080/"
        },
        "id": "MuNG8_gD9Err",
        "outputId": "ed43230d-256c-46de-a574-56dacd177829"
      },
      "source": [
        "print(\"===========\", df.head()) #가공 된 것을 확인"
      ],
      "execution_count": null,
      "outputs": [
        {
          "output_type": "stream",
          "text": [
            "===========    PassengerId  Survived  Pclass  Sex  Age_cate  SP\n",
            "0            1       0.0       3    1         2   1\n",
            "0          892      32.0       3    1         3   0\n",
            "1            2       1.0       1    0         3   1\n",
            "1          893      36.0       3    0         4   1\n",
            "2            3       1.0       3    0         2   0\n"
          ],
          "name": "stdout"
        }
      ]
    },
    {
      "cell_type": "code",
      "metadata": {
        "id": "PT7z28tC9Hys"
      },
      "source": [
        "#가공된 train_df\r\n",
        "train_df = df[df['PassengerId'] <= 891].copy() #행은 892까지, 열은 다 꺼내와\r\n",
        "test_df = df[df['PassengerId'] > 891].copy() #행은 892부터 끝까지, 열은 다 꺼내와, 테스트용으로 차트 그리지 말기"
      ],
      "execution_count": null,
      "outputs": []
    },
    {
      "cell_type": "code",
      "metadata": {
        "id": "bKbVVbiM9Mqg"
      },
      "source": [
        "train_df.drop(\"PassengerId\", axis=1, inplace=True)\r\n",
        "test_df.drop(\"PassengerId\", axis=1, inplace=True)"
      ],
      "execution_count": null,
      "outputs": []
    },
    {
      "cell_type": "code",
      "metadata": {
        "id": "TmqdB18j9O3b"
      },
      "source": [
        "X_train = train_df.drop(\"Survived\", axis=1)  #학습용문제 : train 891\r\n",
        "y_train = train_df[\"Survived\"]               #학습용답안   : train용 답안지 891개, train 데이터에서 \"Survived\" 만 읽어라\r\n",
        "X_test = test_df.drop(\"Survived\", axis=1)"
      ],
      "execution_count": null,
      "outputs": []
    },
    {
      "cell_type": "code",
      "metadata": {
        "colab": {
          "base_uri": "https://localhost:8080/"
        },
        "id": "BcF_4JSi9SE6",
        "outputId": "0740fc6d-1f9e-4bb8-c74b-642c006dc422"
      },
      "source": [
        "print(X_train.shape, y_train.shape, X_test.shape)"
      ],
      "execution_count": null,
      "outputs": [
        {
          "output_type": "stream",
          "text": [
            "(891, 4) (891,) (418, 4)\n"
          ],
          "name": "stdout"
        }
      ]
    },
    {
      "cell_type": "code",
      "metadata": {
        "colab": {
          "base_uri": "https://localhost:8080/"
        },
        "id": "Rxx72Dzm9UQF",
        "outputId": "12397b28-4035-4c2d-8f37-639bd7d6937e"
      },
      "source": [
        "print(X_train.head())"
      ],
      "execution_count": null,
      "outputs": [
        {
          "output_type": "stream",
          "text": [
            "   Pclass  Sex  Age_cate  SP\n",
            "0       3    1         2   1\n",
            "1       1    0         3   1\n",
            "2       3    0         2   0\n",
            "3       1    0         3   1\n",
            "4       3    1         3   0\n"
          ],
          "name": "stdout"
        }
      ]
    },
    {
      "cell_type": "code",
      "metadata": {
        "colab": {
          "base_uri": "https://localhost:8080/"
        },
        "id": "Uy953-qX9WIC",
        "outputId": "91baae27-a6b6-4ad2-eadc-554c0d70aa78"
      },
      "source": [
        "print(X_test.head())"
      ],
      "execution_count": null,
      "outputs": [
        {
          "output_type": "stream",
          "text": [
            "   Pclass  Sex  Age_cate  SP\n",
            "0       3    1         3   0\n",
            "1       3    0         4   1\n",
            "2       2    1         6   0\n",
            "3       3    1         2   0\n",
            "4       3    0         2   2\n"
          ],
          "name": "stdout"
        }
      ]
    },
    {
      "cell_type": "code",
      "metadata": {
        "colab": {
          "base_uri": "https://localhost:8080/"
        },
        "id": "2dNdAq2D9Yxi",
        "outputId": "df4db624-13b8-4452-a90b-8650a81552cf"
      },
      "source": [
        "print(y_train)"
      ],
      "execution_count": null,
      "outputs": [
        {
          "output_type": "stream",
          "text": [
            "0      0.0\n",
            "1      1.0\n",
            "2      1.0\n",
            "3      1.0\n",
            "4      0.0\n",
            "      ... \n",
            "886    0.0\n",
            "887    1.0\n",
            "888    0.0\n",
            "889    1.0\n",
            "890    0.0\n",
            "Name: Survived, Length: 891, dtype: float64\n"
          ],
          "name": "stdout"
        }
      ]
    },
    {
      "cell_type": "code",
      "metadata": {
        "colab": {
          "base_uri": "https://localhost:8080/",
          "height": 614
        },
        "id": "Fv7akgl39aWr",
        "outputId": "b60a9073-5575-4c67-ead5-ed6c2145b0f5"
      },
      "source": [
        "#히트맵 그리기(데이터프레임 채로 그리면 안됨)\r\n",
        "plt.figure(figsize=(10,10))\r\n",
        "#sns.heatmap(data=X_train.corr(), annot=True, fmt=\".2f\") #cmap=Blue #가공 안된 데이터\r\n",
        "sns.heatmap(data=train_df.corr(), annot=True, fmt=\".2f\") #cmap=Blue #가공 된 데이터 train으로 상관분석\r\n",
        "#plt.show()"
      ],
      "execution_count": null,
      "outputs": [
        {
          "output_type": "execute_result",
          "data": {
            "text/plain": [
              "<matplotlib.axes._subplots.AxesSubplot at 0x7f3733302668>"
            ]
          },
          "metadata": {
            "tags": []
          },
          "execution_count": 32
        },
        {
          "output_type": "display_data",
          "data": {
            "image/png": "[encoded data removed]",
            "text/plain": [
              "<Figure size 720x720 with 2 Axes>"
            ]
          },
          "metadata": {
            "tags": [],
            "needs_background": "light"
          }
        }
      ]
    },
    {
      "cell_type": "code",
      "metadata": {
        "id": "xKcazSwH9cmg"
      },
      "source": [
        ""
      ],
      "execution_count": null,
      "outputs": []
    },
    {
      "cell_type": "code",
      "metadata": {
        "id": "EJen_Pgi9kiJ"
      },
      "source": [
        "# ??모델\r\n",
        "from sklearn.tree import DecisionTreeClassifier\r\n",
        "from sklearn.neighbors import KNeighborsClassifier\r\n",
        "from sklearn.metrics import accuracy_score, f1_score, recall_score, precision_score, roc_auc_score\r\n",
        "from sklearn.ensemble import RandomForestClassifier"
      ],
      "execution_count": null,
      "outputs": []
    },
    {
      "cell_type": "code",
      "metadata": {
        "id": "x-hj9Hgf9lBw"
      },
      "source": [
        "dt_model = DecisionTreeClassifier()\r\n",
        "knn_model = KNeighborsClassifier()\r\n",
        "rf_model = RandomForestClassifier()"
      ],
      "execution_count": null,
      "outputs": []
    },
    {
      "cell_type": "code",
      "metadata": {
        "id": "WmtdscZj9mlx"
      },
      "source": [
        "# fit : 학습하다\r\n",
        "rf_model.fit(X_train, y_train)\r\n",
        "# predict : 시험\r\n",
        "y_pred = rf_model.predict(X_test).astype(np.int32)"
      ],
      "execution_count": null,
      "outputs": []
    },
    {
      "cell_type": "code",
      "metadata": {
        "id": "3pKIyCRE9pQK"
      },
      "source": [
        "my_hyper_param = {  \"n_estimators\"     :[100, 300] ,\r\n",
        "                    \"max_depth\"        :[3,5,7,9],\r\n",
        "                    \"min_samples_leaf\" :[1,3,5],\r\n",
        "                    \"random_state\"     :[121,]\r\n",
        "                 }"
      ],
      "execution_count": null,
      "outputs": []
    },
    {
      "cell_type": "code",
      "metadata": {
        "colab": {
          "base_uri": "https://localhost:8080/"
        },
        "id": "P0WeZOV49rbG",
        "outputId": "9339baea-e116-4faf-97b8-d8d605a847f1"
      },
      "source": [
        "from sklearn.model_selection import GridSearchCV\r\n",
        "gcv_model = GridSearchCV(rf_model, param_grid=my_hyper_param, scoring=\"accuracy\", refit=True, cv=5, verbose=0)\r\n",
        "#---- 이하 학습 동일 --------------------\r\n",
        "# fit : 학습하다\r\n",
        "gcv_model.fit(X_train, y_train)\r\n",
        "# predict : 시험\r\n",
        "print(\"best_estimator_\", gcv_model.best_estimator_)\r\n",
        "print(\"best_params_\",    gcv_model.best_params_)\r\n",
        "print(\"best_score_\" ,    gcv_model.best_score_)\r\n",
        "y_pred = gcv_model.predict(X_test).astype(np.int32)\r\n",
        "print(y_pred)"
      ],
      "execution_count": null,
      "outputs": [
        {
          "output_type": "stream",
          "text": [
            "best_estimator_ RandomForestClassifier(bootstrap=True, ccp_alpha=0.0, class_weight=None,\n",
            "                       criterion='gini', max_depth=5, max_features='auto',\n",
            "                       max_leaf_nodes=None, max_samples=None,\n",
            "                       min_impurity_decrease=0.0, min_impurity_split=None,\n",
            "                       min_samples_leaf=1, min_samples_split=2,\n",
            "                       min_weight_fraction_leaf=0.0, n_estimators=100,\n",
            "                       n_jobs=None, oob_score=False, random_state=121,\n",
            "                       verbose=0, warm_start=False)\n",
            "best_params_ {'max_depth': 5, 'min_samples_leaf': 1, 'n_estimators': 100, 'random_state': 121}\n",
            "best_score_ 0.8294017952419811\n",
            "[0 0 0 0 1 0 1 0 1 0 0 0 1 0 1 1 0 0 1 0 0 1 1 0 1 0 1 0 0 0 0 0 1 1 0 0 1\n",
            " 1 0 0 0 0 0 1 1 0 0 0 1 1 0 0 1 1 0 0 0 0 0 1 0 0 0 1 1 1 1 0 0 1 1 0 1 0\n",
            " 1 0 0 1 0 1 1 0 0 0 0 0 1 1 1 1 1 0 1 0 0 0 1 0 1 0 1 0 0 0 1 0 0 0 0 0 0\n",
            " 1 1 1 1 0 0 1 0 1 1 0 1 0 0 1 0 1 0 0 0 0 0 0 0 0 0 0 1 0 0 1 0 0 0 0 0 0\n",
            " 0 0 1 0 0 1 0 0 1 1 0 1 1 1 1 0 0 1 0 0 1 1 0 0 0 0 0 1 1 0 1 1 0 0 1 0 1\n",
            " 0 1 0 0 0 0 0 0 0 1 0 1 1 0 1 1 1 0 1 0 0 1 0 1 0 0 0 0 1 0 0 1 0 1 0 1 0\n",
            " 1 0 1 1 0 1 0 0 0 1 0 0 0 0 0 0 1 1 1 1 0 0 1 0 1 0 1 1 1 0 0 0 0 0 0 0 1\n",
            " 0 0 0 1 1 0 0 0 0 1 0 0 0 1 1 0 1 0 0 0 0 1 1 1 1 1 0 0 0 0 0 0 1 0 0 0 0\n",
            " 1 0 0 0 0 0 0 0 1 1 1 1 0 0 0 0 0 1 1 1 0 0 0 0 0 0 0 0 1 0 1 0 0 0 1 0 0\n",
            " 1 0 0 0 0 0 1 0 0 0 1 1 1 0 1 0 1 1 0 0 0 1 0 1 0 0 1 0 1 1 0 1 0 0 1 1 0\n",
            " 0 1 0 0 1 1 1 0 0 0 0 0 1 1 0 1 0 0 0 0 0 1 0 0 0 1 0 1 0 0 1 0 1 0 0 0 0\n",
            " 0 1 1 1 1 1 0 1 0 0 1]\n"
          ],
          "name": "stdout"
        }
      ]
    },
    {
      "cell_type": "code",
      "metadata": {
        "id": "0oC3Rug49uSq"
      },
      "source": [
        "sub_df = pd.read_csv(\"gender_submission.csv\")\r\n",
        "mydic = {\"PassengerId\": sub_df[\"PassengerId\"],\r\n",
        "         \"Survived\" : y_pred\r\n",
        "         }\r\n",
        "sub_df = pd.DataFrame(mydic, index=None)\r\n",
        "#sub_df.set_index('PassengerId', inplace=True)\r\n",
        "print(sub_df.head())\r\n",
        "sub_df.to_csv(\"gender_submission22.csv\", index=None)"
      ],
      "execution_count": null,
      "outputs": []
    }
  ]
}