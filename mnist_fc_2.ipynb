{
  "nbformat": 4,
  "nbformat_minor": 0,
  "metadata": {
    "colab": {
      "name": "mnist_fc_2.ipynb",
      "provenance": [],
      "collapsed_sections": [],
      "authorship_tag": "ABX9TyMLqfAeW8FpK9J3lihQM+eG",
      "include_colab_link": true
    },
    "kernelspec": {
      "name": "python3",
      "display_name": "Python 3"
    }
  },
  "cells": [
    {
      "cell_type": "markdown",
      "metadata": {
        "id": "view-in-github",
        "colab_type": "text"
      },
      "source": [
        "<a href=\"https://colab.research.google.com/github/kwon0915/Kwon-Hyeong-Joong/blob/master/mnist_fc_2.ipynb\" target=\"_parent\"><img src=\"https://colab.research.google.com/assets/colab-badge.svg\" alt=\"Open In Colab\"/></a>"
      ]
    },
    {
      "cell_type": "code",
      "metadata": {
        "id": "ZWm08P5QNGI_"
      },
      "source": [
        "#module name : mnist_dl.py\r\n",
        "#mnist : 손글씨 인식\r\n",
        "\r\n",
        "from keras.datasets import mnist\r\n",
        "import numpy as np\r\n",
        "import pandas as pd\r\n",
        "import tensorflow as tf\r\n",
        "import matplotlib.pyplot as plt\r\n",
        "\r\n",
        "np.random.seed(121)\r\n",
        "tf.random.set_seed(121)"
      ],
      "execution_count": null,
      "outputs": []
    },
    {
      "cell_type": "code",
      "metadata": {
        "id": "x9H2AYs1NSs7"
      },
      "source": [
        "def CHART_PLOT_HISTORY(history):\r\n",
        "    hist = pd.DataFrame(history.history)\r\n",
        "    hist['epoch'] = history.epoch\r\n",
        "\r\n",
        "    plt.figure(figsize=(8,12))\r\n",
        "\r\n",
        "    plt.subplot(2,1,1)\r\n",
        "    plt.xlabel('epoch')\r\n",
        "    plt.ylabel('accuracy')\r\n",
        "    plt.plot(hist['epoch'], hist['accuracy'], label='acc')\r\n",
        "    plt.plot(hist['epoch'], hist['val_accuracy'], label='val_acc')\r\n",
        "    plt.legend()\r\n",
        "\r\n",
        "    plt.subplot(2,1,2)\r\n",
        "    plt.xlabel('epoch')\r\n",
        "    plt.ylabel('loss')\r\n",
        "    plt.plot(hist['epoch'], hist['loss'],    label='loss')\r\n",
        "    plt.plot(hist['epoch'], hist['val_loss'],label='val_loss')\r\n",
        "    plt.legend()\r\n",
        "    plt.show()"
      ],
      "execution_count": null,
      "outputs": []
    },
    {
      "cell_type": "code",
      "metadata": {
        "colab": {
          "base_uri": "https://localhost:8080/"
        },
        "id": "LuVlT-mhNa1P",
        "outputId": "b6e198d2-11d7-40eb-d8b2-75d72c167ef2"
      },
      "source": [
        "(X_train, y_train),(X_test, y_test) = mnist.load_data() #학습용 문제/답안, 테스트용 문제/답안, 읽어옴, 60000 - 10000 개 나눠져 있음"
      ],
      "execution_count": null,
      "outputs": [
        {
          "output_type": "stream",
          "text": [
            "Downloading data from https://storage.googleapis.com/tensorflow/tf-keras-datasets/mnist.npz\n",
            "11493376/11490434 [==============================] - 0s 0us/step\n"
          ],
          "name": "stdout"
        }
      ]
    },
    {
      "cell_type": "code",
      "metadata": {
        "colab": {
          "base_uri": "https://localhost:8080/"
        },
        "id": "hoQ6OQYvNdzd",
        "outputId": "bf2e0d21-cd46-470d-f3f7-8bb7ba67d5a2"
      },
      "source": [
        "print(X_train.shape, y_train.shape)"
      ],
      "execution_count": null,
      "outputs": [
        {
          "output_type": "stream",
          "text": [
            "(60000, 28, 28) (60000,)\n"
          ],
          "name": "stdout"
        }
      ]
    },
    {
      "cell_type": "code",
      "metadata": {
        "colab": {
          "base_uri": "https://localhost:8080/"
        },
        "id": "9CVdeQNDNhE4",
        "outputId": "8b318825-c5a3-4508-9c15-96068b0f77f7"
      },
      "source": [
        "print(X_test.shape, y_test.shape, y_test[:2]) #2개만 출력해봄"
      ],
      "execution_count": null,
      "outputs": [
        {
          "output_type": "stream",
          "text": [
            "(10000, 28, 28) (10000,) [7 2]\n"
          ],
          "name": "stdout"
        }
      ]
    },
    {
      "cell_type": "code",
      "metadata": {
        "colab": {
          "base_uri": "https://localhost:8080/",
          "height": 265
        },
        "id": "fm9GEaZCNjBq",
        "outputId": "9a773016-2bc4-41ab-ae33-0bbdd9b419cf"
      },
      "source": [
        "plt.imshow(X_train[0]) #한장만 보겠음\r\n",
        "plt.show()\r\n",
        "#print(y_train[0]) #첫번째 사진 정답 출력"
      ],
      "execution_count": null,
      "outputs": [
        {
          "output_type": "display_data",
          "data": {
            "image/png": "[encoded data removed]",
            "text/plain": [
              "<Figure size 432x288 with 1 Axes>"
            ]
          },
          "metadata": {
            "tags": [],
            "needs_background": "light"
          }
        }
      ]
    },
    {
      "cell_type": "code",
      "metadata": {
        "id": "feVFyM-WNmE6"
      },
      "source": [
        "#Sequential안에 모델을 하나하나 쌓아야함\r\n",
        "from keras.models import Sequential\r\n",
        "#층별로 쌓음\r\n",
        "from keras.layers import Dense"
      ],
      "execution_count": null,
      "outputs": []
    },
    {
      "cell_type": "code",
      "metadata": {
        "id": "rPrA7VKyNpgi"
      },
      "source": [
        "#X_train (60000, 28, 28) -> 60000 * 784\r\n",
        "#이미지 스케일링\r\n",
        "# /255 : 255로 나눠서 스케일링 한 것(이미지스케일링 시에는 255로 나눈다고 봄)\r\n",
        "X_train = X_train.reshape(X_train.shape[0], 28*28) / 255 #X_train.shape[0]: 행 가져오기 #int로 바꿀거 아니면 굳이 float을 astype할 필욘 없다 #.astype('int32')\r\n",
        "#X_test (10000, 28, 28) -> 10000 * 784\r\n",
        "X_test = X_test.reshape(X_test.shape[0], 784) / 255\r\n",
        "#print(X_train[0]) #첫번째 사진 출력 (784개의 픽셀 가지고 있음) - 이미지 스케일링은 최고 픽셀값 256(0~256 픽셀컬러)으로 나누면 됨 (최대값은 1, 나머지는 0.x. 0~1사이에 값이 들어오게 됨)\r\n",
        "#MinMaxScaler도 가능하지만 이미지는 255로 나누는게 낫다"
      ],
      "execution_count": null,
      "outputs": []
    },
    {
      "cell_type": "code",
      "metadata": {
        "colab": {
          "base_uri": "https://localhost:8080/"
        },
        "id": "NiKazjTCNsvV",
        "outputId": "f97a159d-53cc-4d59-80ff-4f90f0edf557"
      },
      "source": [
        "model =Sequential()     #input_dim -->  reshape시 사용한 28*28\r\n",
        "model.add(Dense(64, input_dim=28*28, activation='relu')) #몇개로 내보낼지는 마음대로/ input_dim : 28*28=784 -> X_train이 (60000, 28, 28)이므로 60000 * 784로 reshape 해야함\r\n",
        "model.add(Dense(32, activation='relu'))\r\n",
        "model.add(Dense(16, activation='relu'))\r\n",
        "model.add(Dense(10, activation='softmax')) #0~9까지 손글씨 이므로 출력:10\r\n",
        "print(model.summary()) #Total params: 53,018 원래는 dense 더 깊게 줘야하는데 얕게 줘서 이런 결과 나옴. ->  원래는 cnn보다 fullconnection의 경우 totalparams 기하급수적으로 증가"
      ],
      "execution_count": null,
      "outputs": [
        {
          "output_type": "stream",
          "text": [
            "Model: \"sequential\"\n",
            "_________________________________________________________________\n",
            "Layer (type)                 Output Shape              Param #   \n",
            "=================================================================\n",
            "dense (Dense)                (None, 64)                50240     \n",
            "_________________________________________________________________\n",
            "dense_1 (Dense)              (None, 32)                2080      \n",
            "_________________________________________________________________\n",
            "dense_2 (Dense)              (None, 16)                528       \n",
            "_________________________________________________________________\n",
            "dense_3 (Dense)              (None, 10)                170       \n",
            "=================================================================\n",
            "Total params: 53,018\n",
            "Trainable params: 53,018\n",
            "Non-trainable params: 0\n",
            "_________________________________________________________________\n",
            "None\n"
          ],
          "name": "stdout"
        }
      ]
    },
    {
      "cell_type": "code",
      "metadata": {
        "id": "oUZi4F6UNvm5"
      },
      "source": [
        "from keras.callbacks import EarlyStopping\r\n",
        "early_stop = EarlyStopping(monitor='val_loss', patience=10)"
      ],
      "execution_count": null,
      "outputs": []
    },
    {
      "cell_type": "code",
      "metadata": {
        "id": "mgCzGmV5NzjO"
      },
      "source": [
        "model.compile(loss='sparse_categorical_crossentropy', #정수기에 sparse\r\n",
        "              optimizer='adam',\r\n",
        "              metrics=['accuracy'])"
      ],
      "execution_count": null,
      "outputs": []
    },
    {
      "cell_type": "code",
      "metadata": {
        "id": "D5f32fWXN1L4"
      },
      "source": [
        "                                                     #batch_size : 한번 올릴떄마다 올라가는 숫자,\r\n",
        "history = model.fit(X_train, y_train, epochs = 100, batch_size=300, validation_data=(X_test, y_test), callbacks=[early_stop], verbose=0) #verbose=0으로 하면 로그 안찍히지만 돌아가는지 확인 어려울 수 있음\r\n",
        "#Overfitting 발생(주황색선이 더이상 증가하지 않으면 스탑시켜야함) -> epoch 12번 정도가 적당? #학습은 하면 할수록 0으로 가까워짐 -> overfitting(학습만 잘되고 그 이외 데이터 못맞춤)"
      ],
      "execution_count": null,
      "outputs": []
    },
    {
      "cell_type": "code",
      "metadata": {
        "colab": {
          "base_uri": "https://localhost:8080/"
        },
        "id": "1AcRf0vCN3fR",
        "outputId": "9859f767-976f-4054-92f2-cbb76358f273"
      },
      "source": [
        "print('acc: {:.4f}, loss: {:.4f}'.format(model.evaluate(X_test, y_test)[1], model.evaluate(X_test, y_test)[0]))"
      ],
      "execution_count": null,
      "outputs": [
        {
          "output_type": "stream",
          "text": [
            "313/313 [==============================] - 0s 1ms/step - loss: 0.1146 - accuracy: 0.9723\n",
            "313/313 [==============================] - 0s 977us/step - loss: 0.1146 - accuracy: 0.9723\n",
            "acc: 0.9723, loss: 0.1146\n"
          ],
          "name": "stdout"
        }
      ]
    },
    {
      "cell_type": "code",
      "metadata": {
        "id": "KsStalCAN-7P",
        "colab": {
          "base_uri": "https://localhost:8080/",
          "height": 714
        },
        "outputId": "6b095307-c449-4c6d-db13-0f5ae63853f6"
      },
      "source": [
        "CHART_PLOT_HISTORY(history)"
      ],
      "execution_count": null,
      "outputs": [
        {
          "output_type": "display_data",
          "data": {
            "image/png": "[encoded data removed]",
            "text/plain": [
              "<Figure size 576x864 with 2 Axes>"
            ]
          },
          "metadata": {
            "tags": [],
            "needs_background": "light"
          }
        }
      ]
    },
    {
      "cell_type": "code",
      "metadata": {
        "id": "6gHQi8r3OBEl"
      },
      "source": [
        ""
      ],
      "execution_count": null,
      "outputs": []
    }
  ]
}