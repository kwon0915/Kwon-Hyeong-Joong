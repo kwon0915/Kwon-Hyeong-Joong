{
  "nbformat": 4,
  "nbformat_minor": 0,
  "metadata": {
    "colab": {
      "name": "mnist_cnn_2.ipynb",
      "provenance": [],
      "collapsed_sections": [],
      "authorship_tag": "ABX9TyP2S9UGeoE4BVAnZm9/Dnoh",
      "include_colab_link": true
    },
    "kernelspec": {
      "name": "python3",
      "display_name": "Python 3"
    }
  },
  "cells": [
    {
      "cell_type": "markdown",
      "metadata": {
        "id": "view-in-github",
        "colab_type": "text"
      },
      "source": [
        "<a href=\"https://colab.research.google.com/github/kwon0915/Kwon-Hyeong-Joong/blob/master/mnist_cnn_2.ipynb\" target=\"_parent\"><img src=\"https://colab.research.google.com/assets/colab-badge.svg\" alt=\"Open In Colab\"/></a>"
      ]
    },
    {
      "cell_type": "code",
      "metadata": {
        "id": "_GH4FBZaOGkV"
      },
      "source": [
        "#module name : mnist_dl.py\r\n",
        "\r\n",
        "from keras.datasets import mnist\r\n",
        "import numpy as np\r\n",
        "import pandas as pd\r\n",
        "import tensorflow as tf\r\n",
        "import matplotlib.pyplot as plt\r\n",
        "\r\n",
        "np.random.seed(121)\r\n",
        "tf.random.set_seed(121)"
      ],
      "execution_count": null,
      "outputs": []
    },
    {
      "cell_type": "code",
      "metadata": {
        "id": "wDHRDE2mONXT"
      },
      "source": [
        "def CHART_PLOT_HISTORY(history):\r\n",
        "    hist = pd.DataFrame(history.history)\r\n",
        "    hist['epoch'] = history.epoch\r\n",
        "\r\n",
        "    plt.figure(figsize=(8,12))\r\n",
        "\r\n",
        "    plt.subplot(2,1,1)\r\n",
        "    plt.xlabel('epoch')\r\n",
        "    plt.ylabel('accuracy')\r\n",
        "    plt.plot(hist['epoch'], hist['accuracy'], label='acc')\r\n",
        "    plt.plot(hist['epoch'], hist['val_accuracy'], label='val_acc')\r\n",
        "    plt.legend()\r\n",
        "\r\n",
        "    plt.subplot(2,1,2)\r\n",
        "    plt.xlabel('epoch')\r\n",
        "    plt.ylabel('loss')\r\n",
        "    plt.plot(hist['epoch'], hist['loss'],    label='loss')\r\n",
        "    plt.plot(hist['epoch'], hist['val_loss'],label='val_loss')\r\n",
        "    plt.legend()\r\n",
        "    plt.show()"
      ],
      "execution_count": null,
      "outputs": []
    },
    {
      "cell_type": "code",
      "metadata": {
        "colab": {
          "base_uri": "https://localhost:8080/"
        },
        "id": "37GqwsvOOSps",
        "outputId": "1f9c8741-8e4e-43b5-cced-d484b6808bd5"
      },
      "source": [
        "(X_train, y_train),(X_test, y_test) = mnist.load_data() #학습용 문제/답안, 테스트용 문제/답안\r\n",
        "#[0 0 0 0 0 12 25 125 124 0 0 0 0] 9\r\n",
        "#/datasets/train/cat0.jpg\r\n",
        "#[0 0 0 0 0 12 25 125 124 0 0 0 0] cat\r\n",
        "#[4 2 5 4 7 8 1 5 8 ... N]\r\n",
        "#train, test 둘 다 레이블화 시킬 필요가 있음"
      ],
      "execution_count": null,
      "outputs": [
        {
          "output_type": "stream",
          "text": [
            "Downloading data from https://storage.googleapis.com/tensorflow/tf-keras-datasets/mnist.npz\n",
            "11493376/11490434 [==============================] - 0s 0us/step\n"
          ],
          "name": "stdout"
        }
      ]
    },
    {
      "cell_type": "code",
      "metadata": {
        "colab": {
          "base_uri": "https://localhost:8080/"
        },
        "id": "chC_-XsKOVdU",
        "outputId": "59ab8675-53a5-4433-b71f-1f6b8e9acf54"
      },
      "source": [
        "print(X_train.shape, y_train.shape)"
      ],
      "execution_count": null,
      "outputs": [
        {
          "output_type": "stream",
          "text": [
            "(60000, 28, 28) (60000,)\n"
          ],
          "name": "stdout"
        }
      ]
    },
    {
      "cell_type": "code",
      "metadata": {
        "colab": {
          "base_uri": "https://localhost:8080/"
        },
        "id": "XT80If9wOXVg",
        "outputId": "d32703e9-ccde-457a-df2a-c860ca99053d"
      },
      "source": [
        "print(X_test.shape, y_test.shape, y_test[:2]) #2개만 출력해봄"
      ],
      "execution_count": null,
      "outputs": [
        {
          "output_type": "stream",
          "text": [
            "(10000, 28, 28) (10000,) [7 2]\n"
          ],
          "name": "stdout"
        }
      ]
    },
    {
      "cell_type": "code",
      "metadata": {
        "colab": {
          "base_uri": "https://localhost:8080/",
          "height": 265
        },
        "id": "FZg1GGFeOamK",
        "outputId": "25b60bf8-7e6e-46b2-eaa9-d46c7b39bacc"
      },
      "source": [
        "plt.imshow(X_train[0]) #한장만 보겠음\r\n",
        "plt.show()"
      ],
      "execution_count": null,
      "outputs": [
        {
          "output_type": "display_data",
          "data": {
            "image/png": "[encoded data removed]",
            "text/plain": [
              "<Figure size 432x288 with 1 Axes>"
            ]
          },
          "metadata": {
            "tags": [],
            "needs_background": "light"
          }
        }
      ]
    },
    {
      "cell_type": "code",
      "metadata": {
        "colab": {
          "base_uri": "https://localhost:8080/"
        },
        "id": "7iiLLqtHOeSE",
        "outputId": "83fd1508-735e-420b-879d-89025670e591"
      },
      "source": [
        "print(y_train[0]) #첫번째 사진 정답 출력"
      ],
      "execution_count": null,
      "outputs": [
        {
          "output_type": "stream",
          "text": [
            "5\n"
          ],
          "name": "stdout"
        }
      ]
    },
    {
      "cell_type": "code",
      "metadata": {
        "id": "MWyLah5lOgds"
      },
      "source": [
        "from keras.models import Sequential\r\n",
        "#----------------------------------------FC -> CNN : Conv2D, MaxPool2D, Flatten\r\n",
        "from keras.layers import Dense, Conv2D, MaxPool2D, Flatten"
      ],
      "execution_count": null,
      "outputs": []
    },
    {
      "cell_type": "code",
      "metadata": {
        "id": "D9k_yRF0Ojgu"
      },
      "source": [
        "#X_train (60000, 28(W), 28(H), 1(Channel))\r\n",
        "# 1 : 채널 (따로 표기가 안 되어있기에 1)\r\n",
        "X_train = X_train.reshape(X_train.shape[0], 28,28,1) / 255 #넓이, 높이, 채널(흑백:1, RGB컬러 다 살릴거면:3)로 reshape 해야함 #width,height의 채널값으로 들어가야함(28,28)\r\n",
        "#X_test (60000, 28(W), 28(H), 1(Channel))\r\n",
        "X_test = X_test.reshape(X_test.shape[0], 28,28,1) / 255\r\n",
        "#print(X_train[0]) #첫번째 사진 출력 (784개의 픽셀 가지고 있음) - 이미지 스케일링은 최고 픽셀값 255(0~255 픽셀컬러)으로 나누면 됨 (최대값은 1, 나머지는 0.x. 0~1사이에 값이 들어오게 됨)\r\n",
        "#MinMaxScaler도 가능하지만 이미지는 255로 나누는게 낫다"
      ],
      "execution_count": null,
      "outputs": []
    },
    {
      "cell_type": "code",
      "metadata": {
        "colab": {
          "base_uri": "https://localhost:8080/"
        },
        "id": "BIE0J_QFOlhJ",
        "outputId": "4f8f4062-4c13-48c7-e736-1d8cbefdbb40"
      },
      "source": [
        "model = Sequential()\r\n",
        "#사진이 3차원이기에 3차원을 1차원으로 평면화시켜야 함 . cnn이 기존이미지 공간정보를 유지하며 학습시킬수 있기에\r\n",
        "#filters, kernel_size, strides=(1, 1), padding='valid' #필터사이즈, 채널값 필요, 패딩은 기본적으로 valid\r\n",
        "model.add(Conv2D(filters=20, kernel_size=(4,4), input_shape=(28,28,1), activation='relu')) #input_shape: 위에서 resize한 그대로 가져오기 #한 장 모양 넣기. 이런게 6만장 있음\r\n",
        "model.add(MaxPool2D(pool_size=(2, 2))) #반으로 줄이기\r\n",
        "model.add(Conv2D(filters=40, kernel_size=(3,3), activation='relu'))\r\n",
        "model.add(MaxPool2D(pool_size=(2, 2))) #6*6*40 (28*28에서 줄어든 것) #54~57줄 부분을 잘 조정하는 것이 중요!\r\n",
        "model.add(Flatten()) #만든만큼 펴라(numpy array 상태로 한줄로 펴기) / FC에서는 input_dim=6*6*1*50으로 정해줬어야 했지만 굳이 안써도됨. 알아서 전달받아서 Flatten에서 처리됨\r\n",
        "#Flatten : CNN과 FC의 연결고리(FC의 input_dim 역할을 함)\r\n",
        "model.add(Dense(64, activation='relu')) #cnn으로 특징을 가져왔으므로 dense를 깊게 할 필요가 없음->입력,출력만 남겨둬도 ok #만든만큼 건내주면 되므로 input_dim 필요없음(flatten 사용)\r\n",
        "model.add(Dense(10, activation='softmax')) #0~9까지 손글씨 이므로 출력:10\r\n",
        "print(model.summary()) #Total params: 53,018 -> Total params: 72,294"
      ],
      "execution_count": null,
      "outputs": [
        {
          "output_type": "stream",
          "text": [
            "Model: \"sequential\"\n",
            "_________________________________________________________________\n",
            "Layer (type)                 Output Shape              Param #   \n",
            "=================================================================\n",
            "conv2d (Conv2D)              (None, 25, 25, 20)        340       \n",
            "_________________________________________________________________\n",
            "max_pooling2d (MaxPooling2D) (None, 12, 12, 20)        0         \n",
            "_________________________________________________________________\n",
            "conv2d_1 (Conv2D)            (None, 10, 10, 40)        7240      \n",
            "_________________________________________________________________\n",
            "max_pooling2d_1 (MaxPooling2 (None, 5, 5, 40)          0         \n",
            "_________________________________________________________________\n",
            "flatten (Flatten)            (None, 1000)              0         \n",
            "_________________________________________________________________\n",
            "dense (Dense)                (None, 64)                64064     \n",
            "_________________________________________________________________\n",
            "dense_1 (Dense)              (None, 10)                650       \n",
            "=================================================================\n",
            "Total params: 72,294\n",
            "Trainable params: 72,294\n",
            "Non-trainable params: 0\n",
            "_________________________________________________________________\n",
            "None\n"
          ],
          "name": "stdout"
        }
      ]
    },
    {
      "cell_type": "code",
      "metadata": {
        "id": "Klu-w5F5On_h"
      },
      "source": [
        "from keras.callbacks import EarlyStopping\r\n",
        "early_stop = EarlyStopping(monitor='val_loss', patience=10)"
      ],
      "execution_count": null,
      "outputs": []
    },
    {
      "cell_type": "code",
      "metadata": {
        "id": "6fFXwy1LOqDu"
      },
      "source": [
        "#sklearn OneHotEnconder\r\n",
        "#keras to_categorical :onehotencoding해주는 역할. 그러면 crossentropy는 sparse 제외한 categorical_entropy로 해줘야 한다\r\n",
        "#원핫인코딩,\r\n",
        "from keras.utils import to_categorical\r\n",
        "y_test = to_categorical(y_test)\r\n",
        "y_train = to_categorical(y_train)"
      ],
      "execution_count": null,
      "outputs": []
    },
    {
      "cell_type": "code",
      "metadata": {
        "id": "HEpS8dKTPxlz"
      },
      "source": [
        "model.compile(loss='categorical_crossentropy',  #onehotencoding이면 categorical cf.0/1로 구분하는거면 sigmoid\r\n",
        "              optimizer='adam',\r\n",
        "              metrics=['accuracy'])"
      ],
      "execution_count": null,
      "outputs": []
    },
    {
      "cell_type": "code",
      "metadata": {
        "colab": {
          "base_uri": "https://localhost:8080/"
        },
        "id": "8Lu50wHtPzGB",
        "outputId": "8e94bfda-a504-47b9-f079-8b56f6346a54"
      },
      "source": [
        "history = model.fit(X_train, y_train, epochs = 100, batch_size=300, validation_data=(X_test, y_test), callbacks=[early_stop]) #verbose=0으로 하면 로그 안찍히지만 돌아가는지 확인 어려울 수 있음\r\n",
        "#Overfitting 발생(주황색선이 더이상 증가하지 않으면 스탑시켜야함) -> epoch 12번 정도가 적당? #학습은 하면 할수록 0으로 가까워짐 -> overfitting(학습만 잘되고 그 이외 데이터 못맞춤)\r\n",
        "#학습시킬때 6만장 다 주면됨. 레이블도 6만장"
      ],
      "execution_count": null,
      "outputs": [
        {
          "output_type": "stream",
          "text": [
            "Epoch 1/100\n",
            "200/200 [==============================] - 25s 120ms/step - loss: 0.8686 - accuracy: 0.7684 - val_loss: 0.1020 - val_accuracy: 0.9703\n",
            "Epoch 2/100\n",
            "200/200 [==============================] - 23s 117ms/step - loss: 0.1026 - accuracy: 0.9706 - val_loss: 0.0618 - val_accuracy: 0.9796\n",
            "Epoch 3/100\n",
            "200/200 [==============================] - 24s 119ms/step - loss: 0.0670 - accuracy: 0.9804 - val_loss: 0.0479 - val_accuracy: 0.9830\n",
            "Epoch 4/100\n",
            "200/200 [==============================] - 24s 119ms/step - loss: 0.0528 - accuracy: 0.9834 - val_loss: 0.0416 - val_accuracy: 0.9870\n",
            "Epoch 5/100\n",
            "200/200 [==============================] - 24s 118ms/step - loss: 0.0439 - accuracy: 0.9869 - val_loss: 0.0393 - val_accuracy: 0.9869\n",
            "Epoch 6/100\n",
            "200/200 [==============================] - 24s 118ms/step - loss: 0.0368 - accuracy: 0.9887 - val_loss: 0.0347 - val_accuracy: 0.9893\n",
            "Epoch 7/100\n",
            "200/200 [==============================] - 24s 121ms/step - loss: 0.0302 - accuracy: 0.9906 - val_loss: 0.0318 - val_accuracy: 0.9888\n",
            "Epoch 8/100\n",
            "200/200 [==============================] - 24s 121ms/step - loss: 0.0292 - accuracy: 0.9913 - val_loss: 0.0300 - val_accuracy: 0.9903\n",
            "Epoch 9/100\n",
            "200/200 [==============================] - 24s 122ms/step - loss: 0.0264 - accuracy: 0.9923 - val_loss: 0.0311 - val_accuracy: 0.9898\n",
            "Epoch 10/100\n",
            "200/200 [==============================] - 24s 122ms/step - loss: 0.0222 - accuracy: 0.9932 - val_loss: 0.0306 - val_accuracy: 0.9908\n",
            "Epoch 11/100\n",
            "200/200 [==============================] - 24s 122ms/step - loss: 0.0198 - accuracy: 0.9943 - val_loss: 0.0289 - val_accuracy: 0.9912\n",
            "Epoch 12/100\n",
            "200/200 [==============================] - 24s 120ms/step - loss: 0.0194 - accuracy: 0.9941 - val_loss: 0.0271 - val_accuracy: 0.9918\n",
            "Epoch 13/100\n",
            "200/200 [==============================] - 24s 121ms/step - loss: 0.0144 - accuracy: 0.9958 - val_loss: 0.0291 - val_accuracy: 0.9913\n",
            "Epoch 14/100\n",
            "200/200 [==============================] - 24s 121ms/step - loss: 0.0144 - accuracy: 0.9960 - val_loss: 0.0286 - val_accuracy: 0.9915\n",
            "Epoch 15/100\n",
            "200/200 [==============================] - 24s 118ms/step - loss: 0.0130 - accuracy: 0.9958 - val_loss: 0.0291 - val_accuracy: 0.9921\n",
            "Epoch 16/100\n",
            "200/200 [==============================] - 24s 119ms/step - loss: 0.0107 - accuracy: 0.9964 - val_loss: 0.0300 - val_accuracy: 0.9912\n",
            "Epoch 17/100\n",
            "200/200 [==============================] - 24s 119ms/step - loss: 0.0108 - accuracy: 0.9965 - val_loss: 0.0273 - val_accuracy: 0.9915\n",
            "Epoch 18/100\n",
            "200/200 [==============================] - 24s 118ms/step - loss: 0.0098 - accuracy: 0.9972 - val_loss: 0.0329 - val_accuracy: 0.9902\n",
            "Epoch 19/100\n",
            "200/200 [==============================] - 24s 120ms/step - loss: 0.0078 - accuracy: 0.9980 - val_loss: 0.0276 - val_accuracy: 0.9922\n",
            "Epoch 20/100\n",
            "200/200 [==============================] - 24s 119ms/step - loss: 0.0069 - accuracy: 0.9981 - val_loss: 0.0289 - val_accuracy: 0.9916\n",
            "Epoch 21/100\n",
            "200/200 [==============================] - 24s 118ms/step - loss: 0.0077 - accuracy: 0.9983 - val_loss: 0.0315 - val_accuracy: 0.9916\n",
            "Epoch 22/100\n",
            "200/200 [==============================] - 24s 118ms/step - loss: 0.0062 - accuracy: 0.9984 - val_loss: 0.0322 - val_accuracy: 0.9910\n"
          ],
          "name": "stdout"
        }
      ]
    },
    {
      "cell_type": "code",
      "metadata": {
        "colab": {
          "base_uri": "https://localhost:8080/"
        },
        "id": "VTlT6rPiP1H_",
        "outputId": "61f3a700-5b53-4956-d8f7-cc95efadb1e6"
      },
      "source": [
        "print('acc: {:.4f}, loss: {:.4f}'.format(model.evaluate(X_test, y_test)[1], model.evaluate(X_test, y_test)[0])) #acc: 0.9733, loss: 0.1115 -> acc: 0.9899, loss: 0.0404\r\n"
      ],
      "execution_count": null,
      "outputs": [
        {
          "output_type": "stream",
          "text": [
            "313/313 [==============================] - 2s 5ms/step - loss: 0.0322 - accuracy: 0.9910\n",
            "313/313 [==============================] - 2s 5ms/step - loss: 0.0322 - accuracy: 0.9910\n",
            "acc: 0.9910, loss: 0.0322\n"
          ],
          "name": "stdout"
        }
      ]
    },
    {
      "cell_type": "code",
      "metadata": {
        "colab": {
          "base_uri": "https://localhost:8080/",
          "height": 714
        },
        "id": "gwTD8UoxRo2s",
        "outputId": "85ca13c5-d5d3-4429-c98f-e9b12311e822"
      },
      "source": [
        "CHART_PLOT_HISTORY(history)"
      ],
      "execution_count": null,
      "outputs": [
        {
          "output_type": "display_data",
          "data": {
            "image/png": "[encoded data removed]",
            "text/plain": [
              "<Figure size 576x864 with 2 Axes>"
            ]
          },
          "metadata": {
            "tags": [],
            "needs_background": "light"
          }
        }
      ]
    },
    {
      "cell_type": "code",
      "metadata": {
        "id": "RIqh_4zLR33U"
      },
      "source": [
        ""
      ],
      "execution_count": null,
      "outputs": []
    }
  ]
}