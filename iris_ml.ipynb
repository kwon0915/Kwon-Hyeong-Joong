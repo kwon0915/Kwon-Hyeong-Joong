{
  "nbformat": 4,
  "nbformat_minor": 0,
  "metadata": {
    "colab": {
      "name": "iris_ml.ipynb",
      "provenance": [],
      "authorship_tag": "ABX9TyNm9u/FUQBYLwKjUEyPRGJ+",
      "include_colab_link": true
    },
    "kernelspec": {
      "name": "python3",
      "display_name": "Python 3"
    }
  },
  "cells": [
    {
      "cell_type": "markdown",
      "metadata": {
        "id": "view-in-github",
        "colab_type": "text"
      },
      "source": [
        "<a href=\"https://colab.research.google.com/github/kwon0915/Kwon-Hyeong-Joong/blob/master/iris_ml.ipynb\" target=\"_parent\"><img src=\"https://colab.research.google.com/assets/colab-badge.svg\" alt=\"Open In Colab\"/></a>"
      ]
    },
    {
      "cell_type": "code",
      "metadata": {
        "id": "96hDZC5SGelc"
      },
      "source": [
        "#Module name : iris_lec_dl.sample.py\r\n",
        "\r\n",
        "import pandas as pd\r\n",
        "import numpy as np\r\n",
        "import matplotlib.pyplot as plt\r\n",
        "import seaborn as sn\r\n",
        "from sklearn.datasets import load_iris\r\n",
        "from sklearn.model_selection import train_test_split\r\n",
        "from sklearn.ensemble import RandomForestClassifier #랜덤포레스트\r\n",
        "from sklearn.metrics import accuracy_score, f1_score, recall_score, precision_score, roc_auc_score  #정확도 평가"
      ],
      "execution_count": 1,
      "outputs": []
    },
    {
      "cell_type": "code",
      "metadata": {
        "id": "pAx65dZTGj7n"
      },
      "source": [
        "dataset = load_iris() #내장데이터 불러오기"
      ],
      "execution_count": 2,
      "outputs": []
    },
    {
      "cell_type": "code",
      "metadata": {
        "id": "R49yAj2JGo-B"
      },
      "source": [
        "col_name=['sepal_length', 'sepal_width', 'petal_length', 'petal_width'] #컬럼명 지정"
      ],
      "execution_count": 3,
      "outputs": []
    },
    {
      "cell_type": "code",
      "metadata": {
        "id": "5zHOqJxrGrO0"
      },
      "source": [
        "df = pd.DataFrame(data=dataset.data, columns=col_name) #데이터프레임화 "
      ],
      "execution_count": 4,
      "outputs": []
    },
    {
      "cell_type": "code",
      "metadata": {
        "id": "kD7yNS5OGtUv"
      },
      "source": [
        "df[\"target\"] = dataset.target #target만 따로 빼냄(df.target은 dataset과 별도이며 target컬럼을 df로 가져온것)"
      ],
      "execution_count": 5,
      "outputs": []
    },
    {
      "cell_type": "code",
      "metadata": {
        "colab": {
          "base_uri": "https://localhost:8080/"
        },
        "id": "Sp6GZrJjGv4x",
        "outputId": "b8d83fbc-33e5-44b8-91db-34d567273b5e"
      },
      "source": [
        "문제 = df.drop(\"target\",axis=1, inplace=False) #타겟을 제외한 나머지, 1이 열, 0은 행\r\n",
        "답안 = df[\"target\"] #타겟만\r\n",
        "print(문제[:2])\r\n",
        "print(답안[:2])"
      ],
      "execution_count": 6,
      "outputs": [
        {
          "output_type": "stream",
          "text": [
            "   sepal_length  sepal_width  petal_length  petal_width\n",
            "0           5.1          3.5           1.4          0.2\n",
            "1           4.9          3.0           1.4          0.2\n",
            "0    0\n",
            "1    0\n",
            "Name: target, dtype: int64\n"
          ],
          "name": "stdout"
        }
      ]
    },
    {
      "cell_type": "code",
      "metadata": {
        "id": "fcSWo52sGz7k"
      },
      "source": [
        "#*arrays, test_size=None, train_size=None, random_state=None, shuffle=True, stratify=None)\r\n",
        "#X_train, X_test, y_train, y_test = train_test_split(...     X, y, test_size=0.33, random_state=42)\r\n",
        "문제_학습80, 문제_테스트20, 답안_학습80, 답안_테스트20 \\\r\n",
        "    = train_test_split(문제, 답안, test_size=0.2, random_state=121, shuffle=True) #데이터셋이 작으면 8:2, 9:1로도 나눔. #기본으로 shuffle(뒤섞음)이 true. "
      ],
      "execution_count": 8,
      "outputs": []
    },
    {
      "cell_type": "code",
      "metadata": {
        "id": "dXG14ZqHG3qX"
      },
      "source": [
        "#모델\r\n",
        "from sklearn.ensemble import RandomForestClassifier #랜덤포레스트"
      ],
      "execution_count": 9,
      "outputs": []
    },
    {
      "cell_type": "code",
      "metadata": {
        "id": "JyRxKTuTG7ik"
      },
      "source": [
        "rf_model = RandomForestClassifier()"
      ],
      "execution_count": 10,
      "outputs": []
    },
    {
      "cell_type": "code",
      "metadata": {
        "colab": {
          "base_uri": "https://localhost:8080/"
        },
        "id": "ndT52-7fG9fB",
        "outputId": "f2428c11-943a-4c9a-ae29-8b62f7255040"
      },
      "source": [
        "#fit : 학습하다\r\n",
        "rf_model.fit(문제_학습80, 답안_학습80)"
      ],
      "execution_count": 11,
      "outputs": [
        {
          "output_type": "execute_result",
          "data": {
            "text/plain": [
              "RandomForestClassifier(bootstrap=True, ccp_alpha=0.0, class_weight=None,\n",
              "                       criterion='gini', max_depth=None, max_features='auto',\n",
              "                       max_leaf_nodes=None, max_samples=None,\n",
              "                       min_impurity_decrease=0.0, min_impurity_split=None,\n",
              "                       min_samples_leaf=1, min_samples_split=2,\n",
              "                       min_weight_fraction_leaf=0.0, n_estimators=100,\n",
              "                       n_jobs=None, oob_score=False, random_state=None,\n",
              "                       verbose=0, warm_start=False)"
            ]
          },
          "metadata": {
            "tags": []
          },
          "execution_count": 11
        }
      ]
    },
    {
      "cell_type": "code",
      "metadata": {
        "id": "MtrxeNwPHAB-"
      },
      "source": [
        "#predict : 시험\r\n",
        "예측답안20 = rf_model.predict(문제_테스트20)"
      ],
      "execution_count": 12,
      "outputs": []
    },
    {
      "cell_type": "code",
      "metadata": {
        "colab": {
          "base_uri": "https://localhost:8080/"
        },
        "id": "D1jckyvtHC3z",
        "outputId": "78031e9f-2cb4-4002-820d-a630e75a40dc"
      },
      "source": [
        "#score : 예측 정확도 확인\r\n",
        "score = accuracy_score(답안_테스트20, 예측답안20)\r\n",
        "print(rf_model.__str__(), \":\" , score) # 0.9666666666666667"
      ],
      "execution_count": 13,
      "outputs": [
        {
          "output_type": "stream",
          "text": [
            "RandomForestClassifier(bootstrap=True, ccp_alpha=0.0, class_weight=None,\n",
            "                       criterion='gini', max_depth=None, max_features='auto',\n",
            "                       max_leaf_nodes=None, max_samples=None,\n",
            "                       min_impurity_decrease=0.0, min_impurity_split=None,\n",
            "                       min_samples_leaf=1, min_samples_split=2,\n",
            "                       min_weight_fraction_leaf=0.0, n_estimators=100,\n",
            "                       n_jobs=None, oob_score=False, random_state=None,\n",
            "                       verbose=0, warm_start=False) : 0.9666666666666667\n"
          ],
          "name": "stdout"
        }
      ]
    },
    {
      "cell_type": "code",
      "metadata": {
        "id": "b_kWSbeXHEuC"
      },
      "source": [
        ""
      ],
      "execution_count": null,
      "outputs": []
    }
  ]
}