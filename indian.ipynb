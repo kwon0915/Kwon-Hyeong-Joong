{
  "nbformat": 4,
  "nbformat_minor": 0,
  "metadata": {
    "colab": {
      "name": "indian.ipynb",
      "provenance": [],
      "collapsed_sections": [],
      "authorship_tag": "ABX9TyNNR4mMPuiz3uisguIyLeLr",
      "include_colab_link": true
    },
    "kernelspec": {
      "name": "python3",
      "display_name": "Python 3"
    }
  },
  "cells": [
    {
      "cell_type": "markdown",
      "metadata": {
        "id": "view-in-github",
        "colab_type": "text"
      },
      "source": [
        "<a href=\"https://colab.research.google.com/github/kwon0915/Kwon-Hyeong-Joong/blob/master/indian.ipynb\" target=\"_parent\"><img src=\"https://colab.research.google.com/assets/colab-badge.svg\" alt=\"Open In Colab\"/></a>"
      ]
    },
    {
      "cell_type": "code",
      "metadata": {
        "id": "eNDPqWnpEarT"
      },
      "source": [
        "# Pregnancies: 임신 횟수\r\n",
        "# Glucose: 포도당 부하 검사 수치\r\n",
        "# BloodPressure: 혈압(mm Hg)\r\n",
        "# SkinThickness: 팔 삼두근 뒤쪽의 피하지방 측정값(mm)\r\n",
        "# Insulin: 혈청 인슐린(mu U/ml)\r\n",
        "# BMI: 체질량지수 (체중(kg) / 키(m)^2)\r\n",
        "# DiabetesPedigreeFunction: 당뇨 내력 가중치 값\r\n",
        "# Age: 나이\r\n",
        "# Outcome: 클래스 결정 값 (0 또는 1)(타겟)"
      ],
      "execution_count": null,
      "outputs": []
    },
    {
      "cell_type": "code",
      "metadata": {
        "id": "1wKNgR1oEcho"
      },
      "source": [
        "import pandas as pd\r\n",
        "import numpy as np\r\n",
        "import matplotlib.pyplot as plt\r\n",
        "import seaborn as sns\r\n",
        "# sklearn : 분류\r\n",
        "from sklearn.ensemble import RandomForestClassifier\r\n",
        "# metrics : 평가\r\n",
        "from sklearn.metrics import confusion_matrix, accuracy_score, f1_score, roc_auc_score,precision_score,recall_score, roc_curve, classification_report,precision_recall_curve\r\n",
        "# preprocessing : 전처리\r\n",
        "from sklearn.preprocessing import RobustScaler, MinMaxScaler, StandardScaler, Binarizer, OneHotEncoder, LabelEncoder\r\n",
        "# train_test_split, GridSearchCV : 7:3 데이터 나누기\r\n",
        "from sklearn.model_selection import train_test_split, cross_val_score, GridSearchCV, KFold\r\n",
        "\r\n",
        "import warnings\r\n",
        "warnings.filterwarnings(action=\"ignore\")"
      ],
      "execution_count": null,
      "outputs": []
    },
    {
      "cell_type": "code",
      "metadata": {
        "id": "r0dY5aqSAvSr"
      },
      "source": [
        "df = pd.read_csv(\"diabetes.xls\")"
      ],
      "execution_count": null,
      "outputs": []
    },
    {
      "cell_type": "code",
      "metadata": {
        "colab": {
          "base_uri": "https://localhost:8080/"
        },
        "id": "36fWezHuEwCZ",
        "outputId": "4fc2fd9c-31d4-4adc-cf99-dd2ec3669564"
      },
      "source": [
        "print(df.shape) "
      ],
      "execution_count": null,
      "outputs": [
        {
          "output_type": "stream",
          "text": [
            "(768, 9)\n"
          ],
          "name": "stdout"
        }
      ]
    },
    {
      "cell_type": "code",
      "metadata": {
        "colab": {
          "base_uri": "https://localhost:8080/",
          "height": 195
        },
        "id": "l0bixKNHEh3d",
        "outputId": "5f86968c-0788-4812-daff-060952bb6367"
      },
      "source": [
        "df.head()"
      ],
      "execution_count": null,
      "outputs": [
        {
          "output_type": "execute_result",
          "data": {
            "text/html": [
              "<div>\n",
              "<style scoped>\n",
              "    .dataframe tbody tr th:only-of-type {\n",
              "        vertical-align: middle;\n",
              "    }\n",
              "\n",
              "    .dataframe tbody tr th {\n",
              "        vertical-align: top;\n",
              "    }\n",
              "\n",
              "    .dataframe thead th {\n",
              "        text-align: right;\n",
              "    }\n",
              "</style>\n",
              "<table border=\"1\" class=\"dataframe\">\n",
              "  <thead>\n",
              "    <tr style=\"text-align: right;\">\n",
              "      <th></th>\n",
              "      <th>Pregnancies</th>\n",
              "      <th>Glucose</th>\n",
              "      <th>BloodPressure</th>\n",
              "      <th>SkinThickness</th>\n",
              "      <th>Insulin</th>\n",
              "      <th>BMI</th>\n",
              "      <th>DiabetesPedigreeFunction</th>\n",
              "      <th>Age</th>\n",
              "      <th>Outcome</th>\n",
              "    </tr>\n",
              "  </thead>\n",
              "  <tbody>\n",
              "    <tr>\n",
              "      <th>0</th>\n",
              "      <td>6</td>\n",
              "      <td>148</td>\n",
              "      <td>72</td>\n",
              "      <td>35</td>\n",
              "      <td>0</td>\n",
              "      <td>33.6</td>\n",
              "      <td>0.627</td>\n",
              "      <td>50</td>\n",
              "      <td>1</td>\n",
              "    </tr>\n",
              "    <tr>\n",
              "      <th>1</th>\n",
              "      <td>1</td>\n",
              "      <td>85</td>\n",
              "      <td>66</td>\n",
              "      <td>29</td>\n",
              "      <td>0</td>\n",
              "      <td>26.6</td>\n",
              "      <td>0.351</td>\n",
              "      <td>31</td>\n",
              "      <td>0</td>\n",
              "    </tr>\n",
              "    <tr>\n",
              "      <th>2</th>\n",
              "      <td>8</td>\n",
              "      <td>183</td>\n",
              "      <td>64</td>\n",
              "      <td>0</td>\n",
              "      <td>0</td>\n",
              "      <td>23.3</td>\n",
              "      <td>0.672</td>\n",
              "      <td>32</td>\n",
              "      <td>1</td>\n",
              "    </tr>\n",
              "    <tr>\n",
              "      <th>3</th>\n",
              "      <td>1</td>\n",
              "      <td>89</td>\n",
              "      <td>66</td>\n",
              "      <td>23</td>\n",
              "      <td>94</td>\n",
              "      <td>28.1</td>\n",
              "      <td>0.167</td>\n",
              "      <td>21</td>\n",
              "      <td>0</td>\n",
              "    </tr>\n",
              "    <tr>\n",
              "      <th>4</th>\n",
              "      <td>0</td>\n",
              "      <td>137</td>\n",
              "      <td>40</td>\n",
              "      <td>35</td>\n",
              "      <td>168</td>\n",
              "      <td>43.1</td>\n",
              "      <td>2.288</td>\n",
              "      <td>33</td>\n",
              "      <td>1</td>\n",
              "    </tr>\n",
              "  </tbody>\n",
              "</table>\n",
              "</div>"
            ],
            "text/plain": [
              "   Pregnancies  Glucose  BloodPressure  ...  DiabetesPedigreeFunction  Age  Outcome\n",
              "0            6      148             72  ...                     0.627   50        1\n",
              "1            1       85             66  ...                     0.351   31        0\n",
              "2            8      183             64  ...                     0.672   32        1\n",
              "3            1       89             66  ...                     0.167   21        0\n",
              "4            0      137             40  ...                     2.288   33        1\n",
              "\n",
              "[5 rows x 9 columns]"
            ]
          },
          "metadata": {
            "tags": []
          },
          "execution_count": 5
        }
      ]
    },
    {
      "cell_type": "code",
      "metadata": {
        "colab": {
          "base_uri": "https://localhost:8080/"
        },
        "id": "dsC3aPQVElNo",
        "outputId": "3459ee8c-f86d-45de-a609-57913a9eeff9"
      },
      "source": [
        "df.info()"
      ],
      "execution_count": null,
      "outputs": [
        {
          "output_type": "stream",
          "text": [
            "<class 'pandas.core.frame.DataFrame'>\n",
            "RangeIndex: 768 entries, 0 to 767\n",
            "Data columns (total 9 columns):\n",
            " #   Column                    Non-Null Count  Dtype  \n",
            "---  ------                    --------------  -----  \n",
            " 0   Pregnancies               768 non-null    int64  \n",
            " 1   Glucose                   768 non-null    int64  \n",
            " 2   BloodPressure             768 non-null    int64  \n",
            " 3   SkinThickness             768 non-null    int64  \n",
            " 4   Insulin                   768 non-null    int64  \n",
            " 5   BMI                       768 non-null    float64\n",
            " 6   DiabetesPedigreeFunction  768 non-null    float64\n",
            " 7   Age                       768 non-null    int64  \n",
            " 8   Outcome                   768 non-null    int64  \n",
            "dtypes: float64(2), int64(7)\n",
            "memory usage: 54.1 KB\n"
          ],
          "name": "stdout"
        }
      ]
    },
    {
      "cell_type": "code",
      "metadata": {
        "colab": {
          "base_uri": "https://localhost:8080/",
          "height": 284
        },
        "id": "WSlW5QGkEoDZ",
        "outputId": "dc967b4a-051f-4736-ce85-ce91118edac2"
      },
      "source": [
        "df.describe()"
      ],
      "execution_count": null,
      "outputs": [
        {
          "output_type": "execute_result",
          "data": {
            "text/html": [
              "<div>\n",
              "<style scoped>\n",
              "    .dataframe tbody tr th:only-of-type {\n",
              "        vertical-align: middle;\n",
              "    }\n",
              "\n",
              "    .dataframe tbody tr th {\n",
              "        vertical-align: top;\n",
              "    }\n",
              "\n",
              "    .dataframe thead th {\n",
              "        text-align: right;\n",
              "    }\n",
              "</style>\n",
              "<table border=\"1\" class=\"dataframe\">\n",
              "  <thead>\n",
              "    <tr style=\"text-align: right;\">\n",
              "      <th></th>\n",
              "      <th>Pregnancies</th>\n",
              "      <th>Glucose</th>\n",
              "      <th>BloodPressure</th>\n",
              "      <th>SkinThickness</th>\n",
              "      <th>Insulin</th>\n",
              "      <th>BMI</th>\n",
              "      <th>DiabetesPedigreeFunction</th>\n",
              "      <th>Age</th>\n",
              "      <th>Outcome</th>\n",
              "    </tr>\n",
              "  </thead>\n",
              "  <tbody>\n",
              "    <tr>\n",
              "      <th>count</th>\n",
              "      <td>768.000000</td>\n",
              "      <td>768.000000</td>\n",
              "      <td>768.000000</td>\n",
              "      <td>768.000000</td>\n",
              "      <td>768.000000</td>\n",
              "      <td>768.000000</td>\n",
              "      <td>768.000000</td>\n",
              "      <td>768.000000</td>\n",
              "      <td>768.000000</td>\n",
              "    </tr>\n",
              "    <tr>\n",
              "      <th>mean</th>\n",
              "      <td>3.845052</td>\n",
              "      <td>120.894531</td>\n",
              "      <td>69.105469</td>\n",
              "      <td>20.536458</td>\n",
              "      <td>79.799479</td>\n",
              "      <td>31.992578</td>\n",
              "      <td>0.471876</td>\n",
              "      <td>33.240885</td>\n",
              "      <td>0.348958</td>\n",
              "    </tr>\n",
              "    <tr>\n",
              "      <th>std</th>\n",
              "      <td>3.369578</td>\n",
              "      <td>31.972618</td>\n",
              "      <td>19.355807</td>\n",
              "      <td>15.952218</td>\n",
              "      <td>115.244002</td>\n",
              "      <td>7.884160</td>\n",
              "      <td>0.331329</td>\n",
              "      <td>11.760232</td>\n",
              "      <td>0.476951</td>\n",
              "    </tr>\n",
              "    <tr>\n",
              "      <th>min</th>\n",
              "      <td>0.000000</td>\n",
              "      <td>0.000000</td>\n",
              "      <td>0.000000</td>\n",
              "      <td>0.000000</td>\n",
              "      <td>0.000000</td>\n",
              "      <td>0.000000</td>\n",
              "      <td>0.078000</td>\n",
              "      <td>21.000000</td>\n",
              "      <td>0.000000</td>\n",
              "    </tr>\n",
              "    <tr>\n",
              "      <th>25%</th>\n",
              "      <td>1.000000</td>\n",
              "      <td>99.000000</td>\n",
              "      <td>62.000000</td>\n",
              "      <td>0.000000</td>\n",
              "      <td>0.000000</td>\n",
              "      <td>27.300000</td>\n",
              "      <td>0.243750</td>\n",
              "      <td>24.000000</td>\n",
              "      <td>0.000000</td>\n",
              "    </tr>\n",
              "    <tr>\n",
              "      <th>50%</th>\n",
              "      <td>3.000000</td>\n",
              "      <td>117.000000</td>\n",
              "      <td>72.000000</td>\n",
              "      <td>23.000000</td>\n",
              "      <td>30.500000</td>\n",
              "      <td>32.000000</td>\n",
              "      <td>0.372500</td>\n",
              "      <td>29.000000</td>\n",
              "      <td>0.000000</td>\n",
              "    </tr>\n",
              "    <tr>\n",
              "      <th>75%</th>\n",
              "      <td>6.000000</td>\n",
              "      <td>140.250000</td>\n",
              "      <td>80.000000</td>\n",
              "      <td>32.000000</td>\n",
              "      <td>127.250000</td>\n",
              "      <td>36.600000</td>\n",
              "      <td>0.626250</td>\n",
              "      <td>41.000000</td>\n",
              "      <td>1.000000</td>\n",
              "    </tr>\n",
              "    <tr>\n",
              "      <th>max</th>\n",
              "      <td>17.000000</td>\n",
              "      <td>199.000000</td>\n",
              "      <td>122.000000</td>\n",
              "      <td>99.000000</td>\n",
              "      <td>846.000000</td>\n",
              "      <td>67.100000</td>\n",
              "      <td>2.420000</td>\n",
              "      <td>81.000000</td>\n",
              "      <td>1.000000</td>\n",
              "    </tr>\n",
              "  </tbody>\n",
              "</table>\n",
              "</div>"
            ],
            "text/plain": [
              "       Pregnancies     Glucose  ...         Age     Outcome\n",
              "count   768.000000  768.000000  ...  768.000000  768.000000\n",
              "mean      3.845052  120.894531  ...   33.240885    0.348958\n",
              "std       3.369578   31.972618  ...   11.760232    0.476951\n",
              "min       0.000000    0.000000  ...   21.000000    0.000000\n",
              "25%       1.000000   99.000000  ...   24.000000    0.000000\n",
              "50%       3.000000  117.000000  ...   29.000000    0.000000\n",
              "75%       6.000000  140.250000  ...   41.000000    1.000000\n",
              "max      17.000000  199.000000  ...   81.000000    1.000000\n",
              "\n",
              "[8 rows x 9 columns]"
            ]
          },
          "metadata": {
            "tags": []
          },
          "execution_count": 8
        }
      ]
    },
    {
      "cell_type": "code",
      "metadata": {
        "colab": {
          "base_uri": "https://localhost:8080/"
        },
        "id": "9JKv-sVrEqPu",
        "outputId": "ec587819-1549-4856-bd76-5419666e3fae"
      },
      "source": [
        "print(df[\"Outcome\"].value_counts()) #정상과 그렇지 않은 사람들의 비율 (0 : 500, 1 : 268), 정상이 2명이면 당뇨 한명 정도"
      ],
      "execution_count": null,
      "outputs": [
        {
          "output_type": "stream",
          "text": [
            "0    500\n",
            "1    268\n",
            "Name: Outcome, dtype: int64\n"
          ],
          "name": "stdout"
        }
      ]
    },
    {
      "cell_type": "code",
      "metadata": {
        "colab": {
          "base_uri": "https://localhost:8080/",
          "height": 281
        },
        "id": "jpsbZ2iGE0Gk",
        "outputId": "c9de11a1-3f88-4c66-f4c5-ea82835bfd73"
      },
      "source": [
        "df.hist()#히스토그램(제일 간단하게 그릴수 있는 차트), 아웃라이어와 이상치(0) 값이 그래프에 보임\r\n",
        "plt.show() # Pregnancies: 임신 횟수 (안했다고 해서 편중이 아님), # Glucose: 포도당 부하 검사 수치(0인 경우 이상치, 아웃라이어)\r\n",
        "# BloodPressure: 혈압(mm Hg)(0인 경우 이상치, 아웃라이어), # Insulin: 혈청 인슐린(mu U/ml)(0인 경우 이상치, 아웃라이어)\r\n",
        "# BMI: 체질량지수 (체중(kg) / 키(m)^2), # DiabetesPedigreeFunction: 당뇨 내력 가중치 값(유전도가 0일수는 있음)\r\n",
        "# Age: 나이(구간화 시켜야함), # Outcome: 클래스 결정 값 (0 또는 1)(타겟)"
      ],
      "execution_count": null,
      "outputs": [
        {
          "output_type": "display_data",
          "data": {
            "image/png": "[encoded data removed]",
            "text/plain": [
              "<Figure size 432x288 with 9 Axes>"
            ]
          },
          "metadata": {
            "tags": [],
            "needs_background": "light"
          }
        }
      ]
    },
    {
      "cell_type": "code",
      "metadata": {
        "id": "DUiVIowPGcAU"
      },
      "source": [
        "#데이터를 살펴보았을 떄 필요한 작업\r\n",
        "# 1. 이상치 발견(0값)\r\n",
        "# 2. 나이(구간화)\r\n",
        "# 3. 정규화(스케일링/아웃라이어 중 고민)\r\n",
        "# 4. 타겟 : Outcome(0/1)"
      ],
      "execution_count": null,
      "outputs": []
    },
    {
      "cell_type": "code",
      "metadata": {
        "colab": {
          "base_uri": "https://localhost:8080/"
        },
        "id": "73E0ApY0GqUI",
        "outputId": "cfd51314-2017-44c4-8221-02b027e826c5"
      },
      "source": [
        "y = df[\"Outcome\"] #타겟데이터 꺼내기\r\n",
        "X = df.drop(\"Outcome\", axis=1) #잘라낸것을 X에 대입\r\n",
        "print(X.shape, y.shape)#잘 잘라냈는지 확인, (768, 8) (768,)"
      ],
      "execution_count": null,
      "outputs": [
        {
          "output_type": "stream",
          "text": [
            "(768, 8) (768,)\n"
          ],
          "name": "stdout"
        }
      ]
    },
    {
      "cell_type": "code",
      "metadata": {
        "id": "WLue2-phGzuq"
      },
      "source": [
        "#--- 분석이 용이하려면: 결측치가 없어야 함(isnull().dropna().fillna())\r\n",
        "#--- 분석이 용이하려면: object가 없어야 함(oh.Encoding() : 010 ,001, 100 식으로 바꾸어줌, pd.getDummy() : 결측처리+ 인코딩(인코딩은 글자를 수치로 바꾸는 것)\r\n",
        "#--- 상관분석(분석의 시작)"
      ],
      "execution_count": null,
      "outputs": []
    },
    {
      "cell_type": "code",
      "metadata": {
        "colab": {
          "base_uri": "https://localhost:8080/",
          "height": 499
        },
        "id": "t38Hnj2VG3FW",
        "outputId": "c16095b9-738e-4a2c-80ef-0b6d52cd4be7"
      },
      "source": [
        "plt.figure(figsize=(10,6)) #표 사이즈 조절, 피쳐간의 상관분석\r\n",
        "sns.heatmap(df.corr(), annot=True, fmt=\".2g\", cmap=\"Blues\") #corr: 상관분석, annot=True : 수치값 보여줘, fmt=\".2g\" : 소숫점자리, cmap=\"Blues\" : 색\r\n",
        "plt.show()\r\n",
        "#당뇨에 영향을 미치는 것은 포도당, 포도당에 영향을 미치는 것은 인슐린 (연속적 관계 확인)\r\n",
        "#outcome(당뇨)에 Glucose(포도당 부하 검사 수치), BMI, Age, Pregnancies 순으로 중요함\r\n",
        "#Glucose(: 포도당 부하 검사 수치 )를 기준으로 영향을 가장 많이 주는것은 Insulin, Age\r\n",
        "#Age 에 영향을 많이 미치는 것은 Pregnancies(임신 횟수), Glucose(포도당 부하 검사 수치)\r\n",
        "#BMI 에 영향을 미치는 것은 SkinThickness(팔 삼두근 뒤쪽의 피하지방 측정값(mm))\r\n",
        "# DiabetesPedigreeFunction: 당뇨 내력 가중치 값(유전) 은 큰 관계가 있다고 보기 힘듬"
      ],
      "execution_count": null,
      "outputs": [
        {
          "output_type": "display_data",
          "data": {
            "image/png": "[encoded data removed]",
            "text/plain": [
              "<Figure size 720x432 with 2 Axes>"
            ]
          },
          "metadata": {
            "tags": [],
            "needs_background": "light"
          }
        }
      ]
    },
    {
      "cell_type": "code",
      "metadata": {
        "id": "NDRU_pm5HBBv"
      },
      "source": [
        "#아래 내용 메서드화\r\n",
        "def GET_MY_SCORE(y_test, pred, str=None) :\r\n",
        "    print(\"------{}-------\".format(str))\r\n",
        "    acc = accuracy_score(y_test, pred)  # 내 답안과 컴퓨터가 낸 답안을 비교\r\n",
        "    f1 = f1_score(y_test, pred)\r\n",
        "    precision = precision_score(y_test, pred)\r\n",
        "    recall = recall_score(y_test, pred)  # 재현률\r\n",
        "    rocauc = roc_auc_score(y_test, pred)\r\n",
        "    # print(\"정확도:\", acc, \"f1:\", f1)\r\n",
        "    print(\"정확도{:.4f}  F1 {:.4f}=(정밀도{:.4f}  재현률{:.4f}) rocauc{:.4f}\".format(acc, f1, precision, recall, rocauc))  # 위와 같은 방식이나 조금 더 편리, format() 내에는 변수를 기입\r\n",
        "    # {:.4f} : 소숫점 4자리만 표시해줘\r\n",
        "    cf_matrix = confusion_matrix(y_test, pred)\r\n",
        "    print(cf_matrix)\r\n"
      ],
      "execution_count": null,
      "outputs": []
    },
    {
      "cell_type": "code",
      "metadata": {
        "colab": {
          "base_uri": "https://localhost:8080/"
        },
        "id": "ZkkDJgXhHVT4",
        "outputId": "477f263b-8d9c-4a08-8588-91875c8e5e06"
      },
      "source": [
        "#전처리 전의 점수(전처리 후의 점수와 비교하기 위함)\r\n",
        "X_train ,X_test , y_train, y_test = train_test_split(X, y, test_size=0.2, random_state=121) #random_state=121 : 헷갈리면 안되기에 아무 수치나\r\n",
        "#문제 문제 8:2, 답안 답안 8:2\r\n",
        "rf_model = RandomForestClassifier() #모델을 다른것 사용하려면 이 한 줄만 바꾸면 됨\r\n",
        "rf_model.fit(X_train, y_train)#fit: 해당 모델을 이용해서 학습해라, 완료시 return데이터는 없음, X_train, y_train : 문제와 답안\r\n",
        "pred = rf_model.predict(X_test) #X_test 시험지를 주고 맞추라는 의미\r\n",
        "GET_MY_SCORE(y_test, pred, \"최초점수\") #확인했으나 그닥 마음에 드는 점수가 아님"
      ],
      "execution_count": null,
      "outputs": [
        {
          "output_type": "stream",
          "text": [
            "------최초점수-------\n",
            "정확도0.8312  F1 0.7400=(정밀도0.8043  재현률0.6852) rocauc0.7976\n",
            "[[91  9]\n",
            " [17 37]]\n"
          ],
          "name": "stdout"
        }
      ]
    },
    {
      "cell_type": "code",
      "metadata": {
        "id": "OEJPdOZeHaMd"
      },
      "source": [
        "#-----------------------------------------\r\n",
        "# 아웃라이어/특이값 : 0값 처리, 조금 벗어나면 특이값, 많이 벗어나면 outlier\r\n",
        "# 1.row삭제 2.채우기(평균, 최빈도, 중위값, 0, null) 3.예측해서 채우기\r\n",
        "#-----------------------------------------"
      ],
      "execution_count": null,
      "outputs": []
    },
    {
      "cell_type": "code",
      "metadata": {
        "colab": {
          "base_uri": "https://localhost:8080/"
        },
        "id": "D42sNCfbHjAx",
        "outputId": "cc592966-8485-4d08-d060-8a08be732d6b"
      },
      "source": [
        "#피쳐데이터에서 0인 것들을 찾음\r\n",
        "# gn = X[\"Glucose\"].nonzero()#포도당 수치 확인, 실행안됨\r\n",
        "#print(X.columns) #컬럼 확인\r\n",
        "#cols = X.columns\r\n",
        "for col in X.columns :  #컬럼에서 하나씩 뺴서 col에 넣어라\r\n",
        "    gcnt = X[col][X[col]==0].count()# 0인 것들 가져와서 확인\r\n",
        "    print(col, gcnt,  np.round(gcnt/X.shape[0]*100, 2)) #5명, 전체 비율을 gcnt/X.shape[0]*100 을 통해서 확인\r\n",
        "\r\n",
        "# Glucose 5 0.65 #포도당이 0일리가 없기에 이상함\r\n",
        "# BloodPressure 35 4.56 #혈압도 0인 것이 이상함\r\n",
        "# SkinThickness 227 29.56 #227명이 0\r\n",
        "# Insulin 374 48.7 #374가 0\r\n",
        "# BMI 11 1.43 #키가 있는데 0 값이 있음\r\n",
        "# DiabetesPedigreeFunction 0 0.0\r\n",
        "# Age 0 0.0 #나이가 0인 애들은 없음"
      ],
      "execution_count": null,
      "outputs": [
        {
          "output_type": "stream",
          "text": [
            "Pregnancies 111 14.45\n",
            "Glucose 5 0.65\n",
            "BloodPressure 35 4.56\n",
            "SkinThickness 227 29.56\n",
            "Insulin 374 48.7\n",
            "BMI 11 1.43\n",
            "DiabetesPedigreeFunction 0 0.0\n",
            "Age 0 0.0\n"
          ],
          "name": "stdout"
        }
      ]
    },
    {
      "cell_type": "code",
      "metadata": {
        "colab": {
          "base_uri": "https://localhost:8080/"
        },
        "id": "625SBJYgHmoF",
        "outputId": "ca9dced8-18a8-4c6b-92d8-1e1b5e508e98"
      },
      "source": [
        "#중위값 채우기\r\n",
        "zero_column = [\"Glucose\",\"BloodPressure\",\"SkinThickness\",\"Insulin\",\"BMI\"] #제로컬럼 나열(문제가 되는 피처들)\r\n",
        "print(X[[\"Glucose\",\"BloodPressure\",\"SkinThickness\",\"Insulin\",\"BMI\"]].describe()) #Insulin은 mean(79.8) 에 비해 std(편차 115.2)가 많이 떨어져있음\r\n",
        "#Insulin의 max값을 보았을 때 편차가 지나치게 커서 평균보다는 중위값이 적당"
      ],
      "execution_count": null,
      "outputs": [
        {
          "output_type": "stream",
          "text": [
            "          Glucose  BloodPressure  SkinThickness     Insulin         BMI\n",
            "count  768.000000     768.000000     768.000000  768.000000  768.000000\n",
            "mean   120.894531      69.105469      20.536458   79.799479   31.992578\n",
            "std     31.972618      19.355807      15.952218  115.244002    7.884160\n",
            "min      0.000000       0.000000       0.000000    0.000000    0.000000\n",
            "25%     99.000000      62.000000       0.000000    0.000000   27.300000\n",
            "50%    117.000000      72.000000      23.000000   30.500000   32.000000\n",
            "75%    140.250000      80.000000      32.000000  127.250000   36.600000\n",
            "max    199.000000     122.000000      99.000000  846.000000   67.100000\n"
          ],
          "name": "stdout"
        }
      ]
    },
    {
      "cell_type": "code",
      "metadata": {
        "id": "DeTU0NhsHwyq"
      },
      "source": [
        "zero_column_mean = X[zero_column].median().round(1) #제로컬럼에 해당하는 각각의 중위값을 담음\r\n",
        "X[zero_column] = X[zero_column].replace(0, zero_column_mean) #replace : 어떠한 값으로 바꾸어줄지를 설정 , 0인 애들을 중위값으로 채움"
      ],
      "execution_count": null,
      "outputs": []
    },
    {
      "cell_type": "code",
      "metadata": {
        "colab": {
          "base_uri": "https://localhost:8080/"
        },
        "id": "MC1qfNavLw6k",
        "outputId": "824a5fd8-402c-4e6c-e286-70c09e7e32b1"
      },
      "source": [
        "X_train ,X_test , y_train, y_test = train_test_split(X, y, test_size=0.2, random_state=121)\r\n",
        "#rf_model = RandomForestClassifier()\r\n",
        "rf_model.fit(X_train, y_train)\r\n",
        "pred = rf_model.predict(X_test)\r\n",
        "GET_MY_SCORE(y_test, pred, \"아웃라이어/특이값(0) 처리 후 점수\") #점수 찍어보기"
      ],
      "execution_count": null,
      "outputs": [
        {
          "output_type": "stream",
          "text": [
            "------아웃라이어/특이값(0) 처리 후 점수-------\n",
            "정확도0.8377  F1 0.7368=(정밀도0.8537  재현률0.6481) rocauc0.7941\n",
            "[[94  6]\n",
            " [19 35]]\n"
          ],
          "name": "stdout"
        }
      ]
    },
    {
      "cell_type": "code",
      "metadata": {
        "colab": {
          "base_uri": "https://localhost:8080/"
        },
        "id": "uzTgwJ3aL3Kf",
        "outputId": "20e1b4ef-6727-45ae-8bca-f884575ec5de"
      },
      "source": [
        "#-----------------------------------------\r\n",
        "#나이 구간화 / 인코딩 25~75세\r\n",
        "#-----------------------------------------\r\n",
        "X[\"Age_cate\"] = X[\"Age\"].apply(lambda x : int(x//10))#해당하는 나이는 나이 구간으로 집어넣음, 몫으로 가지고 옴\r\n",
        "X = pd.get_dummies(data=X , columns=[\"Age_cate\"], prefix = \"OH_Age_cate\") #drop.first=True : 원본을 지워버림\r\n",
        "print(X.info())\r\n",
        "# print(X[[\"Age_cate\",\"Age\"]].head())  #인코딩 후 Age_cate는 자동 삭제   --- drop_first=False 동작X\r\n",
        "\r\n",
        "X_train ,X_test , y_train, y_test = train_test_split(X, y, test_size=0.2, random_state=121)\r\n",
        "rf_model.fit(X_train, y_train)\r\n",
        "pred = rf_model.predict(X_test)\r\n",
        "#print(X[[\"Age_cate\", \"Age\"]].head()) #에러 발생 , OH_Age_cate_2  부터 시작하는 이유는 20대 부터 시작, 인코딩 후 Age_cate는 자동 삭제-->drop_first=False 동작x\r\n",
        "GET_MY_SCORE(y_test, pred, \"Age 인코딩/범주화 후 점수\") #점수 찍어보기"
      ],
      "execution_count": null,
      "outputs": [
        {
          "output_type": "stream",
          "text": [
            "<class 'pandas.core.frame.DataFrame'>\n",
            "RangeIndex: 768 entries, 0 to 767\n",
            "Data columns (total 15 columns):\n",
            " #   Column                    Non-Null Count  Dtype  \n",
            "---  ------                    --------------  -----  \n",
            " 0   Pregnancies               768 non-null    int64  \n",
            " 1   Glucose                   768 non-null    int64  \n",
            " 2   BloodPressure             768 non-null    int64  \n",
            " 3   SkinThickness             768 non-null    int64  \n",
            " 4   Insulin                   768 non-null    float64\n",
            " 5   BMI                       768 non-null    float64\n",
            " 6   DiabetesPedigreeFunction  768 non-null    float64\n",
            " 7   Age                       768 non-null    int64  \n",
            " 8   OH_Age_cate_2             768 non-null    uint8  \n",
            " 9   OH_Age_cate_3             768 non-null    uint8  \n",
            " 10  OH_Age_cate_4             768 non-null    uint8  \n",
            " 11  OH_Age_cate_5             768 non-null    uint8  \n",
            " 12  OH_Age_cate_6             768 non-null    uint8  \n",
            " 13  OH_Age_cate_7             768 non-null    uint8  \n",
            " 14  OH_Age_cate_8             768 non-null    uint8  \n",
            "dtypes: float64(3), int64(5), uint8(7)\n",
            "memory usage: 53.4 KB\n",
            "None\n",
            "------Age 인코딩/범주화 후 점수-------\n",
            "정확도0.8052  F1 0.6667=(정밀도0.8333  재현률0.5556) rocauc0.7478\n",
            "[[94  6]\n",
            " [24 30]]\n"
          ],
          "name": "stdout"
        }
      ]
    },
    {
      "cell_type": "code",
      "metadata": {
        "colab": {
          "base_uri": "https://localhost:8080/"
        },
        "id": "5peac4VAL884",
        "outputId": "583d28ec-de21-4783-e8e3-4e6fc0730f2b"
      },
      "source": [
        "#--- outlier 박스 플롯.. 이상여부.. 드롭..\r\n",
        "\r\n",
        "#-----------------------------------------\r\n",
        "# 스케일링/정규화(가공) : RobustScaler, MinMaxScaler, StandardScaler\r\n",
        "# 일반적인 상황에서 아웃라이어 처리하고 사용해야 --> 효과를 볼 수 있음\r\n",
        "#-----------------------------------------\r\n",
        "#각각의 스케일러 모델을 사용해서 점수 확인\r\n",
        "# scaler = RobustScaler()\r\n",
        "# scaler = MinMaxScaler()\r\n",
        "scaler  = StandardScaler()\r\n",
        "X_scaler = scaler.fit_transform(X) #Age 범주화 된 X데이터 스케일링\r\n",
        "\r\n",
        "X_train ,X_test , y_train, y_test = train_test_split(X_scaler, y, test_size=0.2, random_state=121)\r\n",
        "rf_model.fit(X_train, y_train)\r\n",
        "pred = rf_model.predict(X_test)\r\n",
        "GET_MY_SCORE(y_test, pred, \"스케일링/정규화 후 점수\")"
      ],
      "execution_count": null,
      "outputs": [
        {
          "output_type": "stream",
          "text": [
            "------스케일링/정규화 후 점수-------\n",
            "정확도0.8247  F1 0.7216=(정밀도0.8140  재현률0.6481) rocauc0.7841\n",
            "[[92  8]\n",
            " [19 35]]\n"
          ],
          "name": "stdout"
        }
      ]
    },
    {
      "cell_type": "code",
      "metadata": {
        "colab": {
          "base_uri": "https://localhost:8080/",
          "height": 490
        },
        "id": "N1gisSyHMGfW",
        "outputId": "d6c85623-5446-4c5a-e59a-efffb2648787"
      },
      "source": [
        "#-----------------------------------------\r\n",
        "# precision_recall_curve : 임계치 확인\r\n",
        "#-----------------------------------------\r\n",
        "proba = rf_model.predict_proba(X_test)  #.predict(X_test), #proba(1이 나올 확룰)를 얻을 수 있다\r\n",
        "print(pred[:10]) #양쪽 [0.97 0.03] 등의 수치를 이용해 0과 1중 더 비중이 높은 곳으로 0,1 값을 출력\r\n",
        "print(proba[:10])\r\n",
        "\r\n",
        "precision, recall, th = precision_recall_curve(y_test, proba[:,1])#precision_recall_curve를 그리면 precision, recall, th가 나옴, proba[:,1] : 양의 값만 달라\r\n",
        "print(len(precision), len(recall), len(th)) #차트 그리려면 54 54 53 로 len(th)가 하나 부족해서 에러가 발생, 나머지것들에서 하나씩 뺴는 방식 사용\r\n",
        "plt.plot(th, precision[:len(th)], label=\"precision\") #차트 그리려면 54 54 53 로 len(th)가 하나 부족해서 에러가 발생, 나머지것들에서 하나씩 뺴는 방식 사용\r\n",
        "plt.plot(th, recall[:len(th)]   , label=\"recall\") # label= : 범례\r\n",
        "plt.xlabel(\"threadshold\") #x축\r\n",
        "plt.ylabel(\"precision & recall value\") #y축\r\n",
        "plt.legend()  #plt.legend([\"precision\",\"recall\"])\r\n",
        "plt.grid()\r\n",
        "plt.show()\r\n",
        "#가장 최적을 내는 임계치를 잡으면 임의로 score을 올릴 수 있음"
      ],
      "execution_count": null,
      "outputs": [
        {
          "output_type": "stream",
          "text": [
            "[0 0 0 1 0 0 0 0 1 0]\n",
            "[[0.98 0.02]\n",
            " [0.95 0.05]\n",
            " [0.53 0.47]\n",
            " [0.48 0.52]\n",
            " [0.53 0.47]\n",
            " [0.94 0.06]\n",
            " [0.55 0.45]\n",
            " [0.93 0.07]\n",
            " [0.49 0.51]\n",
            " [0.67 0.33]]\n",
            "54 54 53\n"
          ],
          "name": "stdout"
        },
        {
          "output_type": "display_data",
          "data": {
            "image/png": "[encoded data removed]",
            "text/plain": [
              "<Figure size 432x288 with 1 Axes>"
            ]
          },
          "metadata": {
            "tags": [],
            "needs_background": "light"
          }
        }
      ]
    },
    {
      "cell_type": "code",
      "metadata": {
        "colab": {
          "base_uri": "https://localhost:8080/",
          "height": 295
        },
        "id": "hj_nlT4iMPvw",
        "outputId": "3d78bcfe-74c2-4444-958e-27e5350ef938"
      },
      "source": [
        "#--------------------------------------\r\n",
        "# 실행은 아래 # precision_recall_curv : 임계치 튜닝을 통한 점수 보정 이 먼저\r\n",
        "# roc_auc_curv(양의 비율과 음의 비율을 나타냄)\r\n",
        "# th가 1에 가까워지면 정밀도, 0에 가까워지면 재현율이 커짐\r\n",
        "#--------------------------------------\r\n",
        "fpr, tpr, th = roc_curve(y_test, proba[:,1])\r\n",
        "auc = roc_auc_score(y_test, proba[:, 1].reshape(-1, 1))\r\n",
        "plt.plot(fpr, tpr, label='ROC')\r\n",
        "plt.plot([0,1], [0,1], label='th:0.5')#기준선 [0,1] : 0에서 1까지\r\n",
        "plt.title(auc) #auc 점수\r\n",
        "plt.xlabel(\"FPR\")\r\n",
        "plt.ylabel(\"TPR(recall)\")\r\n",
        "plt.grid()\r\n",
        "plt.show()"
      ],
      "execution_count": null,
      "outputs": [
        {
          "output_type": "display_data",
          "data": {
            "image/png": "[encoded data removed]",
            "text/plain": [
              "<Figure size 432x288 with 1 Axes>"
            ]
          },
          "metadata": {
            "tags": [],
            "needs_background": "light"
          }
        }
      ]
    },
    {
      "cell_type": "code",
      "metadata": {
        "colab": {
          "base_uri": "https://localhost:8080/"
        },
        "id": "jbCYJ44XMS56",
        "outputId": "7a29071b-83b0-4e83-fe37-e669693a5d24"
      },
      "source": [
        "#--------------------------------------\r\n",
        "# precision_recall_curv : 임계치 튜닝을 통한 점수 보정\r\n",
        "#--------------------------------------\r\n",
        "#my_th = [.4, .43, .45, .47, .49, .51, .53] #적정수준을 찾고 나머지는 버리면 됨\r\n",
        "#아래는 임계치와 재현율의 점수를 보기위해 범위를 넓게 설정, 아래 행 학습 겸 주석 풀고 실행해보기\r\n",
        "my_th = [.2, .4, .6, .8, 1.0] #n 올라갈수록 th가 우측으로 이동 (정밀도가 1에 가까워 지는 것), p가 올라갈수록(커질수록) 재현율이 상승함\r\n",
        "for th in my_th:#for문 이용해서 회전(임의의 임계치 범위 내)\r\n",
        "    print(\"N : P\", th, 1 - th) #N 과 P의 비율을 출력, th : nagative, 1-th : positive,  N : P  약 0.4 0.6\r\n",
        "\r\n",
        "    rf_model.fit(X_train, y_train)\r\n",
        "    pred = rf_model.predict(X_test)\r\n",
        "    proba = rf_model.predict_proba(X_test)\r\n",
        "    GET_MY_SCORE(y_test, pred)#임계치값 바꾸며 점수가 오르는 것을 확인, proba는 못봄\r\n",
        "\r\n",
        "    bn = Binarizer(threshold=th) #threshold=my_th : 임계치를 줌. 0보다 크면 1, 0보다 작으면 0, th: 한개씩 꺼냄, my_th : 0.4, 0.43, 0.45 순서로 진행\r\n",
        "    fit_trans = bn.fit_transform(proba[:, 1].reshape(-1, 1)) #bn을 이용해서 fit, trandform을 한번에 함, proba[:,1]: proba값을 주고 proba값은 행렬로 나옴\r\n",
        "    #reshape(-1,1)) : 행 렬 (1, 4) 와 같이 나오는걸 (4,1)의 형태로 바꾸기 위함, -1은 있는 값을 다 가져오라는 뜻(다시 metrix로 출력(세로줄 메트릭스))\r\n",
        "    #proba는 위의 my_th 기준으로 작을떄는 0, 클때는 1을 출력, 임계치를 올리면 정밀도가 올라감\r\n",
        "    auc = roc_auc_score(y_test, proba[:, 1].reshape(-1, 1))\r\n",
        "    print(auc) #양의 정수 값 출력\r\n",
        "    # N : P 0.4 0.6 일때 F1 0.6667 , N : P 0.43 0.5700000000000001 일때 F1 0.7292, 즉 임계치가 오를때 재현율이 같이 오르고 있고, N : P 0.51 0.49 일떄가 가장 높다\r\n",
        "    #positive 가 작아진다는 것은 nagative 학습을 많이 시킨다는것(재현율이 낮아짐)\r\n",
        "    #가장 조화로운 값은 N : P 0.53 0.47 일때 F1 0.7677 (정밀도0.8444 재현률0.7037) 가 나옴 (그래프 확인)\r\n",
        "#우리 모델은 양성학습이 잘 안 됨"
      ],
      "execution_count": null,
      "outputs": [
        {
          "output_type": "stream",
          "text": [
            "N : P 0.2 0.8\n",
            "------None-------\n",
            "정확도0.8312  F1 0.7347=(정밀도0.8182  재현률0.6667) rocauc0.7933\n",
            "[[92  8]\n",
            " [18 36]]\n",
            "0.927037037037037\n",
            "N : P 0.4 0.6\n",
            "------None-------\n",
            "정확도0.8442  F1 0.7500=(정밀도0.8571  재현률0.6667) rocauc0.8033\n",
            "[[94  6]\n",
            " [18 36]]\n",
            "0.9204629629629629\n",
            "N : P 0.6 0.4\n",
            "------None-------\n",
            "정확도0.8117  F1 0.6882=(정밀도0.8205  재현률0.5926) rocauc0.7613\n",
            "[[93  7]\n",
            " [22 32]]\n",
            "0.9056481481481482\n",
            "N : P 0.8 0.19999999999999996\n",
            "------None-------\n",
            "정확도0.8052  F1 0.6809=(정밀도0.8000  재현률0.5926) rocauc0.7563\n",
            "[[92  8]\n",
            " [22 32]]\n",
            "0.9192592592592592\n",
            "N : P 1.0 0.0\n",
            "------None-------\n",
            "정확도0.8247  F1 0.7097=(정밀도0.8462  재현률0.6111) rocauc0.7756\n",
            "[[94  6]\n",
            " [21 33]]\n",
            "0.907962962962963\n"
          ],
          "name": "stdout"
        }
      ]
    },
    {
      "cell_type": "code",
      "metadata": {
        "colab": {
          "base_uri": "https://localhost:8080/"
        },
        "id": "68Lwqnf9MWtz",
        "outputId": "2eb83974-9e20-4f06-8de7-fb1d1a1ee360"
      },
      "source": [
        "#N배화 했으나 점수가 좋지 않아 주석처리(문법공부)\r\n",
        "from sklearn.model_selection import cross_validate\r\n",
        "my_score={\"acc\":\"accuracy\", \"f1\":\"f1\"} #scoring 여러개 주는 방법\r\n",
        "score_list = cross_validate(rf_model, X_scaler, y, scoring=my_score, cv=5, verbose=0) #랜덤포레스트 모델로 연습, verbose=0 : 로그 종류, 위 기능을 한 줄로 바꿀 수 있음\r\n",
        "print(\"score_list----->\", score_list)\r\n",
        "score_df = pd.DataFrame(score_list)\r\n",
        "print(score_df.head())\r\n",
        "print(\"cross_validation 평균 정확도\", score_df[\"test_acc\"].mean())\r\n",
        "print(\"cross_validation 평균 f1\", score_df[\"test_f1\"].mean())"
      ],
      "execution_count": null,
      "outputs": [
        {
          "output_type": "stream",
          "text": [
            "score_list-----> {'fit_time': array([0.18624997, 0.18296075, 0.17482138, 0.18960524, 0.17294478]), 'score_time': array([0.01102185, 0.01176238, 0.01145339, 0.01070452, 0.01071596]), 'test_acc': array([0.77922078, 0.72727273, 0.74025974, 0.83006536, 0.74509804]), 'test_f1': array([0.67307692, 0.59615385, 0.56521739, 0.73469388, 0.58947368])}\n",
            "   fit_time  score_time  test_acc   test_f1\n",
            "0  0.186250    0.011022  0.779221  0.673077\n",
            "1  0.182961    0.011762  0.727273  0.596154\n",
            "2  0.174821    0.011453  0.740260  0.565217\n",
            "3  0.189605    0.010705  0.830065  0.734694\n",
            "4  0.172945    0.010716  0.745098  0.589474\n",
            "cross_validation 평균 정확도 0.7643833290892115\n",
            "cross_validation 평균 f1 0.6317231444593328\n"
          ],
          "name": "stdout"
        }
      ]
    },
    {
      "cell_type": "code",
      "metadata": {
        "colab": {
          "base_uri": "https://localhost:8080/"
        },
        "id": "LAqDY0onMdSe",
        "outputId": "6fdc61c5-3a42-43db-ea6a-2ca06b2f1103"
      },
      "source": [
        "#점수가 안좋게 나와서 주석처리(문법공부)\r\n",
        "#-----------------------------------------\r\n",
        "# 데이터 적은 경우 --> 데이터 증강 ==> K\r\n",
        "\r\n",
        "#-----------------------------------------\r\n",
        "my_score={\"acc\":\"accuracy\", \"f1\":\"f1\"}\r\n",
        "my_hyper_param = { \"n_estimators\"    :[100],#,300],\r\n",
        "                   \"max_depth\"       :[7,9,11], #바꿔서 튜닝\r\n",
        "                   \"min_samples_leaf\":[3,5,7,9],\r\n",
        "                   \"random_state\" : [121,]}\r\n",
        "\r\n",
        "gcv_model = GridSearchCV(rf_model, param_grid=my_hyper_param, scoring=my_score, refit=\"f1\", cv=5, verbose=0)\r\n",
        "#---- 이하 학습 동일 --------------------\r\n",
        "# fit : 학습하다\r\n",
        "gcv_model.fit(X_train, y_train)\r\n",
        "print(\"best_estimator_\", gcv_model.best_estimator_)\r\n",
        "print(\"best_params_\",    gcv_model.best_params_)\r\n",
        "print(\"best_score_\" ,    gcv_model.best_score_)\r\n",
        "#이하가 꺼내는 방법 차이\r\n",
        "print(\"GridSearchCV 평균 정확도 : \" , gcv_model.cv_results_[\"mean_test_acc\"].mean())  #mean_test_(본인의score키값), print(gcv_df.info())확인\r\n",
        "print(\"GridSearchCV 평균 F1 : \"    , gcv_model.cv_results_[\"mean_test_f1\"].mean())  #f1스코어는 버려야할 수준, .cv_results_ :그리드 서치의 결과, 내장함수"
      ],
      "execution_count": null,
      "outputs": [
        {
          "output_type": "stream",
          "text": [
            "best_estimator_ RandomForestClassifier(bootstrap=True, ccp_alpha=0.0, class_weight=None,\n",
            "                       criterion='gini', max_depth=9, max_features='auto',\n",
            "                       max_leaf_nodes=None, max_samples=None,\n",
            "                       min_impurity_decrease=0.0, min_impurity_split=None,\n",
            "                       min_samples_leaf=5, min_samples_split=2,\n",
            "                       min_weight_fraction_leaf=0.0, n_estimators=100,\n",
            "                       n_jobs=None, oob_score=False, random_state=121,\n",
            "                       verbose=0, warm_start=False)\n",
            "best_params_ {'max_depth': 9, 'min_samples_leaf': 5, 'n_estimators': 100, 'random_state': 121}\n",
            "best_score_ 0.5989799477085107\n",
            "GridSearchCV 평균 정확도 :  0.7373972633168955\n",
            "GridSearchCV 평균 F1 :  0.5810624465147757\n"
          ],
          "name": "stdout"
        }
      ]
    },
    {
      "cell_type": "code",
      "metadata": {
        "id": "fcgVBDgmMnBO"
      },
      "source": [
        ""
      ],
      "execution_count": null,
      "outputs": []
    }
  ]
}